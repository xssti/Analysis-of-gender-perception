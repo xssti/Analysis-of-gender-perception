{
 "cells": [
  {
   "cell_type": "markdown",
   "id": "bf84136f-7701-49d0-a1be-3fbc40b3c2cd",
   "metadata": {},
   "source": [
    "# Merge Files"
   ]
  },
  {
   "cell_type": "code",
   "execution_count": 1,
   "id": "75ebccea-01bc-45ac-8cc9-d188adf04493",
   "metadata": {
    "tags": []
   },
   "outputs": [
    {
     "name": "stdout",
     "output_type": "stream",
     "text": [
      "Merged data for 1803 and saved to 1803-merged.txt\n",
      "Merged data for 1804 and saved to 1804-merged.txt\n",
      "Merged data for 1805 and saved to 1805-merged.txt\n",
      "Merged data for 1806 and saved to 1806-merged.txt\n",
      "Merged data for 1807 and saved to 1807-merged.txt\n",
      "Merged data for 1808 and saved to 1808-merged.txt\n",
      "Merged data for 1809 and saved to 1809-merged.txt\n",
      "Merged data for 1810 and saved to 1810-merged.txt\n",
      "Merged data for 1811 and saved to 1811-merged.txt\n",
      "Merged data for 1812 and saved to 1812-merged.txt\n",
      "Merged data for 1813 and saved to 1813-merged.txt\n",
      "Merged data for 1814 and saved to 1814-merged.txt\n",
      "Merged data for 1815 and saved to 1815-merged.txt\n",
      "Merged data for 1816 and saved to 1816-merged.txt\n",
      "Merged data for 1817 and saved to 1817-merged.txt\n",
      "Merged data for 1818 and saved to 1818-merged.txt\n",
      "Merged data for 1819 and saved to 1819-merged.txt\n",
      "Merged data for 1820 and saved to 1820-merged.txt\n",
      "Merged data for 1821 and saved to 1821-merged.txt\n",
      "Merged data for 1822 and saved to 1822-merged.txt\n",
      "Merged data for 1823 and saved to 1823-merged.txt\n",
      "Merged data for 1824 and saved to 1824-merged.txt\n",
      "Merged data for 1825 and saved to 1825-merged.txt\n",
      "Merged data for 1826 and saved to 1826-merged.txt\n",
      "Merged data for 1827 and saved to 1827-merged.txt\n",
      "Merged data for 1828 and saved to 1828-merged.txt\n",
      "Merged data for 1829 and saved to 1829-merged.txt\n",
      "Merged data for 1830 and saved to 1830-merged.txt\n",
      "Merged data for 1831 and saved to 1831-merged.txt\n",
      "Merged data for 1832 and saved to 1832-merged.txt\n",
      "Merged data for 1833 and saved to 1833-merged.txt\n",
      "Merged data for 1834 and saved to 1834-merged.txt\n",
      "Merged data for 1835 and saved to 1835-merged.txt\n",
      "Merged data for 1836 and saved to 1836-merged.txt\n",
      "Merged data for 1837 and saved to 1837-merged.txt\n",
      "Merged data for 1838 and saved to 1838-merged.txt\n",
      "Merged data for 1839 and saved to 1839-merged.txt\n",
      "Merged data for 1840 and saved to 1840-merged.txt\n",
      "Merged data for 1841 and saved to 1841-merged.txt\n",
      "Merged data for 1842 and saved to 1842-merged.txt\n",
      "Merged data for 1843 and saved to 1843-merged.txt\n",
      "Merged data for 1844 and saved to 1844-merged.txt\n",
      "Merged data for 1845 and saved to 1845-merged.txt\n",
      "Merged data for 1846 and saved to 1846-merged.txt\n",
      "Merged data for 1847 and saved to 1847-merged.txt\n",
      "Merged data for 1848 and saved to 1848-merged.txt\n",
      "Merged data for 1849 and saved to 1849-merged.txt\n",
      "Merged data for 1850 and saved to 1850-merged.txt\n",
      "Merged data for 1851 and saved to 1851-merged.txt\n",
      "Merged data for 1852 and saved to 1852-merged.txt\n",
      "Merged data for 1853 and saved to 1853-merged.txt\n",
      "Merged data for 1854 and saved to 1854-merged.txt\n",
      "Merged data for 1855 and saved to 1855-merged.txt\n",
      "Merged data for 1856 and saved to 1856-merged.txt\n",
      "Merged data for 1857 and saved to 1857-merged.txt\n",
      "Merged data for 1858 and saved to 1858-merged.txt\n",
      "Merged data for 1859 and saved to 1859-merged.txt\n",
      "Merged data for 1860 and saved to 1860-merged.txt\n",
      "Merged data for 1861 and saved to 1861-merged.txt\n",
      "Merged data for 1862 and saved to 1862-merged.txt\n",
      "Merged data for 1863 and saved to 1863-merged.txt\n",
      "Merged data for 1864 and saved to 1864-merged.txt\n",
      "Merged data for 1865 and saved to 1865-merged.txt\n",
      "Merged data for 1866 and saved to 1866-merged.txt\n",
      "Merged data for 1867 and saved to 1867-merged.txt\n",
      "Merged data for 1868 and saved to 1868-merged.txt\n",
      "Merged data for 1869 and saved to 1869-merged.txt\n",
      "Merged data for 1870 and saved to 1870-merged.txt\n",
      "Merged data for 1871 and saved to 1871-merged.txt\n",
      "Merged data for 1872 and saved to 1872-merged.txt\n",
      "Merged data for 1873 and saved to 1873-merged.txt\n",
      "Merged data for 1874 and saved to 1874-merged.txt\n",
      "Merged data for 1875 and saved to 1875-merged.txt\n",
      "Merged data for 1876 and saved to 1876-merged.txt\n",
      "Merged data for 1877 and saved to 1877-merged.txt\n",
      "Merged data for 1878 and saved to 1878-merged.txt\n",
      "Merged data for 1879 and saved to 1879-merged.txt\n",
      "Merged data for 1880 and saved to 1880-merged.txt\n",
      "Merged data for 1881 and saved to 1881-merged.txt\n",
      "Merged data for 1882 and saved to 1882-merged.txt\n",
      "Merged data for 1883 and saved to 1883-merged.txt\n",
      "Merged data for 1884 and saved to 1884-merged.txt\n",
      "Merged data for 1885 and saved to 1885-merged.txt\n",
      "Merged data for 1886 and saved to 1886-merged.txt\n",
      "Merged data for 1887 and saved to 1887-merged.txt\n",
      "Merged data for 1888 and saved to 1888-merged.txt\n",
      "Merged data for 1889 and saved to 1889-merged.txt\n",
      "Merged data for 1890 and saved to 1890-merged.txt\n",
      "Merged data for 1891 and saved to 1891-merged.txt\n",
      "Merged data for 1892 and saved to 1892-merged.txt\n",
      "Merged data for 1893 and saved to 1893-merged.txt\n",
      "Merged data for 1894 and saved to 1894-merged.txt\n",
      "Merged data for 1895 and saved to 1895-merged.txt\n",
      "Merged data for 1896 and saved to 1896-merged.txt\n",
      "Merged data for 1897 and saved to 1897-merged.txt\n",
      "Merged data for 1898 and saved to 1898-merged.txt\n",
      "Merged data for 1899 and saved to 1899-merged.txt\n",
      "Merged data for 1900 and saved to 1900-merged.txt\n",
      "Merged data for 1901 and saved to 1901-merged.txt\n",
      "Merged data for 1902 and saved to 1902-merged.txt\n",
      "Merged data for 1903 and saved to 1903-merged.txt\n",
      "Merged data for 1904 and saved to 1904-merged.txt\n",
      "Merged data for 1905 and saved to 1905-merged.txt\n",
      "Merged data for 1906 and saved to 1906-merged.txt\n",
      "Merged data for 1907 and saved to 1907-merged.txt\n",
      "Merged data for 1908 and saved to 1908-merged.txt\n",
      "Merged data for 1909 and saved to 1909-merged.txt\n",
      "Merged data for 1910 and saved to 1910-merged.txt\n",
      "Merged data for 1911 and saved to 1911-merged.txt\n",
      "Merged data for 1912 and saved to 1912-merged.txt\n",
      "Merged data for 1913 and saved to 1913-merged.txt\n",
      "Merged data for 1914 and saved to 1914-merged.txt\n",
      "Merged data for 1915 and saved to 1915-merged.txt\n",
      "Merged data for 1916 and saved to 1916-merged.txt\n",
      "Merged data for 1917 and saved to 1917-merged.txt\n",
      "Merged data for 1918 and saved to 1918-merged.txt\n",
      "Merged data for 1919 and saved to 1919-merged.txt\n",
      "Merged data for 1920 and saved to 1920-merged.txt\n",
      "Merged data for 1921 and saved to 1921-merged.txt\n",
      "Merged data for 1922 and saved to 1922-merged.txt\n",
      "Merged data for 1923 and saved to 1923-merged.txt\n",
      "Merged data for 1924 and saved to 1924-merged.txt\n",
      "Merged data for 1925 and saved to 1925-merged.txt\n",
      "Merged data for 1926 and saved to 1926-merged.txt\n",
      "Merged data for 1927 and saved to 1927-merged.txt\n",
      "Merged data for 1928 and saved to 1928-merged.txt\n",
      "Merged data for 1929 and saved to 1929-merged.txt\n",
      "Merged data for 1930 and saved to 1930-merged.txt\n",
      "Merged data for 1931 and saved to 1931-merged.txt\n",
      "Merged data for 1932 and saved to 1932-merged.txt\n",
      "Merged data for 1933 and saved to 1933-merged.txt\n",
      "Merged data for 1934 and saved to 1934-merged.txt\n",
      "Merged data for 1935 and saved to 1935-merged.txt\n",
      "Merged data for 1936 and saved to 1936-merged.txt\n",
      "Merged data for 1937 and saved to 1937-merged.txt\n",
      "Merged data for 1938 and saved to 1938-merged.txt\n",
      "Merged data for 1939 and saved to 1939-merged.txt\n",
      "Merged data for 1940 and saved to 1940-merged.txt\n",
      "Merged data for 1941 and saved to 1941-merged.txt\n",
      "Merged data for 1942 and saved to 1942-merged.txt\n",
      "Merged data for 1943 and saved to 1943-merged.txt\n",
      "Merged data for 1944 and saved to 1944-merged.txt\n",
      "Merged data for 1945 and saved to 1945-merged.txt\n",
      "Merged data for 1946 and saved to 1946-merged.txt\n",
      "Merged data for 1947 and saved to 1947-merged.txt\n",
      "Merged data for 1948 and saved to 1948-merged.txt\n",
      "Merged data for 1949 and saved to 1949-merged.txt\n",
      "Merged data for 1950 and saved to 1950-merged.txt\n",
      "Merged data for 1951 and saved to 1951-merged.txt\n",
      "Merged data for 1952 and saved to 1952-merged.txt\n",
      "Merged data for 1953 and saved to 1953-merged.txt\n",
      "Merged data for 1954 and saved to 1954-merged.txt\n",
      "Merged data for 1955 and saved to 1955-merged.txt\n",
      "Merged data for 1956 and saved to 1956-merged.txt\n",
      "Merged data for 1957 and saved to 1957-merged.txt\n",
      "Merged data for 1958 and saved to 1958-merged.txt\n",
      "Merged data for 1959 and saved to 1959-merged.txt\n",
      "Merged data for 1960 and saved to 1960-merged.txt\n",
      "Merged data for 1961 and saved to 1961-merged.txt\n",
      "Merged data for 1962 and saved to 1962-merged.txt\n",
      "Merged data for 1963 and saved to 1963-merged.txt\n",
      "Merged data for 1964 and saved to 1964-merged.txt\n",
      "Merged data for 1965 and saved to 1965-merged.txt\n",
      "Merged data for 1966 and saved to 1966-merged.txt\n",
      "Merged data for 1967 and saved to 1967-merged.txt\n",
      "Merged data for 1968 and saved to 1968-merged.txt\n",
      "Merged data for 1969 and saved to 1969-merged.txt\n",
      "Merged data for 1970 and saved to 1970-merged.txt\n",
      "Merged data for 1971 and saved to 1971-merged.txt\n",
      "Merged data for 1972 and saved to 1972-merged.txt\n",
      "Merged data for 1973 and saved to 1973-merged.txt\n",
      "Merged data for 1974 and saved to 1974-merged.txt\n",
      "Merged data for 1975 and saved to 1975-merged.txt\n",
      "Merged data for 1976 and saved to 1976-merged.txt\n",
      "Merged data for 1977 and saved to 1977-merged.txt\n",
      "Merged data for 1978 and saved to 1978-merged.txt\n",
      "Merged data for 1979 and saved to 1979-merged.txt\n",
      "Merged data for 1980 and saved to 1980-merged.txt\n",
      "Merged data for 1981 and saved to 1981-merged.txt\n",
      "Merged data for 1982 and saved to 1982-merged.txt\n",
      "Merged data for 1983 and saved to 1983-merged.txt\n",
      "Merged data for 1984 and saved to 1984-merged.txt\n",
      "Merged data for 1985 and saved to 1985-merged.txt\n",
      "Merged data for 1986 and saved to 1986-merged.txt\n",
      "Merged data for 1987 and saved to 1987-merged.txt\n",
      "Merged data for 1988 and saved to 1988-merged.txt\n",
      "Merged data for 1989 and saved to 1989-merged.txt\n",
      "Merged data for 1990 and saved to 1990-merged.txt\n",
      "Merged data for 1991 and saved to 1991-merged.txt\n",
      "Merged data for 1992 and saved to 1992-merged.txt\n",
      "Merged data for 1993 and saved to 1993-merged.txt\n",
      "Merged data for 1994 and saved to 1994-merged.txt\n",
      "Merged data for 1995 and saved to 1995-merged.txt\n",
      "Merged data for 1996 and saved to 1996-merged.txt\n",
      "Merged data for 1997 and saved to 1997-merged.txt\n",
      "Merged data for 1998 and saved to 1998-merged.txt\n",
      "Merged data for 1999 and saved to 1999-merged.txt\n",
      "Merged data for 2000 and saved to 2000-merged.txt\n",
      "Merged data for 2001 and saved to 2001-merged.txt\n",
      "Merged data for 2002 and saved to 2002-merged.txt\n",
      "Merged data for 2003 and saved to 2003-merged.txt\n",
      "Merged data for 2004 and saved to 2004-merged.txt\n",
      "Merged data for 2005 and saved to 2005-merged.txt\n",
      "Merged data for 2006 and saved to 2006-merged.txt\n"
     ]
    }
   ],
   "source": [
    "import os\n",
    "\n",
    "# Set the directory path\n",
    "directory = \"/Users/shaistasyeda/Desktop/DataSet/TextFiles\"\n",
    "\n",
    "# Create a new file to store the merged contents\n",
    "for year in range(1803, 2007):\n",
    "    output_file_path = f\"{year}-merged.txt\"\n",
    "\n",
    "    with open(output_file_path, \"w\") as output_file:\n",
    "        # Loop through all files in the directory\n",
    "        for filename in os.listdir(directory):\n",
    "            # Check if the filename contains the year\n",
    "            if str(year) in filename:\n",
    "                # Open the file and read the contents\n",
    "                with open(os.path.join(directory, filename), \"r\") as file:\n",
    "                    contents = file.read()\n",
    "                    # Write the contents to the merged file\n",
    "                    output_file.write(contents)\n",
    "\n",
    "    print(f'Merged data for {year} and saved to {output_file_path}')"
   ]
  },
  {
   "cell_type": "code",
   "execution_count": 2,
   "id": "81730652-c116-4fe1-8406-a940073c74f6",
   "metadata": {
    "tags": []
   },
   "outputs": [],
   "source": [
    "import os\n",
    "import re"
   ]
  },
  {
   "cell_type": "code",
   "execution_count": 3,
   "id": "81520453-7490-48be-800b-e1da62e91f54",
   "metadata": {
    "tags": []
   },
   "outputs": [
    {
     "name": "stdout",
     "output_type": "stream",
     "text": [
      "Requirement already satisfied: nltk in /Users/shaistasyeda/anaconda3/lib/python3.11/site-packages (3.8.1)\n",
      "Requirement already satisfied: click in /Users/shaistasyeda/anaconda3/lib/python3.11/site-packages (from nltk) (8.0.4)\n",
      "Requirement already satisfied: joblib in /Users/shaistasyeda/anaconda3/lib/python3.11/site-packages (from nltk) (1.2.0)\n",
      "Requirement already satisfied: regex>=2021.8.3 in /Users/shaistasyeda/anaconda3/lib/python3.11/site-packages (from nltk) (2022.7.9)\n",
      "Requirement already satisfied: tqdm in /Users/shaistasyeda/anaconda3/lib/python3.11/site-packages (from nltk) (4.65.0)\n",
      "Note: you may need to restart the kernel to use updated packages.\n"
     ]
    }
   ],
   "source": [
    "pip install nltk"
   ]
  },
  {
   "cell_type": "code",
   "execution_count": 4,
   "id": "ff15462d-c2c0-45d5-bc98-838f85b046a6",
   "metadata": {
    "tags": []
   },
   "outputs": [
    {
     "name": "stdout",
     "output_type": "stream",
     "text": [
      "Requirement already satisfied: Cython in /Users/shaistasyeda/anaconda3/lib/python3.11/site-packages (3.0.3)\n",
      "Note: you may need to restart the kernel to use updated packages.\n"
     ]
    }
   ],
   "source": [
    "pip install Cython"
   ]
  },
  {
   "cell_type": "code",
   "execution_count": 5,
   "id": "ee5789f2-5843-437c-a994-4cf056cc5676",
   "metadata": {
    "tags": []
   },
   "outputs": [
    {
     "name": "stdout",
     "output_type": "stream",
     "text": [
      "Requirement already satisfied: fasttext-wheel in /Users/shaistasyeda/anaconda3/lib/python3.11/site-packages (0.9.2)\n",
      "Requirement already satisfied: pybind11>=2.2 in /Users/shaistasyeda/anaconda3/lib/python3.11/site-packages (from fasttext-wheel) (2.11.1)\n",
      "Requirement already satisfied: setuptools>=0.7.0 in /Users/shaistasyeda/anaconda3/lib/python3.11/site-packages (from fasttext-wheel) (68.2.2)\n",
      "Requirement already satisfied: numpy in /Users/shaistasyeda/anaconda3/lib/python3.11/site-packages (from fasttext-wheel) (1.24.3)\n",
      "Note: you may need to restart the kernel to use updated packages.\n"
     ]
    }
   ],
   "source": [
    "pip install fasttext-wheel"
   ]
  },
  {
   "cell_type": "code",
   "execution_count": 6,
   "id": "cbc37065-430c-4442-a778-c66838ccb406",
   "metadata": {
    "tags": []
   },
   "outputs": [],
   "source": [
    "import nltk\n",
    "import string\n",
    "import os \n",
    "import fasttext\n",
    "import threading\n",
    "import editdistance\n",
    "import multiprocessing as mp\n",
    "from wordcloud import WordCloud\n",
    "import matplotlib.pyplot as plt\n",
    "from nltk.tokenize import word_tokenize\n",
    "from nltk import sent_tokenize, word_tokenize\n",
    "from nltk.corpus import stopwords\n",
    "from multiprocessing import Pool"
   ]
  },
  {
   "cell_type": "code",
   "execution_count": 7,
   "id": "9c4b8f25-3830-4460-bcce-7ba1c7e0368e",
   "metadata": {
    "tags": []
   },
   "outputs": [
    {
     "name": "stderr",
     "output_type": "stream",
     "text": [
      "[nltk_data] Downloading package punkt to\n",
      "[nltk_data]     /Users/shaistasyeda/nltk_data...\n",
      "[nltk_data]   Package punkt is already up-to-date!\n",
      "[nltk_data] Downloading package stopwords to\n",
      "[nltk_data]     /Users/shaistasyeda/nltk_data...\n",
      "[nltk_data]   Package stopwords is already up-to-date!\n"
     ]
    },
    {
     "data": {
      "text/plain": [
       "True"
      ]
     },
     "execution_count": 7,
     "metadata": {},
     "output_type": "execute_result"
    }
   ],
   "source": [
    "nltk.download('punkt')\n",
    "nltk.download('stopwords')"
   ]
  },
  {
   "cell_type": "markdown",
   "id": "71946484-fe5d-4450-bbbc-51c8bbdcf306",
   "metadata": {},
   "source": [
    "# Clean the files"
   ]
  },
  {
   "cell_type": "code",
   "execution_count": 35,
   "id": "10d78cfa-bde4-4300-b3d7-3f481f8cec01",
   "metadata": {
    "tags": []
   },
   "outputs": [],
   "source": [
    "# Function to clean text \n",
    "def clean_text(text):\n",
    "    # Convert to lowercase\n",
    "    text_lower = text.lower()\n",
    "\n",
    "    # Remove punctuation\n",
    "    text_no_punct = text_lower.translate(str.maketrans('', '', string.punctuation))\n",
    "\n",
    "    # Remove stop words\n",
    "    stop_words = set(stopwords.words('english'))\n",
    "    # Male pronouns\n",
    "    male_pronouns = [\"he\", \"him\", \"his\", \"himself\"]\n",
    "\n",
    "    # Female pronouns\n",
    "    female_pronouns = [\"she\", \"her\", \"hers\", \"herself\"]\n",
    "\n",
    "    # Exclude male and female pronouns from the stop words\n",
    "    stop_words -= set(male_pronouns + female_pronouns)\n",
    "    words = text_no_punct.split()\n",
    "    cleaned_words = [word for word in words if word.lower() not in stop_words]\n",
    "\n",
    "    return ' '.join(cleaned_words)"
   ]
  },
  {
   "cell_type": "code",
   "execution_count": 37,
   "id": "c788fb4d-5021-46cc-a09a-5d026b29ea8b",
   "metadata": {
    "tags": []
   },
   "outputs": [
    {
     "name": "stdout",
     "output_type": "stream",
     "text": [
      "{'do', 'until', 'how', 'about', 'haven', 's', \"shouldn't\", 'was', 'most', 'mightn', 'other', 'wasn', 'during', 'shouldn', 'through', 'these', \"that'll\", \"hasn't\", 'me', \"she's\", \"weren't\", 'its', 'at', 'here', 'yourselves', 'such', 'very', 'mustn', 'under', 'to', 'between', 'being', 'them', 'once', \"needn't\", 'won', 'yourself', 'each', 'shan', 'if', 'and', 'which', \"won't\", 'are', 'needn', 'just', \"isn't\", 'hadn', 'weren', 'ma', 'that', 'up', 'doesn', 'no', \"you've\", 'than', 'before', 'aren', 'ain', 'did', 'on', 'the', 'o', 'a', 'out', 'what', \"didn't\", 'down', 'as', 'itself', 't', 'so', 'is', 'couldn', 'myself', 'those', 'has', 'of', 'in', 'all', 'yours', 'why', 'when', 'am', 'with', 'after', \"couldn't\", 'isn', \"don't\", 'you', \"you'd\", 'my', 'only', 'y', \"wasn't\", \"mightn't\", 'didn', 'for', 'be', 'an', 'this', 'll', 'hasn', \"aren't\", 'themselves', 'whom', 'against', 've', 'does', 'should', 'theirs', 'but', 'have', 'over', \"you'll\", 'now', 'i', 'd', 'below', 'same', 'own', 'where', 'into', 'then', 'ours', 're', 'while', 'by', 'can', 'will', 'doing', 'we', 'too', \"haven't\", 'it', 'our', \"doesn't\", 'your', \"hadn't\", 'wouldn', 'nor', \"you're\", 'again', 'not', 'from', 'm', 'some', 'off', \"shan't\", 'few', 'there', 'don', 'ourselves', \"mustn't\", 'or', 'above', 'who', 'because', 'both', 'were', 'any', 'had', \"it's\", \"wouldn't\", 'they', 'more', 'having', \"should've\", 'their', 'further', 'been'}\n"
     ]
    }
   ],
   "source": [
    "# Get the English stop words\n",
    "stop_words = set(stopwords.words('english'))\n",
    "# Male pronouns\n",
    "male_pronouns = [\"he\", \"him\", \"his\", \"himself\"]\n",
    "\n",
    "# Female pronouns\n",
    "female_pronouns = [\"she\", \"her\", \"hers\", \"herself\"]\n",
    "\n",
    "# Exclude male and female pronouns from the stop words\n",
    "stop_words -= set(male_pronouns + female_pronouns)\n",
    "# Print the stop words\n",
    "print(stop_words)"
   ]
  },
  {
   "cell_type": "code",
   "execution_count": 38,
   "id": "16ce084b-b871-4db7-9f1d-d295307f2fd4",
   "metadata": {
    "tags": []
   },
   "outputs": [
    {
     "name": "stdout",
     "output_type": "stream",
     "text": [
      "Cleaned data for 1803 and saved to /Users/shaistasyeda/Desktop/DataSet/CleanedFiles-each-year/1803_cleaned.txt\n",
      "Cleaned data for 1804 and saved to /Users/shaistasyeda/Desktop/DataSet/CleanedFiles-each-year/1804_cleaned.txt\n",
      "Cleaned data for 1805 and saved to /Users/shaistasyeda/Desktop/DataSet/CleanedFiles-each-year/1805_cleaned.txt\n",
      "Cleaned data for 1806 and saved to /Users/shaistasyeda/Desktop/DataSet/CleanedFiles-each-year/1806_cleaned.txt\n",
      "Cleaned data for 1807 and saved to /Users/shaistasyeda/Desktop/DataSet/CleanedFiles-each-year/1807_cleaned.txt\n",
      "Cleaned data for 1808 and saved to /Users/shaistasyeda/Desktop/DataSet/CleanedFiles-each-year/1808_cleaned.txt\n",
      "Cleaned data for 1809 and saved to /Users/shaistasyeda/Desktop/DataSet/CleanedFiles-each-year/1809_cleaned.txt\n",
      "Cleaned data for 1810 and saved to /Users/shaistasyeda/Desktop/DataSet/CleanedFiles-each-year/1810_cleaned.txt\n",
      "Cleaned data for 1811 and saved to /Users/shaistasyeda/Desktop/DataSet/CleanedFiles-each-year/1811_cleaned.txt\n",
      "Cleaned data for 1812 and saved to /Users/shaistasyeda/Desktop/DataSet/CleanedFiles-each-year/1812_cleaned.txt\n",
      "Cleaned data for 1813 and saved to /Users/shaistasyeda/Desktop/DataSet/CleanedFiles-each-year/1813_cleaned.txt\n",
      "Cleaned data for 1814 and saved to /Users/shaistasyeda/Desktop/DataSet/CleanedFiles-each-year/1814_cleaned.txt\n",
      "Cleaned data for 1815 and saved to /Users/shaistasyeda/Desktop/DataSet/CleanedFiles-each-year/1815_cleaned.txt\n",
      "Cleaned data for 1816 and saved to /Users/shaistasyeda/Desktop/DataSet/CleanedFiles-each-year/1816_cleaned.txt\n",
      "Cleaned data for 1817 and saved to /Users/shaistasyeda/Desktop/DataSet/CleanedFiles-each-year/1817_cleaned.txt\n",
      "Cleaned data for 1818 and saved to /Users/shaistasyeda/Desktop/DataSet/CleanedFiles-each-year/1818_cleaned.txt\n",
      "Cleaned data for 1819 and saved to /Users/shaistasyeda/Desktop/DataSet/CleanedFiles-each-year/1819_cleaned.txt\n",
      "Cleaned data for 1820 and saved to /Users/shaistasyeda/Desktop/DataSet/CleanedFiles-each-year/1820_cleaned.txt\n",
      "Cleaned data for 1821 and saved to /Users/shaistasyeda/Desktop/DataSet/CleanedFiles-each-year/1821_cleaned.txt\n",
      "Cleaned data for 1822 and saved to /Users/shaistasyeda/Desktop/DataSet/CleanedFiles-each-year/1822_cleaned.txt\n",
      "Cleaned data for 1823 and saved to /Users/shaistasyeda/Desktop/DataSet/CleanedFiles-each-year/1823_cleaned.txt\n",
      "Cleaned data for 1824 and saved to /Users/shaistasyeda/Desktop/DataSet/CleanedFiles-each-year/1824_cleaned.txt\n",
      "Cleaned data for 1825 and saved to /Users/shaistasyeda/Desktop/DataSet/CleanedFiles-each-year/1825_cleaned.txt\n",
      "Cleaned data for 1826 and saved to /Users/shaistasyeda/Desktop/DataSet/CleanedFiles-each-year/1826_cleaned.txt\n",
      "Cleaned data for 1827 and saved to /Users/shaistasyeda/Desktop/DataSet/CleanedFiles-each-year/1827_cleaned.txt\n",
      "Cleaned data for 1828 and saved to /Users/shaistasyeda/Desktop/DataSet/CleanedFiles-each-year/1828_cleaned.txt\n",
      "Cleaned data for 1829 and saved to /Users/shaistasyeda/Desktop/DataSet/CleanedFiles-each-year/1829_cleaned.txt\n",
      "Cleaned data for 1830 and saved to /Users/shaistasyeda/Desktop/DataSet/CleanedFiles-each-year/1830_cleaned.txt\n",
      "Cleaned data for 1831 and saved to /Users/shaistasyeda/Desktop/DataSet/CleanedFiles-each-year/1831_cleaned.txt\n",
      "Cleaned data for 1832 and saved to /Users/shaistasyeda/Desktop/DataSet/CleanedFiles-each-year/1832_cleaned.txt\n",
      "Cleaned data for 1833 and saved to /Users/shaistasyeda/Desktop/DataSet/CleanedFiles-each-year/1833_cleaned.txt\n",
      "Cleaned data for 1834 and saved to /Users/shaistasyeda/Desktop/DataSet/CleanedFiles-each-year/1834_cleaned.txt\n",
      "Cleaned data for 1835 and saved to /Users/shaistasyeda/Desktop/DataSet/CleanedFiles-each-year/1835_cleaned.txt\n",
      "Cleaned data for 1836 and saved to /Users/shaistasyeda/Desktop/DataSet/CleanedFiles-each-year/1836_cleaned.txt\n",
      "Cleaned data for 1837 and saved to /Users/shaistasyeda/Desktop/DataSet/CleanedFiles-each-year/1837_cleaned.txt\n",
      "Cleaned data for 1838 and saved to /Users/shaistasyeda/Desktop/DataSet/CleanedFiles-each-year/1838_cleaned.txt\n",
      "Cleaned data for 1839 and saved to /Users/shaistasyeda/Desktop/DataSet/CleanedFiles-each-year/1839_cleaned.txt\n",
      "Cleaned data for 1840 and saved to /Users/shaistasyeda/Desktop/DataSet/CleanedFiles-each-year/1840_cleaned.txt\n",
      "Cleaned data for 1841 and saved to /Users/shaistasyeda/Desktop/DataSet/CleanedFiles-each-year/1841_cleaned.txt\n",
      "Cleaned data for 1842 and saved to /Users/shaistasyeda/Desktop/DataSet/CleanedFiles-each-year/1842_cleaned.txt\n",
      "Cleaned data for 1843 and saved to /Users/shaistasyeda/Desktop/DataSet/CleanedFiles-each-year/1843_cleaned.txt\n",
      "Cleaned data for 1844 and saved to /Users/shaistasyeda/Desktop/DataSet/CleanedFiles-each-year/1844_cleaned.txt\n",
      "Cleaned data for 1845 and saved to /Users/shaistasyeda/Desktop/DataSet/CleanedFiles-each-year/1845_cleaned.txt\n",
      "Cleaned data for 1846 and saved to /Users/shaistasyeda/Desktop/DataSet/CleanedFiles-each-year/1846_cleaned.txt\n",
      "Cleaned data for 1847 and saved to /Users/shaistasyeda/Desktop/DataSet/CleanedFiles-each-year/1847_cleaned.txt\n",
      "Cleaned data for 1848 and saved to /Users/shaistasyeda/Desktop/DataSet/CleanedFiles-each-year/1848_cleaned.txt\n",
      "Cleaned data for 1849 and saved to /Users/shaistasyeda/Desktop/DataSet/CleanedFiles-each-year/1849_cleaned.txt\n",
      "Cleaned data for 1850 and saved to /Users/shaistasyeda/Desktop/DataSet/CleanedFiles-each-year/1850_cleaned.txt\n",
      "Cleaned data for 1851 and saved to /Users/shaistasyeda/Desktop/DataSet/CleanedFiles-each-year/1851_cleaned.txt\n",
      "Cleaned data for 1852 and saved to /Users/shaistasyeda/Desktop/DataSet/CleanedFiles-each-year/1852_cleaned.txt\n",
      "Cleaned data for 1853 and saved to /Users/shaistasyeda/Desktop/DataSet/CleanedFiles-each-year/1853_cleaned.txt\n",
      "Cleaned data for 1854 and saved to /Users/shaistasyeda/Desktop/DataSet/CleanedFiles-each-year/1854_cleaned.txt\n",
      "Cleaned data for 1855 and saved to /Users/shaistasyeda/Desktop/DataSet/CleanedFiles-each-year/1855_cleaned.txt\n",
      "Cleaned data for 1856 and saved to /Users/shaistasyeda/Desktop/DataSet/CleanedFiles-each-year/1856_cleaned.txt\n",
      "Cleaned data for 1857 and saved to /Users/shaistasyeda/Desktop/DataSet/CleanedFiles-each-year/1857_cleaned.txt\n",
      "Cleaned data for 1858 and saved to /Users/shaistasyeda/Desktop/DataSet/CleanedFiles-each-year/1858_cleaned.txt\n",
      "Cleaned data for 1859 and saved to /Users/shaistasyeda/Desktop/DataSet/CleanedFiles-each-year/1859_cleaned.txt\n",
      "Cleaned data for 1860 and saved to /Users/shaistasyeda/Desktop/DataSet/CleanedFiles-each-year/1860_cleaned.txt\n",
      "Cleaned data for 1861 and saved to /Users/shaistasyeda/Desktop/DataSet/CleanedFiles-each-year/1861_cleaned.txt\n",
      "Cleaned data for 1862 and saved to /Users/shaistasyeda/Desktop/DataSet/CleanedFiles-each-year/1862_cleaned.txt\n",
      "Cleaned data for 1863 and saved to /Users/shaistasyeda/Desktop/DataSet/CleanedFiles-each-year/1863_cleaned.txt\n",
      "Cleaned data for 1864 and saved to /Users/shaistasyeda/Desktop/DataSet/CleanedFiles-each-year/1864_cleaned.txt\n",
      "Cleaned data for 1865 and saved to /Users/shaistasyeda/Desktop/DataSet/CleanedFiles-each-year/1865_cleaned.txt\n",
      "Cleaned data for 1866 and saved to /Users/shaistasyeda/Desktop/DataSet/CleanedFiles-each-year/1866_cleaned.txt\n",
      "Cleaned data for 1867 and saved to /Users/shaistasyeda/Desktop/DataSet/CleanedFiles-each-year/1867_cleaned.txt\n",
      "Cleaned data for 1868 and saved to /Users/shaistasyeda/Desktop/DataSet/CleanedFiles-each-year/1868_cleaned.txt\n",
      "Cleaned data for 1869 and saved to /Users/shaistasyeda/Desktop/DataSet/CleanedFiles-each-year/1869_cleaned.txt\n",
      "Cleaned data for 1870 and saved to /Users/shaistasyeda/Desktop/DataSet/CleanedFiles-each-year/1870_cleaned.txt\n",
      "Cleaned data for 1871 and saved to /Users/shaistasyeda/Desktop/DataSet/CleanedFiles-each-year/1871_cleaned.txt\n",
      "Cleaned data for 1872 and saved to /Users/shaistasyeda/Desktop/DataSet/CleanedFiles-each-year/1872_cleaned.txt\n",
      "Cleaned data for 1873 and saved to /Users/shaistasyeda/Desktop/DataSet/CleanedFiles-each-year/1873_cleaned.txt\n",
      "Cleaned data for 1874 and saved to /Users/shaistasyeda/Desktop/DataSet/CleanedFiles-each-year/1874_cleaned.txt\n",
      "Cleaned data for 1875 and saved to /Users/shaistasyeda/Desktop/DataSet/CleanedFiles-each-year/1875_cleaned.txt\n",
      "Cleaned data for 1876 and saved to /Users/shaistasyeda/Desktop/DataSet/CleanedFiles-each-year/1876_cleaned.txt\n",
      "Cleaned data for 1877 and saved to /Users/shaistasyeda/Desktop/DataSet/CleanedFiles-each-year/1877_cleaned.txt\n",
      "Cleaned data for 1878 and saved to /Users/shaistasyeda/Desktop/DataSet/CleanedFiles-each-year/1878_cleaned.txt\n",
      "Cleaned data for 1879 and saved to /Users/shaistasyeda/Desktop/DataSet/CleanedFiles-each-year/1879_cleaned.txt\n",
      "Cleaned data for 1880 and saved to /Users/shaistasyeda/Desktop/DataSet/CleanedFiles-each-year/1880_cleaned.txt\n",
      "Cleaned data for 1881 and saved to /Users/shaistasyeda/Desktop/DataSet/CleanedFiles-each-year/1881_cleaned.txt\n",
      "Cleaned data for 1882 and saved to /Users/shaistasyeda/Desktop/DataSet/CleanedFiles-each-year/1882_cleaned.txt\n",
      "Cleaned data for 1883 and saved to /Users/shaistasyeda/Desktop/DataSet/CleanedFiles-each-year/1883_cleaned.txt\n",
      "Cleaned data for 1884 and saved to /Users/shaistasyeda/Desktop/DataSet/CleanedFiles-each-year/1884_cleaned.txt\n",
      "Cleaned data for 1885 and saved to /Users/shaistasyeda/Desktop/DataSet/CleanedFiles-each-year/1885_cleaned.txt\n",
      "Cleaned data for 1886 and saved to /Users/shaistasyeda/Desktop/DataSet/CleanedFiles-each-year/1886_cleaned.txt\n",
      "Cleaned data for 1887 and saved to /Users/shaistasyeda/Desktop/DataSet/CleanedFiles-each-year/1887_cleaned.txt\n",
      "Cleaned data for 1888 and saved to /Users/shaistasyeda/Desktop/DataSet/CleanedFiles-each-year/1888_cleaned.txt\n",
      "Cleaned data for 1889 and saved to /Users/shaistasyeda/Desktop/DataSet/CleanedFiles-each-year/1889_cleaned.txt\n",
      "Cleaned data for 1890 and saved to /Users/shaistasyeda/Desktop/DataSet/CleanedFiles-each-year/1890_cleaned.txt\n",
      "Cleaned data for 1891 and saved to /Users/shaistasyeda/Desktop/DataSet/CleanedFiles-each-year/1891_cleaned.txt\n",
      "Cleaned data for 1892 and saved to /Users/shaistasyeda/Desktop/DataSet/CleanedFiles-each-year/1892_cleaned.txt\n",
      "Cleaned data for 1893 and saved to /Users/shaistasyeda/Desktop/DataSet/CleanedFiles-each-year/1893_cleaned.txt\n",
      "Cleaned data for 1894 and saved to /Users/shaistasyeda/Desktop/DataSet/CleanedFiles-each-year/1894_cleaned.txt\n",
      "Cleaned data for 1895 and saved to /Users/shaistasyeda/Desktop/DataSet/CleanedFiles-each-year/1895_cleaned.txt\n",
      "Cleaned data for 1896 and saved to /Users/shaistasyeda/Desktop/DataSet/CleanedFiles-each-year/1896_cleaned.txt\n",
      "Cleaned data for 1897 and saved to /Users/shaistasyeda/Desktop/DataSet/CleanedFiles-each-year/1897_cleaned.txt\n",
      "Cleaned data for 1898 and saved to /Users/shaistasyeda/Desktop/DataSet/CleanedFiles-each-year/1898_cleaned.txt\n",
      "Cleaned data for 1899 and saved to /Users/shaistasyeda/Desktop/DataSet/CleanedFiles-each-year/1899_cleaned.txt\n",
      "Cleaned data for 1900 and saved to /Users/shaistasyeda/Desktop/DataSet/CleanedFiles-each-year/1900_cleaned.txt\n",
      "Cleaned data for 1901 and saved to /Users/shaistasyeda/Desktop/DataSet/CleanedFiles-each-year/1901_cleaned.txt\n",
      "Cleaned data for 1902 and saved to /Users/shaistasyeda/Desktop/DataSet/CleanedFiles-each-year/1902_cleaned.txt\n",
      "Cleaned data for 1903 and saved to /Users/shaistasyeda/Desktop/DataSet/CleanedFiles-each-year/1903_cleaned.txt\n",
      "Cleaned data for 1904 and saved to /Users/shaistasyeda/Desktop/DataSet/CleanedFiles-each-year/1904_cleaned.txt\n",
      "Cleaned data for 1905 and saved to /Users/shaistasyeda/Desktop/DataSet/CleanedFiles-each-year/1905_cleaned.txt\n",
      "Cleaned data for 1906 and saved to /Users/shaistasyeda/Desktop/DataSet/CleanedFiles-each-year/1906_cleaned.txt\n",
      "Cleaned data for 1907 and saved to /Users/shaistasyeda/Desktop/DataSet/CleanedFiles-each-year/1907_cleaned.txt\n",
      "Cleaned data for 1908 and saved to /Users/shaistasyeda/Desktop/DataSet/CleanedFiles-each-year/1908_cleaned.txt\n",
      "Cleaned data for 1909 and saved to /Users/shaistasyeda/Desktop/DataSet/CleanedFiles-each-year/1909_cleaned.txt\n",
      "Cleaned data for 1910 and saved to /Users/shaistasyeda/Desktop/DataSet/CleanedFiles-each-year/1910_cleaned.txt\n",
      "Cleaned data for 1911 and saved to /Users/shaistasyeda/Desktop/DataSet/CleanedFiles-each-year/1911_cleaned.txt\n",
      "Cleaned data for 1912 and saved to /Users/shaistasyeda/Desktop/DataSet/CleanedFiles-each-year/1912_cleaned.txt\n",
      "Cleaned data for 1913 and saved to /Users/shaistasyeda/Desktop/DataSet/CleanedFiles-each-year/1913_cleaned.txt\n",
      "Cleaned data for 1914 and saved to /Users/shaistasyeda/Desktop/DataSet/CleanedFiles-each-year/1914_cleaned.txt\n",
      "Cleaned data for 1915 and saved to /Users/shaistasyeda/Desktop/DataSet/CleanedFiles-each-year/1915_cleaned.txt\n",
      "Cleaned data for 1916 and saved to /Users/shaistasyeda/Desktop/DataSet/CleanedFiles-each-year/1916_cleaned.txt\n",
      "Cleaned data for 1917 and saved to /Users/shaistasyeda/Desktop/DataSet/CleanedFiles-each-year/1917_cleaned.txt\n",
      "Cleaned data for 1918 and saved to /Users/shaistasyeda/Desktop/DataSet/CleanedFiles-each-year/1918_cleaned.txt\n",
      "Cleaned data for 1919 and saved to /Users/shaistasyeda/Desktop/DataSet/CleanedFiles-each-year/1919_cleaned.txt\n",
      "Cleaned data for 1920 and saved to /Users/shaistasyeda/Desktop/DataSet/CleanedFiles-each-year/1920_cleaned.txt\n",
      "Cleaned data for 1921 and saved to /Users/shaistasyeda/Desktop/DataSet/CleanedFiles-each-year/1921_cleaned.txt\n",
      "Cleaned data for 1922 and saved to /Users/shaistasyeda/Desktop/DataSet/CleanedFiles-each-year/1922_cleaned.txt\n",
      "Cleaned data for 1923 and saved to /Users/shaistasyeda/Desktop/DataSet/CleanedFiles-each-year/1923_cleaned.txt\n",
      "Cleaned data for 1924 and saved to /Users/shaistasyeda/Desktop/DataSet/CleanedFiles-each-year/1924_cleaned.txt\n",
      "Cleaned data for 1925 and saved to /Users/shaistasyeda/Desktop/DataSet/CleanedFiles-each-year/1925_cleaned.txt\n",
      "Cleaned data for 1926 and saved to /Users/shaistasyeda/Desktop/DataSet/CleanedFiles-each-year/1926_cleaned.txt\n",
      "Cleaned data for 1927 and saved to /Users/shaistasyeda/Desktop/DataSet/CleanedFiles-each-year/1927_cleaned.txt\n",
      "Cleaned data for 1928 and saved to /Users/shaistasyeda/Desktop/DataSet/CleanedFiles-each-year/1928_cleaned.txt\n",
      "Cleaned data for 1929 and saved to /Users/shaistasyeda/Desktop/DataSet/CleanedFiles-each-year/1929_cleaned.txt\n",
      "Cleaned data for 1930 and saved to /Users/shaistasyeda/Desktop/DataSet/CleanedFiles-each-year/1930_cleaned.txt\n",
      "Cleaned data for 1931 and saved to /Users/shaistasyeda/Desktop/DataSet/CleanedFiles-each-year/1931_cleaned.txt\n",
      "Cleaned data for 1932 and saved to /Users/shaistasyeda/Desktop/DataSet/CleanedFiles-each-year/1932_cleaned.txt\n",
      "Cleaned data for 1933 and saved to /Users/shaistasyeda/Desktop/DataSet/CleanedFiles-each-year/1933_cleaned.txt\n",
      "Cleaned data for 1934 and saved to /Users/shaistasyeda/Desktop/DataSet/CleanedFiles-each-year/1934_cleaned.txt\n",
      "Cleaned data for 1935 and saved to /Users/shaistasyeda/Desktop/DataSet/CleanedFiles-each-year/1935_cleaned.txt\n",
      "Cleaned data for 1936 and saved to /Users/shaistasyeda/Desktop/DataSet/CleanedFiles-each-year/1936_cleaned.txt\n",
      "Cleaned data for 1937 and saved to /Users/shaistasyeda/Desktop/DataSet/CleanedFiles-each-year/1937_cleaned.txt\n",
      "Cleaned data for 1938 and saved to /Users/shaistasyeda/Desktop/DataSet/CleanedFiles-each-year/1938_cleaned.txt\n",
      "Cleaned data for 1939 and saved to /Users/shaistasyeda/Desktop/DataSet/CleanedFiles-each-year/1939_cleaned.txt\n",
      "Cleaned data for 1940 and saved to /Users/shaistasyeda/Desktop/DataSet/CleanedFiles-each-year/1940_cleaned.txt\n",
      "Cleaned data for 1941 and saved to /Users/shaistasyeda/Desktop/DataSet/CleanedFiles-each-year/1941_cleaned.txt\n",
      "Cleaned data for 1942 and saved to /Users/shaistasyeda/Desktop/DataSet/CleanedFiles-each-year/1942_cleaned.txt\n",
      "Cleaned data for 1943 and saved to /Users/shaistasyeda/Desktop/DataSet/CleanedFiles-each-year/1943_cleaned.txt\n",
      "Cleaned data for 1944 and saved to /Users/shaistasyeda/Desktop/DataSet/CleanedFiles-each-year/1944_cleaned.txt\n",
      "Cleaned data for 1945 and saved to /Users/shaistasyeda/Desktop/DataSet/CleanedFiles-each-year/1945_cleaned.txt\n",
      "Cleaned data for 1946 and saved to /Users/shaistasyeda/Desktop/DataSet/CleanedFiles-each-year/1946_cleaned.txt\n",
      "Cleaned data for 1947 and saved to /Users/shaistasyeda/Desktop/DataSet/CleanedFiles-each-year/1947_cleaned.txt\n",
      "Cleaned data for 1948 and saved to /Users/shaistasyeda/Desktop/DataSet/CleanedFiles-each-year/1948_cleaned.txt\n",
      "Cleaned data for 1949 and saved to /Users/shaistasyeda/Desktop/DataSet/CleanedFiles-each-year/1949_cleaned.txt\n",
      "Cleaned data for 1950 and saved to /Users/shaistasyeda/Desktop/DataSet/CleanedFiles-each-year/1950_cleaned.txt\n",
      "Cleaned data for 1951 and saved to /Users/shaistasyeda/Desktop/DataSet/CleanedFiles-each-year/1951_cleaned.txt\n",
      "Cleaned data for 1952 and saved to /Users/shaistasyeda/Desktop/DataSet/CleanedFiles-each-year/1952_cleaned.txt\n",
      "Cleaned data for 1953 and saved to /Users/shaistasyeda/Desktop/DataSet/CleanedFiles-each-year/1953_cleaned.txt\n",
      "Cleaned data for 1954 and saved to /Users/shaistasyeda/Desktop/DataSet/CleanedFiles-each-year/1954_cleaned.txt\n",
      "Cleaned data for 1955 and saved to /Users/shaistasyeda/Desktop/DataSet/CleanedFiles-each-year/1955_cleaned.txt\n",
      "Cleaned data for 1956 and saved to /Users/shaistasyeda/Desktop/DataSet/CleanedFiles-each-year/1956_cleaned.txt\n",
      "Cleaned data for 1957 and saved to /Users/shaistasyeda/Desktop/DataSet/CleanedFiles-each-year/1957_cleaned.txt\n",
      "Cleaned data for 1958 and saved to /Users/shaistasyeda/Desktop/DataSet/CleanedFiles-each-year/1958_cleaned.txt\n",
      "Cleaned data for 1959 and saved to /Users/shaistasyeda/Desktop/DataSet/CleanedFiles-each-year/1959_cleaned.txt\n",
      "Cleaned data for 1960 and saved to /Users/shaistasyeda/Desktop/DataSet/CleanedFiles-each-year/1960_cleaned.txt\n",
      "Cleaned data for 1961 and saved to /Users/shaistasyeda/Desktop/DataSet/CleanedFiles-each-year/1961_cleaned.txt\n",
      "Cleaned data for 1962 and saved to /Users/shaistasyeda/Desktop/DataSet/CleanedFiles-each-year/1962_cleaned.txt\n",
      "Cleaned data for 1963 and saved to /Users/shaistasyeda/Desktop/DataSet/CleanedFiles-each-year/1963_cleaned.txt\n",
      "Cleaned data for 1964 and saved to /Users/shaistasyeda/Desktop/DataSet/CleanedFiles-each-year/1964_cleaned.txt\n",
      "Cleaned data for 1965 and saved to /Users/shaistasyeda/Desktop/DataSet/CleanedFiles-each-year/1965_cleaned.txt\n",
      "Cleaned data for 1966 and saved to /Users/shaistasyeda/Desktop/DataSet/CleanedFiles-each-year/1966_cleaned.txt\n",
      "Cleaned data for 1967 and saved to /Users/shaistasyeda/Desktop/DataSet/CleanedFiles-each-year/1967_cleaned.txt\n",
      "Cleaned data for 1968 and saved to /Users/shaistasyeda/Desktop/DataSet/CleanedFiles-each-year/1968_cleaned.txt\n",
      "Cleaned data for 1969 and saved to /Users/shaistasyeda/Desktop/DataSet/CleanedFiles-each-year/1969_cleaned.txt\n",
      "Cleaned data for 1970 and saved to /Users/shaistasyeda/Desktop/DataSet/CleanedFiles-each-year/1970_cleaned.txt\n",
      "Cleaned data for 1971 and saved to /Users/shaistasyeda/Desktop/DataSet/CleanedFiles-each-year/1971_cleaned.txt\n",
      "Cleaned data for 1972 and saved to /Users/shaistasyeda/Desktop/DataSet/CleanedFiles-each-year/1972_cleaned.txt\n",
      "Cleaned data for 1973 and saved to /Users/shaistasyeda/Desktop/DataSet/CleanedFiles-each-year/1973_cleaned.txt\n",
      "Cleaned data for 1974 and saved to /Users/shaistasyeda/Desktop/DataSet/CleanedFiles-each-year/1974_cleaned.txt\n",
      "Cleaned data for 1975 and saved to /Users/shaistasyeda/Desktop/DataSet/CleanedFiles-each-year/1975_cleaned.txt\n",
      "Cleaned data for 1976 and saved to /Users/shaistasyeda/Desktop/DataSet/CleanedFiles-each-year/1976_cleaned.txt\n",
      "Cleaned data for 1977 and saved to /Users/shaistasyeda/Desktop/DataSet/CleanedFiles-each-year/1977_cleaned.txt\n",
      "Cleaned data for 1978 and saved to /Users/shaistasyeda/Desktop/DataSet/CleanedFiles-each-year/1978_cleaned.txt\n",
      "Cleaned data for 1979 and saved to /Users/shaistasyeda/Desktop/DataSet/CleanedFiles-each-year/1979_cleaned.txt\n",
      "Cleaned data for 1980 and saved to /Users/shaistasyeda/Desktop/DataSet/CleanedFiles-each-year/1980_cleaned.txt\n",
      "Cleaned data for 1981 and saved to /Users/shaistasyeda/Desktop/DataSet/CleanedFiles-each-year/1981_cleaned.txt\n",
      "Cleaned data for 1982 and saved to /Users/shaistasyeda/Desktop/DataSet/CleanedFiles-each-year/1982_cleaned.txt\n",
      "Cleaned data for 1983 and saved to /Users/shaistasyeda/Desktop/DataSet/CleanedFiles-each-year/1983_cleaned.txt\n",
      "Cleaned data for 1984 and saved to /Users/shaistasyeda/Desktop/DataSet/CleanedFiles-each-year/1984_cleaned.txt\n",
      "Cleaned data for 1985 and saved to /Users/shaistasyeda/Desktop/DataSet/CleanedFiles-each-year/1985_cleaned.txt\n",
      "Cleaned data for 1986 and saved to /Users/shaistasyeda/Desktop/DataSet/CleanedFiles-each-year/1986_cleaned.txt\n",
      "Cleaned data for 1987 and saved to /Users/shaistasyeda/Desktop/DataSet/CleanedFiles-each-year/1987_cleaned.txt\n",
      "Cleaned data for 1988 and saved to /Users/shaistasyeda/Desktop/DataSet/CleanedFiles-each-year/1988_cleaned.txt\n",
      "Cleaned data for 1989 and saved to /Users/shaistasyeda/Desktop/DataSet/CleanedFiles-each-year/1989_cleaned.txt\n",
      "Cleaned data for 1990 and saved to /Users/shaistasyeda/Desktop/DataSet/CleanedFiles-each-year/1990_cleaned.txt\n",
      "Cleaned data for 1991 and saved to /Users/shaistasyeda/Desktop/DataSet/CleanedFiles-each-year/1991_cleaned.txt\n",
      "Cleaned data for 1992 and saved to /Users/shaistasyeda/Desktop/DataSet/CleanedFiles-each-year/1992_cleaned.txt\n",
      "Cleaned data for 1993 and saved to /Users/shaistasyeda/Desktop/DataSet/CleanedFiles-each-year/1993_cleaned.txt\n",
      "Cleaned data for 1994 and saved to /Users/shaistasyeda/Desktop/DataSet/CleanedFiles-each-year/1994_cleaned.txt\n",
      "Cleaned data for 1995 and saved to /Users/shaistasyeda/Desktop/DataSet/CleanedFiles-each-year/1995_cleaned.txt\n",
      "Cleaned data for 1996 and saved to /Users/shaistasyeda/Desktop/DataSet/CleanedFiles-each-year/1996_cleaned.txt\n",
      "Cleaned data for 1997 and saved to /Users/shaistasyeda/Desktop/DataSet/CleanedFiles-each-year/1997_cleaned.txt\n",
      "Cleaned data for 1998 and saved to /Users/shaistasyeda/Desktop/DataSet/CleanedFiles-each-year/1998_cleaned.txt\n",
      "Cleaned data for 1999 and saved to /Users/shaistasyeda/Desktop/DataSet/CleanedFiles-each-year/1999_cleaned.txt\n",
      "Cleaned data for 2000 and saved to /Users/shaistasyeda/Desktop/DataSet/CleanedFiles-each-year/2000_cleaned.txt\n",
      "Cleaned data for 2001 and saved to /Users/shaistasyeda/Desktop/DataSet/CleanedFiles-each-year/2001_cleaned.txt\n",
      "Cleaned data for 2002 and saved to /Users/shaistasyeda/Desktop/DataSet/CleanedFiles-each-year/2002_cleaned.txt\n",
      "Cleaned data for 2003 and saved to /Users/shaistasyeda/Desktop/DataSet/CleanedFiles-each-year/2003_cleaned.txt\n",
      "Cleaned data for 2004 and saved to /Users/shaistasyeda/Desktop/DataSet/CleanedFiles-each-year/2004_cleaned.txt\n",
      "Cleaned data for 2005 and saved to /Users/shaistasyeda/Desktop/DataSet/CleanedFiles-each-year/2005_cleaned.txt\n",
      "Cleaned data for 2006 and saved to /Users/shaistasyeda/Desktop/DataSet/CleanedFiles-each-year/2006_cleaned.txt\n"
     ]
    }
   ],
   "source": [
    "input_directory = \"/Users/shaistasyeda/Desktop/DataSet/merged-files-each-year\"\n",
    "output_directory = \"/Users/shaistasyeda/Desktop/DataSet/CleanedFiles-each-year\"\n",
    "\n",
    "# Iterate over each year and clean the corresponding merged file\n",
    "for year in range(1803, 2007):\n",
    "    input_file_path = os.path.join(input_directory, f\"{year}-merged.txt\")\n",
    "    output_file_path = os.path.join(output_directory, f\"{year}_cleaned.txt\")\n",
    "\n",
    "    # Ensure the output directory exists\n",
    "    os.makedirs(output_directory, exist_ok=True)\n",
    "\n",
    "    with open(input_file_path, \"r\") as input_file:\n",
    "        contents = input_file.read()\n",
    "\n",
    "        # Clean the text\n",
    "        cleaned_text = clean_text(contents)\n",
    "\n",
    "        # Save the cleaned text to the output file\n",
    "        with open(output_file_path, \"w\") as output_file:\n",
    "            output_file.write(cleaned_text)\n",
    "\n",
    "    print(f'Cleaned data for {year} and saved to {output_file_path}')"
   ]
  },
  {
   "cell_type": "markdown",
   "id": "96161658-200b-41dd-aacd-e78285dc3685",
   "metadata": {},
   "source": [
    "# Function for male pronoun count"
   ]
  },
  {
   "cell_type": "code",
   "execution_count": 23,
   "id": "5834ec1f-4917-46bd-8aa1-f33ed21db036",
   "metadata": {
    "tags": []
   },
   "outputs": [],
   "source": [
    "def count_male_pronouns(file_path):\n",
    "    with open(file_path, 'r') as file:\n",
    "        contents = file.read()\n",
    "        # regular expression pattern for a list of male pronouns\n",
    "        male_pronouns = re.findall(r'\\b(he|him|his|himself)\\b', contents, flags=re.IGNORECASE)\n",
    "        return len(male_pronouns)"
   ]
  },
  {
   "cell_type": "markdown",
   "id": "342af4f4-394c-458b-ad95-2737b96af661",
   "metadata": {},
   "source": [
    "# Function for female pronoun count"
   ]
  },
  {
   "cell_type": "code",
   "execution_count": 24,
   "id": "0c408278-89cc-44e6-b96f-2e6938cbaf61",
   "metadata": {
    "tags": []
   },
   "outputs": [],
   "source": [
    "def count_female_pronouns(file_path):\n",
    "    with open(file_path, 'r') as file:\n",
    "        contents = file.read()\n",
    "        # regular expression pattern for a list of female pronouns\n",
    "        female_pronouns = re.findall(r'\\b(she|her|hers|herself)\\b', contents, flags=re.IGNORECASE)\n",
    "        return len(female_pronouns)"
   ]
  },
  {
   "cell_type": "markdown",
   "id": "74bf4675-788b-415e-a2d2-a058525b7bf4",
   "metadata": {},
   "source": [
    "# Calculating pronoun count for each year "
   ]
  },
  {
   "cell_type": "code",
   "execution_count": 25,
   "id": "12f384c7-8202-4dbf-aa0d-f5aac26c41ea",
   "metadata": {
    "tags": []
   },
   "outputs": [],
   "source": [
    "import pandas as pd"
   ]
  },
  {
   "cell_type": "code",
   "execution_count": 39,
   "id": "9ebad6b5-d92b-4bfd-b02b-bf27192dcb67",
   "metadata": {
    "scrolled": true,
    "tags": []
   },
   "outputs": [
    {
     "name": "stderr",
     "output_type": "stream",
     "text": [
      "/var/folders/g5/dmdm26xd0_s5m4_slz5jkxkw0000gn/T/ipykernel_14808/2157251.py:19: FutureWarning: The frame.append method is deprecated and will be removed from pandas in a future version. Use pandas.concat instead.\n",
      "  df = df.append({'Year': year, 'Male Count': male_pronoun_count, 'Female Count': female_pronoun_count}, ignore_index=True)\n",
      "/var/folders/g5/dmdm26xd0_s5m4_slz5jkxkw0000gn/T/ipykernel_14808/2157251.py:19: FutureWarning: The frame.append method is deprecated and will be removed from pandas in a future version. Use pandas.concat instead.\n",
      "  df = df.append({'Year': year, 'Male Count': male_pronoun_count, 'Female Count': female_pronoun_count}, ignore_index=True)\n",
      "/var/folders/g5/dmdm26xd0_s5m4_slz5jkxkw0000gn/T/ipykernel_14808/2157251.py:19: FutureWarning: The frame.append method is deprecated and will be removed from pandas in a future version. Use pandas.concat instead.\n",
      "  df = df.append({'Year': year, 'Male Count': male_pronoun_count, 'Female Count': female_pronoun_count}, ignore_index=True)\n"
     ]
    },
    {
     "name": "stdout",
     "output_type": "stream",
     "text": [
      "1803 4259 53\n",
      "1804 11138 139\n",
      "1805 22119 502\n"
     ]
    },
    {
     "name": "stderr",
     "output_type": "stream",
     "text": [
      "/var/folders/g5/dmdm26xd0_s5m4_slz5jkxkw0000gn/T/ipykernel_14808/2157251.py:19: FutureWarning: The frame.append method is deprecated and will be removed from pandas in a future version. Use pandas.concat instead.\n",
      "  df = df.append({'Year': year, 'Male Count': male_pronoun_count, 'Female Count': female_pronoun_count}, ignore_index=True)\n",
      "/var/folders/g5/dmdm26xd0_s5m4_slz5jkxkw0000gn/T/ipykernel_14808/2157251.py:19: FutureWarning: The frame.append method is deprecated and will be removed from pandas in a future version. Use pandas.concat instead.\n",
      "  df = df.append({'Year': year, 'Male Count': male_pronoun_count, 'Female Count': female_pronoun_count}, ignore_index=True)\n",
      "/var/folders/g5/dmdm26xd0_s5m4_slz5jkxkw0000gn/T/ipykernel_14808/2157251.py:19: FutureWarning: The frame.append method is deprecated and will be removed from pandas in a future version. Use pandas.concat instead.\n",
      "  df = df.append({'Year': year, 'Male Count': male_pronoun_count, 'Female Count': female_pronoun_count}, ignore_index=True)\n"
     ]
    },
    {
     "name": "stdout",
     "output_type": "stream",
     "text": [
      "1806 16623 202\n",
      "1807 12352 545\n",
      "1808 9732 353\n"
     ]
    },
    {
     "name": "stderr",
     "output_type": "stream",
     "text": [
      "/var/folders/g5/dmdm26xd0_s5m4_slz5jkxkw0000gn/T/ipykernel_14808/2157251.py:19: FutureWarning: The frame.append method is deprecated and will be removed from pandas in a future version. Use pandas.concat instead.\n",
      "  df = df.append({'Year': year, 'Male Count': male_pronoun_count, 'Female Count': female_pronoun_count}, ignore_index=True)\n",
      "/var/folders/g5/dmdm26xd0_s5m4_slz5jkxkw0000gn/T/ipykernel_14808/2157251.py:19: FutureWarning: The frame.append method is deprecated and will be removed from pandas in a future version. Use pandas.concat instead.\n",
      "  df = df.append({'Year': year, 'Male Count': male_pronoun_count, 'Female Count': female_pronoun_count}, ignore_index=True)\n",
      "/var/folders/g5/dmdm26xd0_s5m4_slz5jkxkw0000gn/T/ipykernel_14808/2157251.py:19: FutureWarning: The frame.append method is deprecated and will be removed from pandas in a future version. Use pandas.concat instead.\n",
      "  df = df.append({'Year': year, 'Male Count': male_pronoun_count, 'Female Count': female_pronoun_count}, ignore_index=True)\n"
     ]
    },
    {
     "name": "stdout",
     "output_type": "stream",
     "text": [
      "1809 36381 5090\n",
      "1810 7180 153\n",
      "1811 39301 864\n"
     ]
    },
    {
     "name": "stderr",
     "output_type": "stream",
     "text": [
      "/var/folders/g5/dmdm26xd0_s5m4_slz5jkxkw0000gn/T/ipykernel_14808/2157251.py:19: FutureWarning: The frame.append method is deprecated and will be removed from pandas in a future version. Use pandas.concat instead.\n",
      "  df = df.append({'Year': year, 'Male Count': male_pronoun_count, 'Female Count': female_pronoun_count}, ignore_index=True)\n",
      "/var/folders/g5/dmdm26xd0_s5m4_slz5jkxkw0000gn/T/ipykernel_14808/2157251.py:19: FutureWarning: The frame.append method is deprecated and will be removed from pandas in a future version. Use pandas.concat instead.\n",
      "  df = df.append({'Year': year, 'Male Count': male_pronoun_count, 'Female Count': female_pronoun_count}, ignore_index=True)\n",
      "/var/folders/g5/dmdm26xd0_s5m4_slz5jkxkw0000gn/T/ipykernel_14808/2157251.py:19: FutureWarning: The frame.append method is deprecated and will be removed from pandas in a future version. Use pandas.concat instead.\n",
      "  df = df.append({'Year': year, 'Male Count': male_pronoun_count, 'Female Count': female_pronoun_count}, ignore_index=True)\n",
      "/var/folders/g5/dmdm26xd0_s5m4_slz5jkxkw0000gn/T/ipykernel_14808/2157251.py:19: FutureWarning: The frame.append method is deprecated and will be removed from pandas in a future version. Use pandas.concat instead.\n",
      "  df = df.append({'Year': year, 'Male Count': male_pronoun_count, 'Female Count': female_pronoun_count}, ignore_index=True)\n",
      "/var/folders/g5/dmdm26xd0_s5m4_slz5jkxkw0000gn/T/ipykernel_14808/2157251.py:19: FutureWarning: The frame.append method is deprecated and will be removed from pandas in a future version. Use pandas.concat instead.\n",
      "  df = df.append({'Year': year, 'Male Count': male_pronoun_count, 'Female Count': female_pronoun_count}, ignore_index=True)\n"
     ]
    },
    {
     "name": "stdout",
     "output_type": "stream",
     "text": [
      "1812 37860 1890\n",
      "1813 8913 388\n",
      "1814 9015 281\n",
      "1815 20441 890\n",
      "1816 0 0\n"
     ]
    },
    {
     "name": "stderr",
     "output_type": "stream",
     "text": [
      "/var/folders/g5/dmdm26xd0_s5m4_slz5jkxkw0000gn/T/ipykernel_14808/2157251.py:19: FutureWarning: The frame.append method is deprecated and will be removed from pandas in a future version. Use pandas.concat instead.\n",
      "  df = df.append({'Year': year, 'Male Count': male_pronoun_count, 'Female Count': female_pronoun_count}, ignore_index=True)\n",
      "/var/folders/g5/dmdm26xd0_s5m4_slz5jkxkw0000gn/T/ipykernel_14808/2157251.py:19: FutureWarning: The frame.append method is deprecated and will be removed from pandas in a future version. Use pandas.concat instead.\n",
      "  df = df.append({'Year': year, 'Male Count': male_pronoun_count, 'Female Count': female_pronoun_count}, ignore_index=True)\n"
     ]
    },
    {
     "name": "stdout",
     "output_type": "stream",
     "text": [
      "1817 21476 300\n",
      "1818 15303 211\n"
     ]
    },
    {
     "name": "stderr",
     "output_type": "stream",
     "text": [
      "/var/folders/g5/dmdm26xd0_s5m4_slz5jkxkw0000gn/T/ipykernel_14808/2157251.py:19: FutureWarning: The frame.append method is deprecated and will be removed from pandas in a future version. Use pandas.concat instead.\n",
      "  df = df.append({'Year': year, 'Male Count': male_pronoun_count, 'Female Count': female_pronoun_count}, ignore_index=True)\n",
      "/var/folders/g5/dmdm26xd0_s5m4_slz5jkxkw0000gn/T/ipykernel_14808/2157251.py:19: FutureWarning: The frame.append method is deprecated and will be removed from pandas in a future version. Use pandas.concat instead.\n",
      "  df = df.append({'Year': year, 'Male Count': male_pronoun_count, 'Female Count': female_pronoun_count}, ignore_index=True)\n"
     ]
    },
    {
     "name": "stdout",
     "output_type": "stream",
     "text": [
      "1819 50871 888\n",
      "1820 41458 11795\n"
     ]
    },
    {
     "name": "stderr",
     "output_type": "stream",
     "text": [
      "/var/folders/g5/dmdm26xd0_s5m4_slz5jkxkw0000gn/T/ipykernel_14808/2157251.py:19: FutureWarning: The frame.append method is deprecated and will be removed from pandas in a future version. Use pandas.concat instead.\n",
      "  df = df.append({'Year': year, 'Male Count': male_pronoun_count, 'Female Count': female_pronoun_count}, ignore_index=True)\n",
      "/var/folders/g5/dmdm26xd0_s5m4_slz5jkxkw0000gn/T/ipykernel_14808/2157251.py:19: FutureWarning: The frame.append method is deprecated and will be removed from pandas in a future version. Use pandas.concat instead.\n",
      "  df = df.append({'Year': year, 'Male Count': male_pronoun_count, 'Female Count': female_pronoun_count}, ignore_index=True)\n"
     ]
    },
    {
     "name": "stdout",
     "output_type": "stream",
     "text": [
      "1821 26310 2704\n",
      "1822 47976 2278\n"
     ]
    },
    {
     "name": "stderr",
     "output_type": "stream",
     "text": [
      "/var/folders/g5/dmdm26xd0_s5m4_slz5jkxkw0000gn/T/ipykernel_14808/2157251.py:19: FutureWarning: The frame.append method is deprecated and will be removed from pandas in a future version. Use pandas.concat instead.\n",
      "  df = df.append({'Year': year, 'Male Count': male_pronoun_count, 'Female Count': female_pronoun_count}, ignore_index=True)\n",
      "/var/folders/g5/dmdm26xd0_s5m4_slz5jkxkw0000gn/T/ipykernel_14808/2157251.py:19: FutureWarning: The frame.append method is deprecated and will be removed from pandas in a future version. Use pandas.concat instead.\n",
      "  df = df.append({'Year': year, 'Male Count': male_pronoun_count, 'Female Count': female_pronoun_count}, ignore_index=True)\n",
      "/var/folders/g5/dmdm26xd0_s5m4_slz5jkxkw0000gn/T/ipykernel_14808/2157251.py:19: FutureWarning: The frame.append method is deprecated and will be removed from pandas in a future version. Use pandas.concat instead.\n",
      "  df = df.append({'Year': year, 'Male Count': male_pronoun_count, 'Female Count': female_pronoun_count}, ignore_index=True)\n"
     ]
    },
    {
     "name": "stdout",
     "output_type": "stream",
     "text": [
      "1823 40928 2197\n",
      "1824 33349 1274\n",
      "1825 16843 350\n"
     ]
    },
    {
     "name": "stderr",
     "output_type": "stream",
     "text": [
      "/var/folders/g5/dmdm26xd0_s5m4_slz5jkxkw0000gn/T/ipykernel_14808/2157251.py:19: FutureWarning: The frame.append method is deprecated and will be removed from pandas in a future version. Use pandas.concat instead.\n",
      "  df = df.append({'Year': year, 'Male Count': male_pronoun_count, 'Female Count': female_pronoun_count}, ignore_index=True)\n",
      "/var/folders/g5/dmdm26xd0_s5m4_slz5jkxkw0000gn/T/ipykernel_14808/2157251.py:19: FutureWarning: The frame.append method is deprecated and will be removed from pandas in a future version. Use pandas.concat instead.\n",
      "  df = df.append({'Year': year, 'Male Count': male_pronoun_count, 'Female Count': female_pronoun_count}, ignore_index=True)\n",
      "/var/folders/g5/dmdm26xd0_s5m4_slz5jkxkw0000gn/T/ipykernel_14808/2157251.py:19: FutureWarning: The frame.append method is deprecated and will be removed from pandas in a future version. Use pandas.concat instead.\n",
      "  df = df.append({'Year': year, 'Male Count': male_pronoun_count, 'Female Count': female_pronoun_count}, ignore_index=True)\n",
      "/var/folders/g5/dmdm26xd0_s5m4_slz5jkxkw0000gn/T/ipykernel_14808/2157251.py:19: FutureWarning: The frame.append method is deprecated and will be removed from pandas in a future version. Use pandas.concat instead.\n",
      "  df = df.append({'Year': year, 'Male Count': male_pronoun_count, 'Female Count': female_pronoun_count}, ignore_index=True)\n"
     ]
    },
    {
     "name": "stdout",
     "output_type": "stream",
     "text": [
      "1826 26702 410\n",
      "1827 14041 152\n",
      "1828 33959 576\n",
      "1829 0 0\n"
     ]
    },
    {
     "name": "stderr",
     "output_type": "stream",
     "text": [
      "/var/folders/g5/dmdm26xd0_s5m4_slz5jkxkw0000gn/T/ipykernel_14808/2157251.py:19: FutureWarning: The frame.append method is deprecated and will be removed from pandas in a future version. Use pandas.concat instead.\n",
      "  df = df.append({'Year': year, 'Male Count': male_pronoun_count, 'Female Count': female_pronoun_count}, ignore_index=True)\n"
     ]
    },
    {
     "name": "stdout",
     "output_type": "stream",
     "text": [
      "1830 67410 1873\n"
     ]
    },
    {
     "name": "stderr",
     "output_type": "stream",
     "text": [
      "/var/folders/g5/dmdm26xd0_s5m4_slz5jkxkw0000gn/T/ipykernel_14808/2157251.py:19: FutureWarning: The frame.append method is deprecated and will be removed from pandas in a future version. Use pandas.concat instead.\n",
      "  df = df.append({'Year': year, 'Male Count': male_pronoun_count, 'Female Count': female_pronoun_count}, ignore_index=True)\n"
     ]
    },
    {
     "name": "stdout",
     "output_type": "stream",
     "text": [
      "1831 76013 1143\n"
     ]
    },
    {
     "name": "stderr",
     "output_type": "stream",
     "text": [
      "/var/folders/g5/dmdm26xd0_s5m4_slz5jkxkw0000gn/T/ipykernel_14808/2157251.py:19: FutureWarning: The frame.append method is deprecated and will be removed from pandas in a future version. Use pandas.concat instead.\n",
      "  df = df.append({'Year': year, 'Male Count': male_pronoun_count, 'Female Count': female_pronoun_count}, ignore_index=True)\n"
     ]
    },
    {
     "name": "stdout",
     "output_type": "stream",
     "text": [
      "1832 76136 1632\n"
     ]
    },
    {
     "name": "stderr",
     "output_type": "stream",
     "text": [
      "/var/folders/g5/dmdm26xd0_s5m4_slz5jkxkw0000gn/T/ipykernel_14808/2157251.py:19: FutureWarning: The frame.append method is deprecated and will be removed from pandas in a future version. Use pandas.concat instead.\n",
      "  df = df.append({'Year': year, 'Male Count': male_pronoun_count, 'Female Count': female_pronoun_count}, ignore_index=True)\n"
     ]
    },
    {
     "name": "stdout",
     "output_type": "stream",
     "text": [
      "1833 93863 1323\n"
     ]
    },
    {
     "name": "stderr",
     "output_type": "stream",
     "text": [
      "/var/folders/g5/dmdm26xd0_s5m4_slz5jkxkw0000gn/T/ipykernel_14808/2157251.py:19: FutureWarning: The frame.append method is deprecated and will be removed from pandas in a future version. Use pandas.concat instead.\n",
      "  df = df.append({'Year': year, 'Male Count': male_pronoun_count, 'Female Count': female_pronoun_count}, ignore_index=True)\n"
     ]
    },
    {
     "name": "stdout",
     "output_type": "stream",
     "text": [
      "1834 87301 1850\n"
     ]
    },
    {
     "name": "stderr",
     "output_type": "stream",
     "text": [
      "/var/folders/g5/dmdm26xd0_s5m4_slz5jkxkw0000gn/T/ipykernel_14808/2157251.py:19: FutureWarning: The frame.append method is deprecated and will be removed from pandas in a future version. Use pandas.concat instead.\n",
      "  df = df.append({'Year': year, 'Male Count': male_pronoun_count, 'Female Count': female_pronoun_count}, ignore_index=True)\n"
     ]
    },
    {
     "name": "stdout",
     "output_type": "stream",
     "text": [
      "1835 62561 636\n"
     ]
    },
    {
     "name": "stderr",
     "output_type": "stream",
     "text": [
      "/var/folders/g5/dmdm26xd0_s5m4_slz5jkxkw0000gn/T/ipykernel_14808/2157251.py:19: FutureWarning: The frame.append method is deprecated and will be removed from pandas in a future version. Use pandas.concat instead.\n",
      "  df = df.append({'Year': year, 'Male Count': male_pronoun_count, 'Female Count': female_pronoun_count}, ignore_index=True)\n"
     ]
    },
    {
     "name": "stdout",
     "output_type": "stream",
     "text": [
      "1836 70485 2336\n"
     ]
    },
    {
     "name": "stderr",
     "output_type": "stream",
     "text": [
      "/var/folders/g5/dmdm26xd0_s5m4_slz5jkxkw0000gn/T/ipykernel_14808/2157251.py:19: FutureWarning: The frame.append method is deprecated and will be removed from pandas in a future version. Use pandas.concat instead.\n",
      "  df = df.append({'Year': year, 'Male Count': male_pronoun_count, 'Female Count': female_pronoun_count}, ignore_index=True)\n",
      "/var/folders/g5/dmdm26xd0_s5m4_slz5jkxkw0000gn/T/ipykernel_14808/2157251.py:19: FutureWarning: The frame.append method is deprecated and will be removed from pandas in a future version. Use pandas.concat instead.\n",
      "  df = df.append({'Year': year, 'Male Count': male_pronoun_count, 'Female Count': female_pronoun_count}, ignore_index=True)\n"
     ]
    },
    {
     "name": "stdout",
     "output_type": "stream",
     "text": [
      "1837 50432 2592\n",
      "1838 45722 1832\n"
     ]
    },
    {
     "name": "stderr",
     "output_type": "stream",
     "text": [
      "/var/folders/g5/dmdm26xd0_s5m4_slz5jkxkw0000gn/T/ipykernel_14808/2157251.py:19: FutureWarning: The frame.append method is deprecated and will be removed from pandas in a future version. Use pandas.concat instead.\n",
      "  df = df.append({'Year': year, 'Male Count': male_pronoun_count, 'Female Count': female_pronoun_count}, ignore_index=True)\n"
     ]
    },
    {
     "name": "stdout",
     "output_type": "stream",
     "text": [
      "1839 68283 2795\n"
     ]
    },
    {
     "name": "stderr",
     "output_type": "stream",
     "text": [
      "/var/folders/g5/dmdm26xd0_s5m4_slz5jkxkw0000gn/T/ipykernel_14808/2157251.py:19: FutureWarning: The frame.append method is deprecated and will be removed from pandas in a future version. Use pandas.concat instead.\n",
      "  df = df.append({'Year': year, 'Male Count': male_pronoun_count, 'Female Count': female_pronoun_count}, ignore_index=True)\n"
     ]
    },
    {
     "name": "stdout",
     "output_type": "stream",
     "text": [
      "1840 76141 3009\n"
     ]
    },
    {
     "name": "stderr",
     "output_type": "stream",
     "text": [
      "/var/folders/g5/dmdm26xd0_s5m4_slz5jkxkw0000gn/T/ipykernel_14808/2157251.py:19: FutureWarning: The frame.append method is deprecated and will be removed from pandas in a future version. Use pandas.concat instead.\n",
      "  df = df.append({'Year': year, 'Male Count': male_pronoun_count, 'Female Count': female_pronoun_count}, ignore_index=True)\n"
     ]
    },
    {
     "name": "stdout",
     "output_type": "stream",
     "text": [
      "1841 58186 2523\n"
     ]
    },
    {
     "name": "stderr",
     "output_type": "stream",
     "text": [
      "/var/folders/g5/dmdm26xd0_s5m4_slz5jkxkw0000gn/T/ipykernel_14808/2157251.py:19: FutureWarning: The frame.append method is deprecated and will be removed from pandas in a future version. Use pandas.concat instead.\n",
      "  df = df.append({'Year': year, 'Male Count': male_pronoun_count, 'Female Count': female_pronoun_count}, ignore_index=True)\n"
     ]
    },
    {
     "name": "stdout",
     "output_type": "stream",
     "text": [
      "1842 62144 2031\n"
     ]
    },
    {
     "name": "stderr",
     "output_type": "stream",
     "text": [
      "/var/folders/g5/dmdm26xd0_s5m4_slz5jkxkw0000gn/T/ipykernel_14808/2157251.py:19: FutureWarning: The frame.append method is deprecated and will be removed from pandas in a future version. Use pandas.concat instead.\n",
      "  df = df.append({'Year': year, 'Male Count': male_pronoun_count, 'Female Count': female_pronoun_count}, ignore_index=True)\n",
      "/var/folders/g5/dmdm26xd0_s5m4_slz5jkxkw0000gn/T/ipykernel_14808/2157251.py:19: FutureWarning: The frame.append method is deprecated and will be removed from pandas in a future version. Use pandas.concat instead.\n",
      "  df = df.append({'Year': year, 'Male Count': male_pronoun_count, 'Female Count': female_pronoun_count}, ignore_index=True)\n"
     ]
    },
    {
     "name": "stdout",
     "output_type": "stream",
     "text": [
      "1843 67950 3372\n",
      "1844 24502 1144\n"
     ]
    },
    {
     "name": "stderr",
     "output_type": "stream",
     "text": [
      "/var/folders/g5/dmdm26xd0_s5m4_slz5jkxkw0000gn/T/ipykernel_14808/2157251.py:19: FutureWarning: The frame.append method is deprecated and will be removed from pandas in a future version. Use pandas.concat instead.\n",
      "  df = df.append({'Year': year, 'Male Count': male_pronoun_count, 'Female Count': female_pronoun_count}, ignore_index=True)\n"
     ]
    },
    {
     "name": "stdout",
     "output_type": "stream",
     "text": [
      "1845 64598 2677\n"
     ]
    },
    {
     "name": "stderr",
     "output_type": "stream",
     "text": [
      "/var/folders/g5/dmdm26xd0_s5m4_slz5jkxkw0000gn/T/ipykernel_14808/2157251.py:19: FutureWarning: The frame.append method is deprecated and will be removed from pandas in a future version. Use pandas.concat instead.\n",
      "  df = df.append({'Year': year, 'Male Count': male_pronoun_count, 'Female Count': female_pronoun_count}, ignore_index=True)\n"
     ]
    },
    {
     "name": "stdout",
     "output_type": "stream",
     "text": [
      "1846 81123 3096\n"
     ]
    },
    {
     "name": "stderr",
     "output_type": "stream",
     "text": [
      "/var/folders/g5/dmdm26xd0_s5m4_slz5jkxkw0000gn/T/ipykernel_14808/2157251.py:19: FutureWarning: The frame.append method is deprecated and will be removed from pandas in a future version. Use pandas.concat instead.\n",
      "  df = df.append({'Year': year, 'Male Count': male_pronoun_count, 'Female Count': female_pronoun_count}, ignore_index=True)\n"
     ]
    },
    {
     "name": "stdout",
     "output_type": "stream",
     "text": [
      "1847 75555 4649\n"
     ]
    },
    {
     "name": "stderr",
     "output_type": "stream",
     "text": [
      "/var/folders/g5/dmdm26xd0_s5m4_slz5jkxkw0000gn/T/ipykernel_14808/2157251.py:19: FutureWarning: The frame.append method is deprecated and will be removed from pandas in a future version. Use pandas.concat instead.\n",
      "  df = df.append({'Year': year, 'Male Count': male_pronoun_count, 'Female Count': female_pronoun_count}, ignore_index=True)\n"
     ]
    },
    {
     "name": "stdout",
     "output_type": "stream",
     "text": [
      "1848 63045 3914\n"
     ]
    },
    {
     "name": "stderr",
     "output_type": "stream",
     "text": [
      "/var/folders/g5/dmdm26xd0_s5m4_slz5jkxkw0000gn/T/ipykernel_14808/2157251.py:19: FutureWarning: The frame.append method is deprecated and will be removed from pandas in a future version. Use pandas.concat instead.\n",
      "  df = df.append({'Year': year, 'Male Count': male_pronoun_count, 'Female Count': female_pronoun_count}, ignore_index=True)\n"
     ]
    },
    {
     "name": "stdout",
     "output_type": "stream",
     "text": [
      "1849 48373 2941\n"
     ]
    },
    {
     "name": "stderr",
     "output_type": "stream",
     "text": [
      "/var/folders/g5/dmdm26xd0_s5m4_slz5jkxkw0000gn/T/ipykernel_14808/2157251.py:19: FutureWarning: The frame.append method is deprecated and will be removed from pandas in a future version. Use pandas.concat instead.\n",
      "  df = df.append({'Year': year, 'Male Count': male_pronoun_count, 'Female Count': female_pronoun_count}, ignore_index=True)\n",
      "/var/folders/g5/dmdm26xd0_s5m4_slz5jkxkw0000gn/T/ipykernel_14808/2157251.py:19: FutureWarning: The frame.append method is deprecated and will be removed from pandas in a future version. Use pandas.concat instead.\n",
      "  df = df.append({'Year': year, 'Male Count': male_pronoun_count, 'Female Count': female_pronoun_count}, ignore_index=True)\n"
     ]
    },
    {
     "name": "stdout",
     "output_type": "stream",
     "text": [
      "1850 56689 2742\n",
      "1851 38940 1840\n"
     ]
    },
    {
     "name": "stderr",
     "output_type": "stream",
     "text": [
      "/var/folders/g5/dmdm26xd0_s5m4_slz5jkxkw0000gn/T/ipykernel_14808/2157251.py:19: FutureWarning: The frame.append method is deprecated and will be removed from pandas in a future version. Use pandas.concat instead.\n",
      "  df = df.append({'Year': year, 'Male Count': male_pronoun_count, 'Female Count': female_pronoun_count}, ignore_index=True)\n"
     ]
    },
    {
     "name": "stdout",
     "output_type": "stream",
     "text": [
      "1852 61157 2828\n"
     ]
    },
    {
     "name": "stderr",
     "output_type": "stream",
     "text": [
      "/var/folders/g5/dmdm26xd0_s5m4_slz5jkxkw0000gn/T/ipykernel_14808/2157251.py:19: FutureWarning: The frame.append method is deprecated and will be removed from pandas in a future version. Use pandas.concat instead.\n",
      "  df = df.append({'Year': year, 'Male Count': male_pronoun_count, 'Female Count': female_pronoun_count}, ignore_index=True)\n"
     ]
    },
    {
     "name": "stdout",
     "output_type": "stream",
     "text": [
      "1853 52349 2390\n"
     ]
    },
    {
     "name": "stderr",
     "output_type": "stream",
     "text": [
      "/var/folders/g5/dmdm26xd0_s5m4_slz5jkxkw0000gn/T/ipykernel_14808/2157251.py:19: FutureWarning: The frame.append method is deprecated and will be removed from pandas in a future version. Use pandas.concat instead.\n",
      "  df = df.append({'Year': year, 'Male Count': male_pronoun_count, 'Female Count': female_pronoun_count}, ignore_index=True)\n"
     ]
    },
    {
     "name": "stdout",
     "output_type": "stream",
     "text": [
      "1854 61598 3276\n"
     ]
    },
    {
     "name": "stderr",
     "output_type": "stream",
     "text": [
      "/var/folders/g5/dmdm26xd0_s5m4_slz5jkxkw0000gn/T/ipykernel_14808/2157251.py:19: FutureWarning: The frame.append method is deprecated and will be removed from pandas in a future version. Use pandas.concat instead.\n",
      "  df = df.append({'Year': year, 'Male Count': male_pronoun_count, 'Female Count': female_pronoun_count}, ignore_index=True)\n"
     ]
    },
    {
     "name": "stdout",
     "output_type": "stream",
     "text": [
      "1855 66258 3332\n"
     ]
    },
    {
     "name": "stderr",
     "output_type": "stream",
     "text": [
      "/var/folders/g5/dmdm26xd0_s5m4_slz5jkxkw0000gn/T/ipykernel_14808/2157251.py:19: FutureWarning: The frame.append method is deprecated and will be removed from pandas in a future version. Use pandas.concat instead.\n",
      "  df = df.append({'Year': year, 'Male Count': male_pronoun_count, 'Female Count': female_pronoun_count}, ignore_index=True)\n"
     ]
    },
    {
     "name": "stdout",
     "output_type": "stream",
     "text": [
      "1856 55055 3215\n"
     ]
    },
    {
     "name": "stderr",
     "output_type": "stream",
     "text": [
      "/var/folders/g5/dmdm26xd0_s5m4_slz5jkxkw0000gn/T/ipykernel_14808/2157251.py:19: FutureWarning: The frame.append method is deprecated and will be removed from pandas in a future version. Use pandas.concat instead.\n",
      "  df = df.append({'Year': year, 'Male Count': male_pronoun_count, 'Female Count': female_pronoun_count}, ignore_index=True)\n"
     ]
    },
    {
     "name": "stdout",
     "output_type": "stream",
     "text": [
      "1857 51098 4463\n"
     ]
    },
    {
     "name": "stderr",
     "output_type": "stream",
     "text": [
      "/var/folders/g5/dmdm26xd0_s5m4_slz5jkxkw0000gn/T/ipykernel_14808/2157251.py:19: FutureWarning: The frame.append method is deprecated and will be removed from pandas in a future version. Use pandas.concat instead.\n",
      "  df = df.append({'Year': year, 'Male Count': male_pronoun_count, 'Female Count': female_pronoun_count}, ignore_index=True)\n",
      "/var/folders/g5/dmdm26xd0_s5m4_slz5jkxkw0000gn/T/ipykernel_14808/2157251.py:19: FutureWarning: The frame.append method is deprecated and will be removed from pandas in a future version. Use pandas.concat instead.\n",
      "  df = df.append({'Year': year, 'Male Count': male_pronoun_count, 'Female Count': female_pronoun_count}, ignore_index=True)\n"
     ]
    },
    {
     "name": "stdout",
     "output_type": "stream",
     "text": [
      "1858 61463 3388\n",
      "1859 25583 2233\n"
     ]
    },
    {
     "name": "stderr",
     "output_type": "stream",
     "text": [
      "/var/folders/g5/dmdm26xd0_s5m4_slz5jkxkw0000gn/T/ipykernel_14808/2157251.py:19: FutureWarning: The frame.append method is deprecated and will be removed from pandas in a future version. Use pandas.concat instead.\n",
      "  df = df.append({'Year': year, 'Male Count': male_pronoun_count, 'Female Count': female_pronoun_count}, ignore_index=True)\n"
     ]
    },
    {
     "name": "stdout",
     "output_type": "stream",
     "text": [
      "1860 42417 1627\n"
     ]
    },
    {
     "name": "stderr",
     "output_type": "stream",
     "text": [
      "/var/folders/g5/dmdm26xd0_s5m4_slz5jkxkw0000gn/T/ipykernel_14808/2157251.py:19: FutureWarning: The frame.append method is deprecated and will be removed from pandas in a future version. Use pandas.concat instead.\n",
      "  df = df.append({'Year': year, 'Male Count': male_pronoun_count, 'Female Count': female_pronoun_count}, ignore_index=True)\n"
     ]
    },
    {
     "name": "stdout",
     "output_type": "stream",
     "text": [
      "1861 64998 3719\n"
     ]
    },
    {
     "name": "stderr",
     "output_type": "stream",
     "text": [
      "/var/folders/g5/dmdm26xd0_s5m4_slz5jkxkw0000gn/T/ipykernel_14808/2157251.py:19: FutureWarning: The frame.append method is deprecated and will be removed from pandas in a future version. Use pandas.concat instead.\n",
      "  df = df.append({'Year': year, 'Male Count': male_pronoun_count, 'Female Count': female_pronoun_count}, ignore_index=True)\n"
     ]
    },
    {
     "name": "stdout",
     "output_type": "stream",
     "text": [
      "1862 47954 2860\n"
     ]
    },
    {
     "name": "stderr",
     "output_type": "stream",
     "text": [
      "/var/folders/g5/dmdm26xd0_s5m4_slz5jkxkw0000gn/T/ipykernel_14808/2157251.py:19: FutureWarning: The frame.append method is deprecated and will be removed from pandas in a future version. Use pandas.concat instead.\n",
      "  df = df.append({'Year': year, 'Male Count': male_pronoun_count, 'Female Count': female_pronoun_count}, ignore_index=True)\n"
     ]
    },
    {
     "name": "stdout",
     "output_type": "stream",
     "text": [
      "1863 58061 4614\n"
     ]
    },
    {
     "name": "stderr",
     "output_type": "stream",
     "text": [
      "/var/folders/g5/dmdm26xd0_s5m4_slz5jkxkw0000gn/T/ipykernel_14808/2157251.py:19: FutureWarning: The frame.append method is deprecated and will be removed from pandas in a future version. Use pandas.concat instead.\n",
      "  df = df.append({'Year': year, 'Male Count': male_pronoun_count, 'Female Count': female_pronoun_count}, ignore_index=True)\n"
     ]
    },
    {
     "name": "stdout",
     "output_type": "stream",
     "text": [
      "1864 43234 3680\n"
     ]
    },
    {
     "name": "stderr",
     "output_type": "stream",
     "text": [
      "/var/folders/g5/dmdm26xd0_s5m4_slz5jkxkw0000gn/T/ipykernel_14808/2157251.py:19: FutureWarning: The frame.append method is deprecated and will be removed from pandas in a future version. Use pandas.concat instead.\n",
      "  df = df.append({'Year': year, 'Male Count': male_pronoun_count, 'Female Count': female_pronoun_count}, ignore_index=True)\n"
     ]
    },
    {
     "name": "stdout",
     "output_type": "stream",
     "text": [
      "1865 59762 3519\n"
     ]
    },
    {
     "name": "stderr",
     "output_type": "stream",
     "text": [
      "/var/folders/g5/dmdm26xd0_s5m4_slz5jkxkw0000gn/T/ipykernel_14808/2157251.py:19: FutureWarning: The frame.append method is deprecated and will be removed from pandas in a future version. Use pandas.concat instead.\n",
      "  df = df.append({'Year': year, 'Male Count': male_pronoun_count, 'Female Count': female_pronoun_count}, ignore_index=True)\n"
     ]
    },
    {
     "name": "stdout",
     "output_type": "stream",
     "text": [
      "1866 44263 2022\n"
     ]
    },
    {
     "name": "stderr",
     "output_type": "stream",
     "text": [
      "/var/folders/g5/dmdm26xd0_s5m4_slz5jkxkw0000gn/T/ipykernel_14808/2157251.py:19: FutureWarning: The frame.append method is deprecated and will be removed from pandas in a future version. Use pandas.concat instead.\n",
      "  df = df.append({'Year': year, 'Male Count': male_pronoun_count, 'Female Count': female_pronoun_count}, ignore_index=True)\n"
     ]
    },
    {
     "name": "stdout",
     "output_type": "stream",
     "text": [
      "1867 63804 3623\n"
     ]
    },
    {
     "name": "stderr",
     "output_type": "stream",
     "text": [
      "/var/folders/g5/dmdm26xd0_s5m4_slz5jkxkw0000gn/T/ipykernel_14808/2157251.py:19: FutureWarning: The frame.append method is deprecated and will be removed from pandas in a future version. Use pandas.concat instead.\n",
      "  df = df.append({'Year': year, 'Male Count': male_pronoun_count, 'Female Count': female_pronoun_count}, ignore_index=True)\n"
     ]
    },
    {
     "name": "stdout",
     "output_type": "stream",
     "text": [
      "1868 56300 3685\n"
     ]
    },
    {
     "name": "stderr",
     "output_type": "stream",
     "text": [
      "/var/folders/g5/dmdm26xd0_s5m4_slz5jkxkw0000gn/T/ipykernel_14808/2157251.py:19: FutureWarning: The frame.append method is deprecated and will be removed from pandas in a future version. Use pandas.concat instead.\n",
      "  df = df.append({'Year': year, 'Male Count': male_pronoun_count, 'Female Count': female_pronoun_count}, ignore_index=True)\n"
     ]
    },
    {
     "name": "stdout",
     "output_type": "stream",
     "text": [
      "1869 52827 2374\n"
     ]
    },
    {
     "name": "stderr",
     "output_type": "stream",
     "text": [
      "/var/folders/g5/dmdm26xd0_s5m4_slz5jkxkw0000gn/T/ipykernel_14808/2157251.py:19: FutureWarning: The frame.append method is deprecated and will be removed from pandas in a future version. Use pandas.concat instead.\n",
      "  df = df.append({'Year': year, 'Male Count': male_pronoun_count, 'Female Count': female_pronoun_count}, ignore_index=True)\n"
     ]
    },
    {
     "name": "stdout",
     "output_type": "stream",
     "text": [
      "1870 82906 4005\n"
     ]
    },
    {
     "name": "stderr",
     "output_type": "stream",
     "text": [
      "/var/folders/g5/dmdm26xd0_s5m4_slz5jkxkw0000gn/T/ipykernel_14808/2157251.py:19: FutureWarning: The frame.append method is deprecated and will be removed from pandas in a future version. Use pandas.concat instead.\n",
      "  df = df.append({'Year': year, 'Male Count': male_pronoun_count, 'Female Count': female_pronoun_count}, ignore_index=True)\n"
     ]
    },
    {
     "name": "stdout",
     "output_type": "stream",
     "text": [
      "1871 52187 2761\n"
     ]
    },
    {
     "name": "stderr",
     "output_type": "stream",
     "text": [
      "/var/folders/g5/dmdm26xd0_s5m4_slz5jkxkw0000gn/T/ipykernel_14808/2157251.py:19: FutureWarning: The frame.append method is deprecated and will be removed from pandas in a future version. Use pandas.concat instead.\n",
      "  df = df.append({'Year': year, 'Male Count': male_pronoun_count, 'Female Count': female_pronoun_count}, ignore_index=True)\n"
     ]
    },
    {
     "name": "stdout",
     "output_type": "stream",
     "text": [
      "1872 63720 3342\n"
     ]
    },
    {
     "name": "stderr",
     "output_type": "stream",
     "text": [
      "/var/folders/g5/dmdm26xd0_s5m4_slz5jkxkw0000gn/T/ipykernel_14808/2157251.py:19: FutureWarning: The frame.append method is deprecated and will be removed from pandas in a future version. Use pandas.concat instead.\n",
      "  df = df.append({'Year': year, 'Male Count': male_pronoun_count, 'Female Count': female_pronoun_count}, ignore_index=True)\n",
      "/var/folders/g5/dmdm26xd0_s5m4_slz5jkxkw0000gn/T/ipykernel_14808/2157251.py:19: FutureWarning: The frame.append method is deprecated and will be removed from pandas in a future version. Use pandas.concat instead.\n",
      "  df = df.append({'Year': year, 'Male Count': male_pronoun_count, 'Female Count': female_pronoun_count}, ignore_index=True)\n"
     ]
    },
    {
     "name": "stdout",
     "output_type": "stream",
     "text": [
      "1873 63450 4806\n",
      "1874 36226 2077\n"
     ]
    },
    {
     "name": "stderr",
     "output_type": "stream",
     "text": [
      "/var/folders/g5/dmdm26xd0_s5m4_slz5jkxkw0000gn/T/ipykernel_14808/2157251.py:19: FutureWarning: The frame.append method is deprecated and will be removed from pandas in a future version. Use pandas.concat instead.\n",
      "  df = df.append({'Year': year, 'Male Count': male_pronoun_count, 'Female Count': female_pronoun_count}, ignore_index=True)\n"
     ]
    },
    {
     "name": "stdout",
     "output_type": "stream",
     "text": [
      "1875 58087 2542\n"
     ]
    },
    {
     "name": "stderr",
     "output_type": "stream",
     "text": [
      "/var/folders/g5/dmdm26xd0_s5m4_slz5jkxkw0000gn/T/ipykernel_14808/2157251.py:19: FutureWarning: The frame.append method is deprecated and will be removed from pandas in a future version. Use pandas.concat instead.\n",
      "  df = df.append({'Year': year, 'Male Count': male_pronoun_count, 'Female Count': female_pronoun_count}, ignore_index=True)\n"
     ]
    },
    {
     "name": "stdout",
     "output_type": "stream",
     "text": [
      "1876 53294 3631\n"
     ]
    },
    {
     "name": "stderr",
     "output_type": "stream",
     "text": [
      "/var/folders/g5/dmdm26xd0_s5m4_slz5jkxkw0000gn/T/ipykernel_14808/2157251.py:19: FutureWarning: The frame.append method is deprecated and will be removed from pandas in a future version. Use pandas.concat instead.\n",
      "  df = df.append({'Year': year, 'Male Count': male_pronoun_count, 'Female Count': female_pronoun_count}, ignore_index=True)\n"
     ]
    },
    {
     "name": "stdout",
     "output_type": "stream",
     "text": [
      "1877 66192 4737\n"
     ]
    },
    {
     "name": "stderr",
     "output_type": "stream",
     "text": [
      "/var/folders/g5/dmdm26xd0_s5m4_slz5jkxkw0000gn/T/ipykernel_14808/2157251.py:19: FutureWarning: The frame.append method is deprecated and will be removed from pandas in a future version. Use pandas.concat instead.\n",
      "  df = df.append({'Year': year, 'Male Count': male_pronoun_count, 'Female Count': female_pronoun_count}, ignore_index=True)\n",
      "/var/folders/g5/dmdm26xd0_s5m4_slz5jkxkw0000gn/T/ipykernel_14808/2157251.py:19: FutureWarning: The frame.append method is deprecated and will be removed from pandas in a future version. Use pandas.concat instead.\n",
      "  df = df.append({'Year': year, 'Male Count': male_pronoun_count, 'Female Count': female_pronoun_count}, ignore_index=True)\n"
     ]
    },
    {
     "name": "stdout",
     "output_type": "stream",
     "text": [
      "1878 55925 5493\n",
      "1879 35008 1525\n"
     ]
    },
    {
     "name": "stderr",
     "output_type": "stream",
     "text": [
      "/var/folders/g5/dmdm26xd0_s5m4_slz5jkxkw0000gn/T/ipykernel_14808/2157251.py:19: FutureWarning: The frame.append method is deprecated and will be removed from pandas in a future version. Use pandas.concat instead.\n",
      "  df = df.append({'Year': year, 'Male Count': male_pronoun_count, 'Female Count': female_pronoun_count}, ignore_index=True)\n",
      "/var/folders/g5/dmdm26xd0_s5m4_slz5jkxkw0000gn/T/ipykernel_14808/2157251.py:19: FutureWarning: The frame.append method is deprecated and will be removed from pandas in a future version. Use pandas.concat instead.\n",
      "  df = df.append({'Year': year, 'Male Count': male_pronoun_count, 'Female Count': female_pronoun_count}, ignore_index=True)\n"
     ]
    },
    {
     "name": "stdout",
     "output_type": "stream",
     "text": [
      "1880 51169 2463\n",
      "1881 38156 1460\n"
     ]
    },
    {
     "name": "stderr",
     "output_type": "stream",
     "text": [
      "/var/folders/g5/dmdm26xd0_s5m4_slz5jkxkw0000gn/T/ipykernel_14808/2157251.py:19: FutureWarning: The frame.append method is deprecated and will be removed from pandas in a future version. Use pandas.concat instead.\n",
      "  df = df.append({'Year': year, 'Male Count': male_pronoun_count, 'Female Count': female_pronoun_count}, ignore_index=True)\n"
     ]
    },
    {
     "name": "stdout",
     "output_type": "stream",
     "text": [
      "1882 34162 1376\n"
     ]
    },
    {
     "name": "stderr",
     "output_type": "stream",
     "text": [
      "/var/folders/g5/dmdm26xd0_s5m4_slz5jkxkw0000gn/T/ipykernel_14808/2157251.py:19: FutureWarning: The frame.append method is deprecated and will be removed from pandas in a future version. Use pandas.concat instead.\n",
      "  df = df.append({'Year': year, 'Male Count': male_pronoun_count, 'Female Count': female_pronoun_count}, ignore_index=True)\n",
      "/var/folders/g5/dmdm26xd0_s5m4_slz5jkxkw0000gn/T/ipykernel_14808/2157251.py:19: FutureWarning: The frame.append method is deprecated and will be removed from pandas in a future version. Use pandas.concat instead.\n",
      "  df = df.append({'Year': year, 'Male Count': male_pronoun_count, 'Female Count': female_pronoun_count}, ignore_index=True)\n"
     ]
    },
    {
     "name": "stdout",
     "output_type": "stream",
     "text": [
      "1883 49739 1666\n",
      "1884 30601 2323\n"
     ]
    },
    {
     "name": "stderr",
     "output_type": "stream",
     "text": [
      "/var/folders/g5/dmdm26xd0_s5m4_slz5jkxkw0000gn/T/ipykernel_14808/2157251.py:19: FutureWarning: The frame.append method is deprecated and will be removed from pandas in a future version. Use pandas.concat instead.\n",
      "  df = df.append({'Year': year, 'Male Count': male_pronoun_count, 'Female Count': female_pronoun_count}, ignore_index=True)\n"
     ]
    },
    {
     "name": "stdout",
     "output_type": "stream",
     "text": [
      "1885 39349 1695\n"
     ]
    },
    {
     "name": "stderr",
     "output_type": "stream",
     "text": [
      "/var/folders/g5/dmdm26xd0_s5m4_slz5jkxkw0000gn/T/ipykernel_14808/2157251.py:19: FutureWarning: The frame.append method is deprecated and will be removed from pandas in a future version. Use pandas.concat instead.\n",
      "  df = df.append({'Year': year, 'Male Count': male_pronoun_count, 'Female Count': female_pronoun_count}, ignore_index=True)\n"
     ]
    },
    {
     "name": "stdout",
     "output_type": "stream",
     "text": [
      "1886 39764 2909\n"
     ]
    },
    {
     "name": "stderr",
     "output_type": "stream",
     "text": [
      "/var/folders/g5/dmdm26xd0_s5m4_slz5jkxkw0000gn/T/ipykernel_14808/2157251.py:19: FutureWarning: The frame.append method is deprecated and will be removed from pandas in a future version. Use pandas.concat instead.\n",
      "  df = df.append({'Year': year, 'Male Count': male_pronoun_count, 'Female Count': female_pronoun_count}, ignore_index=True)\n"
     ]
    },
    {
     "name": "stdout",
     "output_type": "stream",
     "text": [
      "1887 42896 2287\n"
     ]
    },
    {
     "name": "stderr",
     "output_type": "stream",
     "text": [
      "/var/folders/g5/dmdm26xd0_s5m4_slz5jkxkw0000gn/T/ipykernel_14808/2157251.py:19: FutureWarning: The frame.append method is deprecated and will be removed from pandas in a future version. Use pandas.concat instead.\n",
      "  df = df.append({'Year': year, 'Male Count': male_pronoun_count, 'Female Count': female_pronoun_count}, ignore_index=True)\n"
     ]
    },
    {
     "name": "stdout",
     "output_type": "stream",
     "text": [
      "1888 55686 2063\n"
     ]
    },
    {
     "name": "stderr",
     "output_type": "stream",
     "text": [
      "/var/folders/g5/dmdm26xd0_s5m4_slz5jkxkw0000gn/T/ipykernel_14808/2157251.py:19: FutureWarning: The frame.append method is deprecated and will be removed from pandas in a future version. Use pandas.concat instead.\n",
      "  df = df.append({'Year': year, 'Male Count': male_pronoun_count, 'Female Count': female_pronoun_count}, ignore_index=True)\n"
     ]
    },
    {
     "name": "stdout",
     "output_type": "stream",
     "text": [
      "1889 33074 2409\n"
     ]
    },
    {
     "name": "stderr",
     "output_type": "stream",
     "text": [
      "/var/folders/g5/dmdm26xd0_s5m4_slz5jkxkw0000gn/T/ipykernel_14808/2157251.py:19: FutureWarning: The frame.append method is deprecated and will be removed from pandas in a future version. Use pandas.concat instead.\n",
      "  df = df.append({'Year': year, 'Male Count': male_pronoun_count, 'Female Count': female_pronoun_count}, ignore_index=True)\n",
      "/var/folders/g5/dmdm26xd0_s5m4_slz5jkxkw0000gn/T/ipykernel_14808/2157251.py:19: FutureWarning: The frame.append method is deprecated and will be removed from pandas in a future version. Use pandas.concat instead.\n",
      "  df = df.append({'Year': year, 'Male Count': male_pronoun_count, 'Female Count': female_pronoun_count}, ignore_index=True)\n"
     ]
    },
    {
     "name": "stdout",
     "output_type": "stream",
     "text": [
      "1890 23796 2649\n",
      "1891 8777 685\n"
     ]
    },
    {
     "name": "stderr",
     "output_type": "stream",
     "text": [
      "/var/folders/g5/dmdm26xd0_s5m4_slz5jkxkw0000gn/T/ipykernel_14808/2157251.py:19: FutureWarning: The frame.append method is deprecated and will be removed from pandas in a future version. Use pandas.concat instead.\n",
      "  df = df.append({'Year': year, 'Male Count': male_pronoun_count, 'Female Count': female_pronoun_count}, ignore_index=True)\n",
      "/var/folders/g5/dmdm26xd0_s5m4_slz5jkxkw0000gn/T/ipykernel_14808/2157251.py:19: FutureWarning: The frame.append method is deprecated and will be removed from pandas in a future version. Use pandas.concat instead.\n",
      "  df = df.append({'Year': year, 'Male Count': male_pronoun_count, 'Female Count': female_pronoun_count}, ignore_index=True)\n"
     ]
    },
    {
     "name": "stdout",
     "output_type": "stream",
     "text": [
      "1892 18637 1710\n",
      "1893 19552 879\n"
     ]
    },
    {
     "name": "stderr",
     "output_type": "stream",
     "text": [
      "/var/folders/g5/dmdm26xd0_s5m4_slz5jkxkw0000gn/T/ipykernel_14808/2157251.py:19: FutureWarning: The frame.append method is deprecated and will be removed from pandas in a future version. Use pandas.concat instead.\n",
      "  df = df.append({'Year': year, 'Male Count': male_pronoun_count, 'Female Count': female_pronoun_count}, ignore_index=True)\n"
     ]
    },
    {
     "name": "stdout",
     "output_type": "stream",
     "text": [
      "1894 59776 2326\n"
     ]
    },
    {
     "name": "stderr",
     "output_type": "stream",
     "text": [
      "/var/folders/g5/dmdm26xd0_s5m4_slz5jkxkw0000gn/T/ipykernel_14808/2157251.py:19: FutureWarning: The frame.append method is deprecated and will be removed from pandas in a future version. Use pandas.concat instead.\n",
      "  df = df.append({'Year': year, 'Male Count': male_pronoun_count, 'Female Count': female_pronoun_count}, ignore_index=True)\n"
     ]
    },
    {
     "name": "stdout",
     "output_type": "stream",
     "text": [
      "1895 60052 2838\n"
     ]
    },
    {
     "name": "stderr",
     "output_type": "stream",
     "text": [
      "/var/folders/g5/dmdm26xd0_s5m4_slz5jkxkw0000gn/T/ipykernel_14808/2157251.py:19: FutureWarning: The frame.append method is deprecated and will be removed from pandas in a future version. Use pandas.concat instead.\n",
      "  df = df.append({'Year': year, 'Male Count': male_pronoun_count, 'Female Count': female_pronoun_count}, ignore_index=True)\n"
     ]
    },
    {
     "name": "stdout",
     "output_type": "stream",
     "text": [
      "1896 61498 1775\n"
     ]
    },
    {
     "name": "stderr",
     "output_type": "stream",
     "text": [
      "/var/folders/g5/dmdm26xd0_s5m4_slz5jkxkw0000gn/T/ipykernel_14808/2157251.py:19: FutureWarning: The frame.append method is deprecated and will be removed from pandas in a future version. Use pandas.concat instead.\n",
      "  df = df.append({'Year': year, 'Male Count': male_pronoun_count, 'Female Count': female_pronoun_count}, ignore_index=True)\n",
      "/var/folders/g5/dmdm26xd0_s5m4_slz5jkxkw0000gn/T/ipykernel_14808/2157251.py:19: FutureWarning: The frame.append method is deprecated and will be removed from pandas in a future version. Use pandas.concat instead.\n",
      "  df = df.append({'Year': year, 'Male Count': male_pronoun_count, 'Female Count': female_pronoun_count}, ignore_index=True)\n"
     ]
    },
    {
     "name": "stdout",
     "output_type": "stream",
     "text": [
      "1897 41145 2510\n",
      "1898 15021 1653\n"
     ]
    },
    {
     "name": "stderr",
     "output_type": "stream",
     "text": [
      "/var/folders/g5/dmdm26xd0_s5m4_slz5jkxkw0000gn/T/ipykernel_14808/2157251.py:19: FutureWarning: The frame.append method is deprecated and will be removed from pandas in a future version. Use pandas.concat instead.\n",
      "  df = df.append({'Year': year, 'Male Count': male_pronoun_count, 'Female Count': female_pronoun_count}, ignore_index=True)\n"
     ]
    },
    {
     "name": "stdout",
     "output_type": "stream",
     "text": [
      "1899 14074 987\n"
     ]
    },
    {
     "name": "stderr",
     "output_type": "stream",
     "text": [
      "/var/folders/g5/dmdm26xd0_s5m4_slz5jkxkw0000gn/T/ipykernel_14808/2157251.py:19: FutureWarning: The frame.append method is deprecated and will be removed from pandas in a future version. Use pandas.concat instead.\n",
      "  df = df.append({'Year': year, 'Male Count': male_pronoun_count, 'Female Count': female_pronoun_count}, ignore_index=True)\n",
      "/var/folders/g5/dmdm26xd0_s5m4_slz5jkxkw0000gn/T/ipykernel_14808/2157251.py:19: FutureWarning: The frame.append method is deprecated and will be removed from pandas in a future version. Use pandas.concat instead.\n",
      "  df = df.append({'Year': year, 'Male Count': male_pronoun_count, 'Female Count': female_pronoun_count}, ignore_index=True)\n"
     ]
    },
    {
     "name": "stdout",
     "output_type": "stream",
     "text": [
      "1900 21786 1623\n",
      "1901 24055 1417\n"
     ]
    },
    {
     "name": "stderr",
     "output_type": "stream",
     "text": [
      "/var/folders/g5/dmdm26xd0_s5m4_slz5jkxkw0000gn/T/ipykernel_14808/2157251.py:19: FutureWarning: The frame.append method is deprecated and will be removed from pandas in a future version. Use pandas.concat instead.\n",
      "  df = df.append({'Year': year, 'Male Count': male_pronoun_count, 'Female Count': female_pronoun_count}, ignore_index=True)\n",
      "/var/folders/g5/dmdm26xd0_s5m4_slz5jkxkw0000gn/T/ipykernel_14808/2157251.py:19: FutureWarning: The frame.append method is deprecated and will be removed from pandas in a future version. Use pandas.concat instead.\n",
      "  df = df.append({'Year': year, 'Male Count': male_pronoun_count, 'Female Count': female_pronoun_count}, ignore_index=True)\n"
     ]
    },
    {
     "name": "stdout",
     "output_type": "stream",
     "text": [
      "1902 67980 1101\n",
      "1903 15743 660\n"
     ]
    },
    {
     "name": "stderr",
     "output_type": "stream",
     "text": [
      "/var/folders/g5/dmdm26xd0_s5m4_slz5jkxkw0000gn/T/ipykernel_14808/2157251.py:19: FutureWarning: The frame.append method is deprecated and will be removed from pandas in a future version. Use pandas.concat instead.\n",
      "  df = df.append({'Year': year, 'Male Count': male_pronoun_count, 'Female Count': female_pronoun_count}, ignore_index=True)\n",
      "/var/folders/g5/dmdm26xd0_s5m4_slz5jkxkw0000gn/T/ipykernel_14808/2157251.py:19: FutureWarning: The frame.append method is deprecated and will be removed from pandas in a future version. Use pandas.concat instead.\n",
      "  df = df.append({'Year': year, 'Male Count': male_pronoun_count, 'Female Count': female_pronoun_count}, ignore_index=True)\n"
     ]
    },
    {
     "name": "stdout",
     "output_type": "stream",
     "text": [
      "1904 40536 470\n",
      "1905 16247 194\n"
     ]
    },
    {
     "name": "stderr",
     "output_type": "stream",
     "text": [
      "/var/folders/g5/dmdm26xd0_s5m4_slz5jkxkw0000gn/T/ipykernel_14808/2157251.py:19: FutureWarning: The frame.append method is deprecated and will be removed from pandas in a future version. Use pandas.concat instead.\n",
      "  df = df.append({'Year': year, 'Male Count': male_pronoun_count, 'Female Count': female_pronoun_count}, ignore_index=True)\n",
      "/var/folders/g5/dmdm26xd0_s5m4_slz5jkxkw0000gn/T/ipykernel_14808/2157251.py:19: FutureWarning: The frame.append method is deprecated and will be removed from pandas in a future version. Use pandas.concat instead.\n",
      "  df = df.append({'Year': year, 'Male Count': male_pronoun_count, 'Female Count': female_pronoun_count}, ignore_index=True)\n"
     ]
    },
    {
     "name": "stdout",
     "output_type": "stream",
     "text": [
      "1906 38872 460\n",
      "1907 36676 661\n"
     ]
    },
    {
     "name": "stderr",
     "output_type": "stream",
     "text": [
      "/var/folders/g5/dmdm26xd0_s5m4_slz5jkxkw0000gn/T/ipykernel_14808/2157251.py:19: FutureWarning: The frame.append method is deprecated and will be removed from pandas in a future version. Use pandas.concat instead.\n",
      "  df = df.append({'Year': year, 'Male Count': male_pronoun_count, 'Female Count': female_pronoun_count}, ignore_index=True)\n",
      "/var/folders/g5/dmdm26xd0_s5m4_slz5jkxkw0000gn/T/ipykernel_14808/2157251.py:19: FutureWarning: The frame.append method is deprecated and will be removed from pandas in a future version. Use pandas.concat instead.\n",
      "  df = df.append({'Year': year, 'Male Count': male_pronoun_count, 'Female Count': female_pronoun_count}, ignore_index=True)\n"
     ]
    },
    {
     "name": "stdout",
     "output_type": "stream",
     "text": [
      "1908 34880 649\n",
      "1909 12698 474\n"
     ]
    },
    {
     "name": "stderr",
     "output_type": "stream",
     "text": [
      "/var/folders/g5/dmdm26xd0_s5m4_slz5jkxkw0000gn/T/ipykernel_14808/2157251.py:19: FutureWarning: The frame.append method is deprecated and will be removed from pandas in a future version. Use pandas.concat instead.\n",
      "  df = df.append({'Year': year, 'Male Count': male_pronoun_count, 'Female Count': female_pronoun_count}, ignore_index=True)\n"
     ]
    },
    {
     "name": "stdout",
     "output_type": "stream",
     "text": [
      "1910 20168 1074\n"
     ]
    },
    {
     "name": "stderr",
     "output_type": "stream",
     "text": [
      "/var/folders/g5/dmdm26xd0_s5m4_slz5jkxkw0000gn/T/ipykernel_14808/2157251.py:19: FutureWarning: The frame.append method is deprecated and will be removed from pandas in a future version. Use pandas.concat instead.\n",
      "  df = df.append({'Year': year, 'Male Count': male_pronoun_count, 'Female Count': female_pronoun_count}, ignore_index=True)\n",
      "/var/folders/g5/dmdm26xd0_s5m4_slz5jkxkw0000gn/T/ipykernel_14808/2157251.py:19: FutureWarning: The frame.append method is deprecated and will be removed from pandas in a future version. Use pandas.concat instead.\n",
      "  df = df.append({'Year': year, 'Male Count': male_pronoun_count, 'Female Count': female_pronoun_count}, ignore_index=True)\n"
     ]
    },
    {
     "name": "stdout",
     "output_type": "stream",
     "text": [
      "1911 26475 1603\n",
      "1912 21102 992\n"
     ]
    },
    {
     "name": "stderr",
     "output_type": "stream",
     "text": [
      "/var/folders/g5/dmdm26xd0_s5m4_slz5jkxkw0000gn/T/ipykernel_14808/2157251.py:19: FutureWarning: The frame.append method is deprecated and will be removed from pandas in a future version. Use pandas.concat instead.\n",
      "  df = df.append({'Year': year, 'Male Count': male_pronoun_count, 'Female Count': female_pronoun_count}, ignore_index=True)\n",
      "/var/folders/g5/dmdm26xd0_s5m4_slz5jkxkw0000gn/T/ipykernel_14808/2157251.py:19: FutureWarning: The frame.append method is deprecated and will be removed from pandas in a future version. Use pandas.concat instead.\n",
      "  df = df.append({'Year': year, 'Male Count': male_pronoun_count, 'Female Count': female_pronoun_count}, ignore_index=True)\n"
     ]
    },
    {
     "name": "stdout",
     "output_type": "stream",
     "text": [
      "1913 41582 2316\n",
      "1914 11693 390\n"
     ]
    },
    {
     "name": "stderr",
     "output_type": "stream",
     "text": [
      "/var/folders/g5/dmdm26xd0_s5m4_slz5jkxkw0000gn/T/ipykernel_14808/2157251.py:19: FutureWarning: The frame.append method is deprecated and will be removed from pandas in a future version. Use pandas.concat instead.\n",
      "  df = df.append({'Year': year, 'Male Count': male_pronoun_count, 'Female Count': female_pronoun_count}, ignore_index=True)\n",
      "/var/folders/g5/dmdm26xd0_s5m4_slz5jkxkw0000gn/T/ipykernel_14808/2157251.py:19: FutureWarning: The frame.append method is deprecated and will be removed from pandas in a future version. Use pandas.concat instead.\n",
      "  df = df.append({'Year': year, 'Male Count': male_pronoun_count, 'Female Count': female_pronoun_count}, ignore_index=True)\n"
     ]
    },
    {
     "name": "stdout",
     "output_type": "stream",
     "text": [
      "1915 18820 1062\n",
      "1916 12831 381\n"
     ]
    },
    {
     "name": "stderr",
     "output_type": "stream",
     "text": [
      "/var/folders/g5/dmdm26xd0_s5m4_slz5jkxkw0000gn/T/ipykernel_14808/2157251.py:19: FutureWarning: The frame.append method is deprecated and will be removed from pandas in a future version. Use pandas.concat instead.\n",
      "  df = df.append({'Year': year, 'Male Count': male_pronoun_count, 'Female Count': female_pronoun_count}, ignore_index=True)\n"
     ]
    },
    {
     "name": "stdout",
     "output_type": "stream",
     "text": [
      "1917 14959 332\n"
     ]
    },
    {
     "name": "stderr",
     "output_type": "stream",
     "text": [
      "/var/folders/g5/dmdm26xd0_s5m4_slz5jkxkw0000gn/T/ipykernel_14808/2157251.py:19: FutureWarning: The frame.append method is deprecated and will be removed from pandas in a future version. Use pandas.concat instead.\n",
      "  df = df.append({'Year': year, 'Male Count': male_pronoun_count, 'Female Count': female_pronoun_count}, ignore_index=True)\n"
     ]
    },
    {
     "name": "stdout",
     "output_type": "stream",
     "text": [
      "1918 33357 2686\n"
     ]
    },
    {
     "name": "stderr",
     "output_type": "stream",
     "text": [
      "/var/folders/g5/dmdm26xd0_s5m4_slz5jkxkw0000gn/T/ipykernel_14808/2157251.py:19: FutureWarning: The frame.append method is deprecated and will be removed from pandas in a future version. Use pandas.concat instead.\n",
      "  df = df.append({'Year': year, 'Male Count': male_pronoun_count, 'Female Count': female_pronoun_count}, ignore_index=True)\n"
     ]
    },
    {
     "name": "stdout",
     "output_type": "stream",
     "text": [
      "1919 49535 1581\n"
     ]
    },
    {
     "name": "stderr",
     "output_type": "stream",
     "text": [
      "/var/folders/g5/dmdm26xd0_s5m4_slz5jkxkw0000gn/T/ipykernel_14808/2157251.py:19: FutureWarning: The frame.append method is deprecated and will be removed from pandas in a future version. Use pandas.concat instead.\n",
      "  df = df.append({'Year': year, 'Male Count': male_pronoun_count, 'Female Count': female_pronoun_count}, ignore_index=True)\n",
      "/var/folders/g5/dmdm26xd0_s5m4_slz5jkxkw0000gn/T/ipykernel_14808/2157251.py:19: FutureWarning: The frame.append method is deprecated and will be removed from pandas in a future version. Use pandas.concat instead.\n",
      "  df = df.append({'Year': year, 'Male Count': male_pronoun_count, 'Female Count': female_pronoun_count}, ignore_index=True)\n"
     ]
    },
    {
     "name": "stdout",
     "output_type": "stream",
     "text": [
      "1920 19628 769\n",
      "1921 8459 436\n"
     ]
    },
    {
     "name": "stderr",
     "output_type": "stream",
     "text": [
      "/var/folders/g5/dmdm26xd0_s5m4_slz5jkxkw0000gn/T/ipykernel_14808/2157251.py:19: FutureWarning: The frame.append method is deprecated and will be removed from pandas in a future version. Use pandas.concat instead.\n",
      "  df = df.append({'Year': year, 'Male Count': male_pronoun_count, 'Female Count': female_pronoun_count}, ignore_index=True)\n",
      "/var/folders/g5/dmdm26xd0_s5m4_slz5jkxkw0000gn/T/ipykernel_14808/2157251.py:19: FutureWarning: The frame.append method is deprecated and will be removed from pandas in a future version. Use pandas.concat instead.\n",
      "  df = df.append({'Year': year, 'Male Count': male_pronoun_count, 'Female Count': female_pronoun_count}, ignore_index=True)\n"
     ]
    },
    {
     "name": "stdout",
     "output_type": "stream",
     "text": [
      "1922 20341 1499\n",
      "1923 8656 834\n"
     ]
    },
    {
     "name": "stderr",
     "output_type": "stream",
     "text": [
      "/var/folders/g5/dmdm26xd0_s5m4_slz5jkxkw0000gn/T/ipykernel_14808/2157251.py:19: FutureWarning: The frame.append method is deprecated and will be removed from pandas in a future version. Use pandas.concat instead.\n",
      "  df = df.append({'Year': year, 'Male Count': male_pronoun_count, 'Female Count': female_pronoun_count}, ignore_index=True)\n",
      "/var/folders/g5/dmdm26xd0_s5m4_slz5jkxkw0000gn/T/ipykernel_14808/2157251.py:19: FutureWarning: The frame.append method is deprecated and will be removed from pandas in a future version. Use pandas.concat instead.\n",
      "  df = df.append({'Year': year, 'Male Count': male_pronoun_count, 'Female Count': female_pronoun_count}, ignore_index=True)\n"
     ]
    },
    {
     "name": "stdout",
     "output_type": "stream",
     "text": [
      "1924 24575 1838\n",
      "1925 15158 762\n"
     ]
    },
    {
     "name": "stderr",
     "output_type": "stream",
     "text": [
      "/var/folders/g5/dmdm26xd0_s5m4_slz5jkxkw0000gn/T/ipykernel_14808/2157251.py:19: FutureWarning: The frame.append method is deprecated and will be removed from pandas in a future version. Use pandas.concat instead.\n",
      "  df = df.append({'Year': year, 'Male Count': male_pronoun_count, 'Female Count': female_pronoun_count}, ignore_index=True)\n"
     ]
    },
    {
     "name": "stdout",
     "output_type": "stream",
     "text": [
      "1926 27477 761\n"
     ]
    },
    {
     "name": "stderr",
     "output_type": "stream",
     "text": [
      "/var/folders/g5/dmdm26xd0_s5m4_slz5jkxkw0000gn/T/ipykernel_14808/2157251.py:19: FutureWarning: The frame.append method is deprecated and will be removed from pandas in a future version. Use pandas.concat instead.\n",
      "  df = df.append({'Year': year, 'Male Count': male_pronoun_count, 'Female Count': female_pronoun_count}, ignore_index=True)\n",
      "/var/folders/g5/dmdm26xd0_s5m4_slz5jkxkw0000gn/T/ipykernel_14808/2157251.py:19: FutureWarning: The frame.append method is deprecated and will be removed from pandas in a future version. Use pandas.concat instead.\n",
      "  df = df.append({'Year': year, 'Male Count': male_pronoun_count, 'Female Count': female_pronoun_count}, ignore_index=True)\n"
     ]
    },
    {
     "name": "stdout",
     "output_type": "stream",
     "text": [
      "1927 30035 1027\n",
      "1928 16814 391\n"
     ]
    },
    {
     "name": "stderr",
     "output_type": "stream",
     "text": [
      "/var/folders/g5/dmdm26xd0_s5m4_slz5jkxkw0000gn/T/ipykernel_14808/2157251.py:19: FutureWarning: The frame.append method is deprecated and will be removed from pandas in a future version. Use pandas.concat instead.\n",
      "  df = df.append({'Year': year, 'Male Count': male_pronoun_count, 'Female Count': female_pronoun_count}, ignore_index=True)\n"
     ]
    },
    {
     "name": "stdout",
     "output_type": "stream",
     "text": [
      "1929 13468 1029\n"
     ]
    },
    {
     "name": "stderr",
     "output_type": "stream",
     "text": [
      "/var/folders/g5/dmdm26xd0_s5m4_slz5jkxkw0000gn/T/ipykernel_14808/2157251.py:19: FutureWarning: The frame.append method is deprecated and will be removed from pandas in a future version. Use pandas.concat instead.\n",
      "  df = df.append({'Year': year, 'Male Count': male_pronoun_count, 'Female Count': female_pronoun_count}, ignore_index=True)\n",
      "/var/folders/g5/dmdm26xd0_s5m4_slz5jkxkw0000gn/T/ipykernel_14808/2157251.py:19: FutureWarning: The frame.append method is deprecated and will be removed from pandas in a future version. Use pandas.concat instead.\n",
      "  df = df.append({'Year': year, 'Male Count': male_pronoun_count, 'Female Count': female_pronoun_count}, ignore_index=True)\n"
     ]
    },
    {
     "name": "stdout",
     "output_type": "stream",
     "text": [
      "1930 30150 3373\n",
      "1931 19869 1206\n"
     ]
    },
    {
     "name": "stderr",
     "output_type": "stream",
     "text": [
      "/var/folders/g5/dmdm26xd0_s5m4_slz5jkxkw0000gn/T/ipykernel_14808/2157251.py:19: FutureWarning: The frame.append method is deprecated and will be removed from pandas in a future version. Use pandas.concat instead.\n",
      "  df = df.append({'Year': year, 'Male Count': male_pronoun_count, 'Female Count': female_pronoun_count}, ignore_index=True)\n"
     ]
    },
    {
     "name": "stdout",
     "output_type": "stream",
     "text": [
      "1932 24652 712\n"
     ]
    },
    {
     "name": "stderr",
     "output_type": "stream",
     "text": [
      "/var/folders/g5/dmdm26xd0_s5m4_slz5jkxkw0000gn/T/ipykernel_14808/2157251.py:19: FutureWarning: The frame.append method is deprecated and will be removed from pandas in a future version. Use pandas.concat instead.\n",
      "  df = df.append({'Year': year, 'Male Count': male_pronoun_count, 'Female Count': female_pronoun_count}, ignore_index=True)\n"
     ]
    },
    {
     "name": "stdout",
     "output_type": "stream",
     "text": [
      "1933 19309 2300\n"
     ]
    },
    {
     "name": "stderr",
     "output_type": "stream",
     "text": [
      "/var/folders/g5/dmdm26xd0_s5m4_slz5jkxkw0000gn/T/ipykernel_14808/2157251.py:19: FutureWarning: The frame.append method is deprecated and will be removed from pandas in a future version. Use pandas.concat instead.\n",
      "  df = df.append({'Year': year, 'Male Count': male_pronoun_count, 'Female Count': female_pronoun_count}, ignore_index=True)\n"
     ]
    },
    {
     "name": "stdout",
     "output_type": "stream",
     "text": [
      "1934 21116 550\n"
     ]
    },
    {
     "name": "stderr",
     "output_type": "stream",
     "text": [
      "/var/folders/g5/dmdm26xd0_s5m4_slz5jkxkw0000gn/T/ipykernel_14808/2157251.py:19: FutureWarning: The frame.append method is deprecated and will be removed from pandas in a future version. Use pandas.concat instead.\n",
      "  df = df.append({'Year': year, 'Male Count': male_pronoun_count, 'Female Count': female_pronoun_count}, ignore_index=True)\n"
     ]
    },
    {
     "name": "stdout",
     "output_type": "stream",
     "text": [
      "1935 22763 1343\n"
     ]
    },
    {
     "name": "stderr",
     "output_type": "stream",
     "text": [
      "/var/folders/g5/dmdm26xd0_s5m4_slz5jkxkw0000gn/T/ipykernel_14808/2157251.py:19: FutureWarning: The frame.append method is deprecated and will be removed from pandas in a future version. Use pandas.concat instead.\n",
      "  df = df.append({'Year': year, 'Male Count': male_pronoun_count, 'Female Count': female_pronoun_count}, ignore_index=True)\n"
     ]
    },
    {
     "name": "stdout",
     "output_type": "stream",
     "text": [
      "1936 35068 1268\n"
     ]
    },
    {
     "name": "stderr",
     "output_type": "stream",
     "text": [
      "/var/folders/g5/dmdm26xd0_s5m4_slz5jkxkw0000gn/T/ipykernel_14808/2157251.py:19: FutureWarning: The frame.append method is deprecated and will be removed from pandas in a future version. Use pandas.concat instead.\n",
      "  df = df.append({'Year': year, 'Male Count': male_pronoun_count, 'Female Count': female_pronoun_count}, ignore_index=True)\n"
     ]
    },
    {
     "name": "stdout",
     "output_type": "stream",
     "text": [
      "1937 34436 1690\n"
     ]
    },
    {
     "name": "stderr",
     "output_type": "stream",
     "text": [
      "/var/folders/g5/dmdm26xd0_s5m4_slz5jkxkw0000gn/T/ipykernel_14808/2157251.py:19: FutureWarning: The frame.append method is deprecated and will be removed from pandas in a future version. Use pandas.concat instead.\n",
      "  df = df.append({'Year': year, 'Male Count': male_pronoun_count, 'Female Count': female_pronoun_count}, ignore_index=True)\n"
     ]
    },
    {
     "name": "stdout",
     "output_type": "stream",
     "text": [
      "1938 27806 1436\n"
     ]
    },
    {
     "name": "stderr",
     "output_type": "stream",
     "text": [
      "/var/folders/g5/dmdm26xd0_s5m4_slz5jkxkw0000gn/T/ipykernel_14808/2157251.py:19: FutureWarning: The frame.append method is deprecated and will be removed from pandas in a future version. Use pandas.concat instead.\n",
      "  df = df.append({'Year': year, 'Male Count': male_pronoun_count, 'Female Count': female_pronoun_count}, ignore_index=True)\n"
     ]
    },
    {
     "name": "stdout",
     "output_type": "stream",
     "text": [
      "1939 21195 1031\n"
     ]
    },
    {
     "name": "stderr",
     "output_type": "stream",
     "text": [
      "/var/folders/g5/dmdm26xd0_s5m4_slz5jkxkw0000gn/T/ipykernel_14808/2157251.py:19: FutureWarning: The frame.append method is deprecated and will be removed from pandas in a future version. Use pandas.concat instead.\n",
      "  df = df.append({'Year': year, 'Male Count': male_pronoun_count, 'Female Count': female_pronoun_count}, ignore_index=True)\n",
      "/var/folders/g5/dmdm26xd0_s5m4_slz5jkxkw0000gn/T/ipykernel_14808/2157251.py:19: FutureWarning: The frame.append method is deprecated and will be removed from pandas in a future version. Use pandas.concat instead.\n",
      "  df = df.append({'Year': year, 'Male Count': male_pronoun_count, 'Female Count': female_pronoun_count}, ignore_index=True)\n"
     ]
    },
    {
     "name": "stdout",
     "output_type": "stream",
     "text": [
      "1940 20600 1132\n",
      "1941 16488 809\n"
     ]
    },
    {
     "name": "stderr",
     "output_type": "stream",
     "text": [
      "/var/folders/g5/dmdm26xd0_s5m4_slz5jkxkw0000gn/T/ipykernel_14808/2157251.py:19: FutureWarning: The frame.append method is deprecated and will be removed from pandas in a future version. Use pandas.concat instead.\n",
      "  df = df.append({'Year': year, 'Male Count': male_pronoun_count, 'Female Count': female_pronoun_count}, ignore_index=True)\n"
     ]
    },
    {
     "name": "stdout",
     "output_type": "stream",
     "text": [
      "1942 19483 769\n"
     ]
    },
    {
     "name": "stderr",
     "output_type": "stream",
     "text": [
      "/var/folders/g5/dmdm26xd0_s5m4_slz5jkxkw0000gn/T/ipykernel_14808/2157251.py:19: FutureWarning: The frame.append method is deprecated and will be removed from pandas in a future version. Use pandas.concat instead.\n",
      "  df = df.append({'Year': year, 'Male Count': male_pronoun_count, 'Female Count': female_pronoun_count}, ignore_index=True)\n"
     ]
    },
    {
     "name": "stdout",
     "output_type": "stream",
     "text": [
      "1943 29690 1969\n"
     ]
    },
    {
     "name": "stderr",
     "output_type": "stream",
     "text": [
      "/var/folders/g5/dmdm26xd0_s5m4_slz5jkxkw0000gn/T/ipykernel_14808/2157251.py:19: FutureWarning: The frame.append method is deprecated and will be removed from pandas in a future version. Use pandas.concat instead.\n",
      "  df = df.append({'Year': year, 'Male Count': male_pronoun_count, 'Female Count': female_pronoun_count}, ignore_index=True)\n"
     ]
    },
    {
     "name": "stdout",
     "output_type": "stream",
     "text": [
      "1944 33162 1549\n"
     ]
    },
    {
     "name": "stderr",
     "output_type": "stream",
     "text": [
      "/var/folders/g5/dmdm26xd0_s5m4_slz5jkxkw0000gn/T/ipykernel_14808/2157251.py:19: FutureWarning: The frame.append method is deprecated and will be removed from pandas in a future version. Use pandas.concat instead.\n",
      "  df = df.append({'Year': year, 'Male Count': male_pronoun_count, 'Female Count': female_pronoun_count}, ignore_index=True)\n"
     ]
    },
    {
     "name": "stdout",
     "output_type": "stream",
     "text": [
      "1945 26352 1422\n"
     ]
    },
    {
     "name": "stderr",
     "output_type": "stream",
     "text": [
      "/var/folders/g5/dmdm26xd0_s5m4_slz5jkxkw0000gn/T/ipykernel_14808/2157251.py:19: FutureWarning: The frame.append method is deprecated and will be removed from pandas in a future version. Use pandas.concat instead.\n",
      "  df = df.append({'Year': year, 'Male Count': male_pronoun_count, 'Female Count': female_pronoun_count}, ignore_index=True)\n"
     ]
    },
    {
     "name": "stdout",
     "output_type": "stream",
     "text": [
      "1946 36095 1867\n"
     ]
    },
    {
     "name": "stderr",
     "output_type": "stream",
     "text": [
      "/var/folders/g5/dmdm26xd0_s5m4_slz5jkxkw0000gn/T/ipykernel_14808/2157251.py:19: FutureWarning: The frame.append method is deprecated and will be removed from pandas in a future version. Use pandas.concat instead.\n",
      "  df = df.append({'Year': year, 'Male Count': male_pronoun_count, 'Female Count': female_pronoun_count}, ignore_index=True)\n"
     ]
    },
    {
     "name": "stdout",
     "output_type": "stream",
     "text": [
      "1947 64319 2768\n"
     ]
    },
    {
     "name": "stderr",
     "output_type": "stream",
     "text": [
      "/var/folders/g5/dmdm26xd0_s5m4_slz5jkxkw0000gn/T/ipykernel_14808/2157251.py:19: FutureWarning: The frame.append method is deprecated and will be removed from pandas in a future version. Use pandas.concat instead.\n",
      "  df = df.append({'Year': year, 'Male Count': male_pronoun_count, 'Female Count': female_pronoun_count}, ignore_index=True)\n"
     ]
    },
    {
     "name": "stdout",
     "output_type": "stream",
     "text": [
      "1948 51141 2027\n"
     ]
    },
    {
     "name": "stderr",
     "output_type": "stream",
     "text": [
      "/var/folders/g5/dmdm26xd0_s5m4_slz5jkxkw0000gn/T/ipykernel_14808/2157251.py:19: FutureWarning: The frame.append method is deprecated and will be removed from pandas in a future version. Use pandas.concat instead.\n",
      "  df = df.append({'Year': year, 'Male Count': male_pronoun_count, 'Female Count': female_pronoun_count}, ignore_index=True)\n"
     ]
    },
    {
     "name": "stdout",
     "output_type": "stream",
     "text": [
      "1949 38892 3484\n"
     ]
    },
    {
     "name": "stderr",
     "output_type": "stream",
     "text": [
      "/var/folders/g5/dmdm26xd0_s5m4_slz5jkxkw0000gn/T/ipykernel_14808/2157251.py:19: FutureWarning: The frame.append method is deprecated and will be removed from pandas in a future version. Use pandas.concat instead.\n",
      "  df = df.append({'Year': year, 'Male Count': male_pronoun_count, 'Female Count': female_pronoun_count}, ignore_index=True)\n"
     ]
    },
    {
     "name": "stdout",
     "output_type": "stream",
     "text": [
      "1950 36815 1790\n"
     ]
    },
    {
     "name": "stderr",
     "output_type": "stream",
     "text": [
      "/var/folders/g5/dmdm26xd0_s5m4_slz5jkxkw0000gn/T/ipykernel_14808/2157251.py:19: FutureWarning: The frame.append method is deprecated and will be removed from pandas in a future version. Use pandas.concat instead.\n",
      "  df = df.append({'Year': year, 'Male Count': male_pronoun_count, 'Female Count': female_pronoun_count}, ignore_index=True)\n"
     ]
    },
    {
     "name": "stdout",
     "output_type": "stream",
     "text": [
      "1951 26290 1712\n"
     ]
    },
    {
     "name": "stderr",
     "output_type": "stream",
     "text": [
      "/var/folders/g5/dmdm26xd0_s5m4_slz5jkxkw0000gn/T/ipykernel_14808/2157251.py:19: FutureWarning: The frame.append method is deprecated and will be removed from pandas in a future version. Use pandas.concat instead.\n",
      "  df = df.append({'Year': year, 'Male Count': male_pronoun_count, 'Female Count': female_pronoun_count}, ignore_index=True)\n"
     ]
    },
    {
     "name": "stdout",
     "output_type": "stream",
     "text": [
      "1952 51426 3891\n"
     ]
    },
    {
     "name": "stderr",
     "output_type": "stream",
     "text": [
      "/var/folders/g5/dmdm26xd0_s5m4_slz5jkxkw0000gn/T/ipykernel_14808/2157251.py:19: FutureWarning: The frame.append method is deprecated and will be removed from pandas in a future version. Use pandas.concat instead.\n",
      "  df = df.append({'Year': year, 'Male Count': male_pronoun_count, 'Female Count': female_pronoun_count}, ignore_index=True)\n"
     ]
    },
    {
     "name": "stdout",
     "output_type": "stream",
     "text": [
      "1953 35038 4159\n"
     ]
    },
    {
     "name": "stderr",
     "output_type": "stream",
     "text": [
      "/var/folders/g5/dmdm26xd0_s5m4_slz5jkxkw0000gn/T/ipykernel_14808/2157251.py:19: FutureWarning: The frame.append method is deprecated and will be removed from pandas in a future version. Use pandas.concat instead.\n",
      "  df = df.append({'Year': year, 'Male Count': male_pronoun_count, 'Female Count': female_pronoun_count}, ignore_index=True)\n"
     ]
    },
    {
     "name": "stdout",
     "output_type": "stream",
     "text": [
      "1954 35595 3318\n"
     ]
    },
    {
     "name": "stderr",
     "output_type": "stream",
     "text": [
      "/var/folders/g5/dmdm26xd0_s5m4_slz5jkxkw0000gn/T/ipykernel_14808/2157251.py:19: FutureWarning: The frame.append method is deprecated and will be removed from pandas in a future version. Use pandas.concat instead.\n",
      "  df = df.append({'Year': year, 'Male Count': male_pronoun_count, 'Female Count': female_pronoun_count}, ignore_index=True)\n"
     ]
    },
    {
     "name": "stdout",
     "output_type": "stream",
     "text": [
      "1955 37733 2706\n"
     ]
    },
    {
     "name": "stderr",
     "output_type": "stream",
     "text": [
      "/var/folders/g5/dmdm26xd0_s5m4_slz5jkxkw0000gn/T/ipykernel_14808/2157251.py:19: FutureWarning: The frame.append method is deprecated and will be removed from pandas in a future version. Use pandas.concat instead.\n",
      "  df = df.append({'Year': year, 'Male Count': male_pronoun_count, 'Female Count': female_pronoun_count}, ignore_index=True)\n",
      "/var/folders/g5/dmdm26xd0_s5m4_slz5jkxkw0000gn/T/ipykernel_14808/2157251.py:19: FutureWarning: The frame.append method is deprecated and will be removed from pandas in a future version. Use pandas.concat instead.\n",
      "  df = df.append({'Year': year, 'Male Count': male_pronoun_count, 'Female Count': female_pronoun_count}, ignore_index=True)\n"
     ]
    },
    {
     "name": "stdout",
     "output_type": "stream",
     "text": [
      "1956 50752 4915\n",
      "1957 39993 4223\n"
     ]
    },
    {
     "name": "stderr",
     "output_type": "stream",
     "text": [
      "/var/folders/g5/dmdm26xd0_s5m4_slz5jkxkw0000gn/T/ipykernel_14808/2157251.py:19: FutureWarning: The frame.append method is deprecated and will be removed from pandas in a future version. Use pandas.concat instead.\n",
      "  df = df.append({'Year': year, 'Male Count': male_pronoun_count, 'Female Count': female_pronoun_count}, ignore_index=True)\n"
     ]
    },
    {
     "name": "stdout",
     "output_type": "stream",
     "text": [
      "1958 36197 3677\n"
     ]
    },
    {
     "name": "stderr",
     "output_type": "stream",
     "text": [
      "/var/folders/g5/dmdm26xd0_s5m4_slz5jkxkw0000gn/T/ipykernel_14808/2157251.py:19: FutureWarning: The frame.append method is deprecated and will be removed from pandas in a future version. Use pandas.concat instead.\n",
      "  df = df.append({'Year': year, 'Male Count': male_pronoun_count, 'Female Count': female_pronoun_count}, ignore_index=True)\n",
      "/var/folders/g5/dmdm26xd0_s5m4_slz5jkxkw0000gn/T/ipykernel_14808/2157251.py:19: FutureWarning: The frame.append method is deprecated and will be removed from pandas in a future version. Use pandas.concat instead.\n",
      "  df = df.append({'Year': year, 'Male Count': male_pronoun_count, 'Female Count': female_pronoun_count}, ignore_index=True)\n"
     ]
    },
    {
     "name": "stdout",
     "output_type": "stream",
     "text": [
      "1959 32586 2997\n",
      "1960 45145 3889\n"
     ]
    },
    {
     "name": "stderr",
     "output_type": "stream",
     "text": [
      "/var/folders/g5/dmdm26xd0_s5m4_slz5jkxkw0000gn/T/ipykernel_14808/2157251.py:19: FutureWarning: The frame.append method is deprecated and will be removed from pandas in a future version. Use pandas.concat instead.\n",
      "  df = df.append({'Year': year, 'Male Count': male_pronoun_count, 'Female Count': female_pronoun_count}, ignore_index=True)\n"
     ]
    },
    {
     "name": "stdout",
     "output_type": "stream",
     "text": [
      "1961 38845 3122\n"
     ]
    },
    {
     "name": "stderr",
     "output_type": "stream",
     "text": [
      "/var/folders/g5/dmdm26xd0_s5m4_slz5jkxkw0000gn/T/ipykernel_14808/2157251.py:19: FutureWarning: The frame.append method is deprecated and will be removed from pandas in a future version. Use pandas.concat instead.\n",
      "  df = df.append({'Year': year, 'Male Count': male_pronoun_count, 'Female Count': female_pronoun_count}, ignore_index=True)\n"
     ]
    },
    {
     "name": "stdout",
     "output_type": "stream",
     "text": [
      "1962 52321 4401\n"
     ]
    },
    {
     "name": "stderr",
     "output_type": "stream",
     "text": [
      "/var/folders/g5/dmdm26xd0_s5m4_slz5jkxkw0000gn/T/ipykernel_14808/2157251.py:19: FutureWarning: The frame.append method is deprecated and will be removed from pandas in a future version. Use pandas.concat instead.\n",
      "  df = df.append({'Year': year, 'Male Count': male_pronoun_count, 'Female Count': female_pronoun_count}, ignore_index=True)\n"
     ]
    },
    {
     "name": "stdout",
     "output_type": "stream",
     "text": [
      "1963 45130 4080\n"
     ]
    },
    {
     "name": "stderr",
     "output_type": "stream",
     "text": [
      "/var/folders/g5/dmdm26xd0_s5m4_slz5jkxkw0000gn/T/ipykernel_14808/2157251.py:19: FutureWarning: The frame.append method is deprecated and will be removed from pandas in a future version. Use pandas.concat instead.\n",
      "  df = df.append({'Year': year, 'Male Count': male_pronoun_count, 'Female Count': female_pronoun_count}, ignore_index=True)\n"
     ]
    },
    {
     "name": "stdout",
     "output_type": "stream",
     "text": [
      "1964 41188 4177\n"
     ]
    },
    {
     "name": "stderr",
     "output_type": "stream",
     "text": [
      "/var/folders/g5/dmdm26xd0_s5m4_slz5jkxkw0000gn/T/ipykernel_14808/2157251.py:19: FutureWarning: The frame.append method is deprecated and will be removed from pandas in a future version. Use pandas.concat instead.\n",
      "  df = df.append({'Year': year, 'Male Count': male_pronoun_count, 'Female Count': female_pronoun_count}, ignore_index=True)\n"
     ]
    },
    {
     "name": "stdout",
     "output_type": "stream",
     "text": [
      "1965 47495 4948\n"
     ]
    },
    {
     "name": "stderr",
     "output_type": "stream",
     "text": [
      "/var/folders/g5/dmdm26xd0_s5m4_slz5jkxkw0000gn/T/ipykernel_14808/2157251.py:19: FutureWarning: The frame.append method is deprecated and will be removed from pandas in a future version. Use pandas.concat instead.\n",
      "  df = df.append({'Year': year, 'Male Count': male_pronoun_count, 'Female Count': female_pronoun_count}, ignore_index=True)\n"
     ]
    },
    {
     "name": "stdout",
     "output_type": "stream",
     "text": [
      "1966 53665 8585\n"
     ]
    },
    {
     "name": "stderr",
     "output_type": "stream",
     "text": [
      "/var/folders/g5/dmdm26xd0_s5m4_slz5jkxkw0000gn/T/ipykernel_14808/2157251.py:19: FutureWarning: The frame.append method is deprecated and will be removed from pandas in a future version. Use pandas.concat instead.\n",
      "  df = df.append({'Year': year, 'Male Count': male_pronoun_count, 'Female Count': female_pronoun_count}, ignore_index=True)\n"
     ]
    },
    {
     "name": "stdout",
     "output_type": "stream",
     "text": [
      "1967 57254 8214\n"
     ]
    },
    {
     "name": "stderr",
     "output_type": "stream",
     "text": [
      "/var/folders/g5/dmdm26xd0_s5m4_slz5jkxkw0000gn/T/ipykernel_14808/2157251.py:19: FutureWarning: The frame.append method is deprecated and will be removed from pandas in a future version. Use pandas.concat instead.\n",
      "  df = df.append({'Year': year, 'Male Count': male_pronoun_count, 'Female Count': female_pronoun_count}, ignore_index=True)\n"
     ]
    },
    {
     "name": "stdout",
     "output_type": "stream",
     "text": [
      "1968 52601 5935\n"
     ]
    },
    {
     "name": "stderr",
     "output_type": "stream",
     "text": [
      "/var/folders/g5/dmdm26xd0_s5m4_slz5jkxkw0000gn/T/ipykernel_14808/2157251.py:19: FutureWarning: The frame.append method is deprecated and will be removed from pandas in a future version. Use pandas.concat instead.\n",
      "  df = df.append({'Year': year, 'Male Count': male_pronoun_count, 'Female Count': female_pronoun_count}, ignore_index=True)\n"
     ]
    },
    {
     "name": "stdout",
     "output_type": "stream",
     "text": [
      "1969 62061 7741\n"
     ]
    },
    {
     "name": "stderr",
     "output_type": "stream",
     "text": [
      "/var/folders/g5/dmdm26xd0_s5m4_slz5jkxkw0000gn/T/ipykernel_14808/2157251.py:19: FutureWarning: The frame.append method is deprecated and will be removed from pandas in a future version. Use pandas.concat instead.\n",
      "  df = df.append({'Year': year, 'Male Count': male_pronoun_count, 'Female Count': female_pronoun_count}, ignore_index=True)\n"
     ]
    },
    {
     "name": "stdout",
     "output_type": "stream",
     "text": [
      "1970 42145 4157\n"
     ]
    },
    {
     "name": "stderr",
     "output_type": "stream",
     "text": [
      "/var/folders/g5/dmdm26xd0_s5m4_slz5jkxkw0000gn/T/ipykernel_14808/2157251.py:19: FutureWarning: The frame.append method is deprecated and will be removed from pandas in a future version. Use pandas.concat instead.\n",
      "  df = df.append({'Year': year, 'Male Count': male_pronoun_count, 'Female Count': female_pronoun_count}, ignore_index=True)\n"
     ]
    },
    {
     "name": "stdout",
     "output_type": "stream",
     "text": [
      "1971 62408 7594\n"
     ]
    },
    {
     "name": "stderr",
     "output_type": "stream",
     "text": [
      "/var/folders/g5/dmdm26xd0_s5m4_slz5jkxkw0000gn/T/ipykernel_14808/2157251.py:19: FutureWarning: The frame.append method is deprecated and will be removed from pandas in a future version. Use pandas.concat instead.\n",
      "  df = df.append({'Year': year, 'Male Count': male_pronoun_count, 'Female Count': female_pronoun_count}, ignore_index=True)\n"
     ]
    },
    {
     "name": "stdout",
     "output_type": "stream",
     "text": [
      "1972 73477 6201\n"
     ]
    },
    {
     "name": "stderr",
     "output_type": "stream",
     "text": [
      "/var/folders/g5/dmdm26xd0_s5m4_slz5jkxkw0000gn/T/ipykernel_14808/2157251.py:19: FutureWarning: The frame.append method is deprecated and will be removed from pandas in a future version. Use pandas.concat instead.\n",
      "  df = df.append({'Year': year, 'Male Count': male_pronoun_count, 'Female Count': female_pronoun_count}, ignore_index=True)\n"
     ]
    },
    {
     "name": "stdout",
     "output_type": "stream",
     "text": [
      "1973 49263 5017\n"
     ]
    },
    {
     "name": "stderr",
     "output_type": "stream",
     "text": [
      "/var/folders/g5/dmdm26xd0_s5m4_slz5jkxkw0000gn/T/ipykernel_14808/2157251.py:19: FutureWarning: The frame.append method is deprecated and will be removed from pandas in a future version. Use pandas.concat instead.\n",
      "  df = df.append({'Year': year, 'Male Count': male_pronoun_count, 'Female Count': female_pronoun_count}, ignore_index=True)\n"
     ]
    },
    {
     "name": "stdout",
     "output_type": "stream",
     "text": [
      "1974 33351 6330\n"
     ]
    },
    {
     "name": "stderr",
     "output_type": "stream",
     "text": [
      "/var/folders/g5/dmdm26xd0_s5m4_slz5jkxkw0000gn/T/ipykernel_14808/2157251.py:19: FutureWarning: The frame.append method is deprecated and will be removed from pandas in a future version. Use pandas.concat instead.\n",
      "  df = df.append({'Year': year, 'Male Count': male_pronoun_count, 'Female Count': female_pronoun_count}, ignore_index=True)\n"
     ]
    },
    {
     "name": "stdout",
     "output_type": "stream",
     "text": [
      "1975 52674 7648\n"
     ]
    },
    {
     "name": "stderr",
     "output_type": "stream",
     "text": [
      "/var/folders/g5/dmdm26xd0_s5m4_slz5jkxkw0000gn/T/ipykernel_14808/2157251.py:19: FutureWarning: The frame.append method is deprecated and will be removed from pandas in a future version. Use pandas.concat instead.\n",
      "  df = df.append({'Year': year, 'Male Count': male_pronoun_count, 'Female Count': female_pronoun_count}, ignore_index=True)\n"
     ]
    },
    {
     "name": "stdout",
     "output_type": "stream",
     "text": [
      "1976 75284 7758\n"
     ]
    },
    {
     "name": "stderr",
     "output_type": "stream",
     "text": [
      "/var/folders/g5/dmdm26xd0_s5m4_slz5jkxkw0000gn/T/ipykernel_14808/2157251.py:19: FutureWarning: The frame.append method is deprecated and will be removed from pandas in a future version. Use pandas.concat instead.\n",
      "  df = df.append({'Year': year, 'Male Count': male_pronoun_count, 'Female Count': female_pronoun_count}, ignore_index=True)\n"
     ]
    },
    {
     "name": "stdout",
     "output_type": "stream",
     "text": [
      "1977 88973 7770\n"
     ]
    },
    {
     "name": "stderr",
     "output_type": "stream",
     "text": [
      "/var/folders/g5/dmdm26xd0_s5m4_slz5jkxkw0000gn/T/ipykernel_14808/2157251.py:19: FutureWarning: The frame.append method is deprecated and will be removed from pandas in a future version. Use pandas.concat instead.\n",
      "  df = df.append({'Year': year, 'Male Count': male_pronoun_count, 'Female Count': female_pronoun_count}, ignore_index=True)\n"
     ]
    },
    {
     "name": "stdout",
     "output_type": "stream",
     "text": [
      "1978 82742 9124\n"
     ]
    },
    {
     "name": "stderr",
     "output_type": "stream",
     "text": [
      "/var/folders/g5/dmdm26xd0_s5m4_slz5jkxkw0000gn/T/ipykernel_14808/2157251.py:19: FutureWarning: The frame.append method is deprecated and will be removed from pandas in a future version. Use pandas.concat instead.\n",
      "  df = df.append({'Year': year, 'Male Count': male_pronoun_count, 'Female Count': female_pronoun_count}, ignore_index=True)\n"
     ]
    },
    {
     "name": "stdout",
     "output_type": "stream",
     "text": [
      "1979 59929 7231\n"
     ]
    },
    {
     "name": "stderr",
     "output_type": "stream",
     "text": [
      "/var/folders/g5/dmdm26xd0_s5m4_slz5jkxkw0000gn/T/ipykernel_14808/2157251.py:19: FutureWarning: The frame.append method is deprecated and will be removed from pandas in a future version. Use pandas.concat instead.\n",
      "  df = df.append({'Year': year, 'Male Count': male_pronoun_count, 'Female Count': female_pronoun_count}, ignore_index=True)\n"
     ]
    },
    {
     "name": "stdout",
     "output_type": "stream",
     "text": [
      "1980 75069 10304\n"
     ]
    },
    {
     "name": "stderr",
     "output_type": "stream",
     "text": [
      "/var/folders/g5/dmdm26xd0_s5m4_slz5jkxkw0000gn/T/ipykernel_14808/2157251.py:19: FutureWarning: The frame.append method is deprecated and will be removed from pandas in a future version. Use pandas.concat instead.\n",
      "  df = df.append({'Year': year, 'Male Count': male_pronoun_count, 'Female Count': female_pronoun_count}, ignore_index=True)\n"
     ]
    },
    {
     "name": "stdout",
     "output_type": "stream",
     "text": [
      "1981 58937 11345\n"
     ]
    },
    {
     "name": "stderr",
     "output_type": "stream",
     "text": [
      "/var/folders/g5/dmdm26xd0_s5m4_slz5jkxkw0000gn/T/ipykernel_14808/2157251.py:19: FutureWarning: The frame.append method is deprecated and will be removed from pandas in a future version. Use pandas.concat instead.\n",
      "  df = df.append({'Year': year, 'Male Count': male_pronoun_count, 'Female Count': female_pronoun_count}, ignore_index=True)\n"
     ]
    },
    {
     "name": "stdout",
     "output_type": "stream",
     "text": [
      "1982 68302 14102\n"
     ]
    },
    {
     "name": "stderr",
     "output_type": "stream",
     "text": [
      "/var/folders/g5/dmdm26xd0_s5m4_slz5jkxkw0000gn/T/ipykernel_14808/2157251.py:19: FutureWarning: The frame.append method is deprecated and will be removed from pandas in a future version. Use pandas.concat instead.\n",
      "  df = df.append({'Year': year, 'Male Count': male_pronoun_count, 'Female Count': female_pronoun_count}, ignore_index=True)\n"
     ]
    },
    {
     "name": "stdout",
     "output_type": "stream",
     "text": [
      "1983 62767 11466\n"
     ]
    },
    {
     "name": "stderr",
     "output_type": "stream",
     "text": [
      "/var/folders/g5/dmdm26xd0_s5m4_slz5jkxkw0000gn/T/ipykernel_14808/2157251.py:19: FutureWarning: The frame.append method is deprecated and will be removed from pandas in a future version. Use pandas.concat instead.\n",
      "  df = df.append({'Year': year, 'Male Count': male_pronoun_count, 'Female Count': female_pronoun_count}, ignore_index=True)\n"
     ]
    },
    {
     "name": "stdout",
     "output_type": "stream",
     "text": [
      "1984 57627 14890\n"
     ]
    },
    {
     "name": "stderr",
     "output_type": "stream",
     "text": [
      "/var/folders/g5/dmdm26xd0_s5m4_slz5jkxkw0000gn/T/ipykernel_14808/2157251.py:19: FutureWarning: The frame.append method is deprecated and will be removed from pandas in a future version. Use pandas.concat instead.\n",
      "  df = df.append({'Year': year, 'Male Count': male_pronoun_count, 'Female Count': female_pronoun_count}, ignore_index=True)\n"
     ]
    },
    {
     "name": "stdout",
     "output_type": "stream",
     "text": [
      "1985 77823 9742\n"
     ]
    },
    {
     "name": "stderr",
     "output_type": "stream",
     "text": [
      "/var/folders/g5/dmdm26xd0_s5m4_slz5jkxkw0000gn/T/ipykernel_14808/2157251.py:19: FutureWarning: The frame.append method is deprecated and will be removed from pandas in a future version. Use pandas.concat instead.\n",
      "  df = df.append({'Year': year, 'Male Count': male_pronoun_count, 'Female Count': female_pronoun_count}, ignore_index=True)\n"
     ]
    },
    {
     "name": "stdout",
     "output_type": "stream",
     "text": [
      "1986 66516 8499\n"
     ]
    },
    {
     "name": "stderr",
     "output_type": "stream",
     "text": [
      "/var/folders/g5/dmdm26xd0_s5m4_slz5jkxkw0000gn/T/ipykernel_14808/2157251.py:19: FutureWarning: The frame.append method is deprecated and will be removed from pandas in a future version. Use pandas.concat instead.\n",
      "  df = df.append({'Year': year, 'Male Count': male_pronoun_count, 'Female Count': female_pronoun_count}, ignore_index=True)\n"
     ]
    },
    {
     "name": "stdout",
     "output_type": "stream",
     "text": [
      "1987 80301 8021\n"
     ]
    },
    {
     "name": "stderr",
     "output_type": "stream",
     "text": [
      "/var/folders/g5/dmdm26xd0_s5m4_slz5jkxkw0000gn/T/ipykernel_14808/2157251.py:19: FutureWarning: The frame.append method is deprecated and will be removed from pandas in a future version. Use pandas.concat instead.\n",
      "  df = df.append({'Year': year, 'Male Count': male_pronoun_count, 'Female Count': female_pronoun_count}, ignore_index=True)\n"
     ]
    },
    {
     "name": "stdout",
     "output_type": "stream",
     "text": [
      "1988 70623 9802\n"
     ]
    },
    {
     "name": "stderr",
     "output_type": "stream",
     "text": [
      "/var/folders/g5/dmdm26xd0_s5m4_slz5jkxkw0000gn/T/ipykernel_14808/2157251.py:19: FutureWarning: The frame.append method is deprecated and will be removed from pandas in a future version. Use pandas.concat instead.\n",
      "  df = df.append({'Year': year, 'Male Count': male_pronoun_count, 'Female Count': female_pronoun_count}, ignore_index=True)\n"
     ]
    },
    {
     "name": "stdout",
     "output_type": "stream",
     "text": [
      "1989 74178 9406\n"
     ]
    },
    {
     "name": "stderr",
     "output_type": "stream",
     "text": [
      "/var/folders/g5/dmdm26xd0_s5m4_slz5jkxkw0000gn/T/ipykernel_14808/2157251.py:19: FutureWarning: The frame.append method is deprecated and will be removed from pandas in a future version. Use pandas.concat instead.\n",
      "  df = df.append({'Year': year, 'Male Count': male_pronoun_count, 'Female Count': female_pronoun_count}, ignore_index=True)\n"
     ]
    },
    {
     "name": "stdout",
     "output_type": "stream",
     "text": [
      "1990 79364 9129\n"
     ]
    },
    {
     "name": "stderr",
     "output_type": "stream",
     "text": [
      "/var/folders/g5/dmdm26xd0_s5m4_slz5jkxkw0000gn/T/ipykernel_14808/2157251.py:19: FutureWarning: The frame.append method is deprecated and will be removed from pandas in a future version. Use pandas.concat instead.\n",
      "  df = df.append({'Year': year, 'Male Count': male_pronoun_count, 'Female Count': female_pronoun_count}, ignore_index=True)\n"
     ]
    },
    {
     "name": "stdout",
     "output_type": "stream",
     "text": [
      "1991 56014 5543\n"
     ]
    },
    {
     "name": "stderr",
     "output_type": "stream",
     "text": [
      "/var/folders/g5/dmdm26xd0_s5m4_slz5jkxkw0000gn/T/ipykernel_14808/2157251.py:19: FutureWarning: The frame.append method is deprecated and will be removed from pandas in a future version. Use pandas.concat instead.\n",
      "  df = df.append({'Year': year, 'Male Count': male_pronoun_count, 'Female Count': female_pronoun_count}, ignore_index=True)\n"
     ]
    },
    {
     "name": "stdout",
     "output_type": "stream",
     "text": [
      "1992 70569 10919\n"
     ]
    },
    {
     "name": "stderr",
     "output_type": "stream",
     "text": [
      "/var/folders/g5/dmdm26xd0_s5m4_slz5jkxkw0000gn/T/ipykernel_14808/2157251.py:19: FutureWarning: The frame.append method is deprecated and will be removed from pandas in a future version. Use pandas.concat instead.\n",
      "  df = df.append({'Year': year, 'Male Count': male_pronoun_count, 'Female Count': female_pronoun_count}, ignore_index=True)\n"
     ]
    },
    {
     "name": "stdout",
     "output_type": "stream",
     "text": [
      "1993 52547 9658\n"
     ]
    },
    {
     "name": "stderr",
     "output_type": "stream",
     "text": [
      "/var/folders/g5/dmdm26xd0_s5m4_slz5jkxkw0000gn/T/ipykernel_14808/2157251.py:19: FutureWarning: The frame.append method is deprecated and will be removed from pandas in a future version. Use pandas.concat instead.\n",
      "  df = df.append({'Year': year, 'Male Count': male_pronoun_count, 'Female Count': female_pronoun_count}, ignore_index=True)\n"
     ]
    },
    {
     "name": "stdout",
     "output_type": "stream",
     "text": [
      "1994 55330 10718\n"
     ]
    },
    {
     "name": "stderr",
     "output_type": "stream",
     "text": [
      "/var/folders/g5/dmdm26xd0_s5m4_slz5jkxkw0000gn/T/ipykernel_14808/2157251.py:19: FutureWarning: The frame.append method is deprecated and will be removed from pandas in a future version. Use pandas.concat instead.\n",
      "  df = df.append({'Year': year, 'Male Count': male_pronoun_count, 'Female Count': female_pronoun_count}, ignore_index=True)\n"
     ]
    },
    {
     "name": "stdout",
     "output_type": "stream",
     "text": [
      "1995 71705 15111\n"
     ]
    },
    {
     "name": "stderr",
     "output_type": "stream",
     "text": [
      "/var/folders/g5/dmdm26xd0_s5m4_slz5jkxkw0000gn/T/ipykernel_14808/2157251.py:19: FutureWarning: The frame.append method is deprecated and will be removed from pandas in a future version. Use pandas.concat instead.\n",
      "  df = df.append({'Year': year, 'Male Count': male_pronoun_count, 'Female Count': female_pronoun_count}, ignore_index=True)\n"
     ]
    },
    {
     "name": "stdout",
     "output_type": "stream",
     "text": [
      "1996 52746 10299\n"
     ]
    },
    {
     "name": "stderr",
     "output_type": "stream",
     "text": [
      "/var/folders/g5/dmdm26xd0_s5m4_slz5jkxkw0000gn/T/ipykernel_14808/2157251.py:19: FutureWarning: The frame.append method is deprecated and will be removed from pandas in a future version. Use pandas.concat instead.\n",
      "  df = df.append({'Year': year, 'Male Count': male_pronoun_count, 'Female Count': female_pronoun_count}, ignore_index=True)\n"
     ]
    },
    {
     "name": "stdout",
     "output_type": "stream",
     "text": [
      "1997 45274 9948\n"
     ]
    },
    {
     "name": "stderr",
     "output_type": "stream",
     "text": [
      "/var/folders/g5/dmdm26xd0_s5m4_slz5jkxkw0000gn/T/ipykernel_14808/2157251.py:19: FutureWarning: The frame.append method is deprecated and will be removed from pandas in a future version. Use pandas.concat instead.\n",
      "  df = df.append({'Year': year, 'Male Count': male_pronoun_count, 'Female Count': female_pronoun_count}, ignore_index=True)\n"
     ]
    },
    {
     "name": "stdout",
     "output_type": "stream",
     "text": [
      "1998 56495 14195\n"
     ]
    },
    {
     "name": "stderr",
     "output_type": "stream",
     "text": [
      "/var/folders/g5/dmdm26xd0_s5m4_slz5jkxkw0000gn/T/ipykernel_14808/2157251.py:19: FutureWarning: The frame.append method is deprecated and will be removed from pandas in a future version. Use pandas.concat instead.\n",
      "  df = df.append({'Year': year, 'Male Count': male_pronoun_count, 'Female Count': female_pronoun_count}, ignore_index=True)\n"
     ]
    },
    {
     "name": "stdout",
     "output_type": "stream",
     "text": [
      "1999 49268 10860\n"
     ]
    },
    {
     "name": "stderr",
     "output_type": "stream",
     "text": [
      "/var/folders/g5/dmdm26xd0_s5m4_slz5jkxkw0000gn/T/ipykernel_14808/2157251.py:19: FutureWarning: The frame.append method is deprecated and will be removed from pandas in a future version. Use pandas.concat instead.\n",
      "  df = df.append({'Year': year, 'Male Count': male_pronoun_count, 'Female Count': female_pronoun_count}, ignore_index=True)\n"
     ]
    },
    {
     "name": "stdout",
     "output_type": "stream",
     "text": [
      "2000 66224 13477\n"
     ]
    },
    {
     "name": "stderr",
     "output_type": "stream",
     "text": [
      "/var/folders/g5/dmdm26xd0_s5m4_slz5jkxkw0000gn/T/ipykernel_14808/2157251.py:19: FutureWarning: The frame.append method is deprecated and will be removed from pandas in a future version. Use pandas.concat instead.\n",
      "  df = df.append({'Year': year, 'Male Count': male_pronoun_count, 'Female Count': female_pronoun_count}, ignore_index=True)\n"
     ]
    },
    {
     "name": "stdout",
     "output_type": "stream",
     "text": [
      "2001 36183 11053\n"
     ]
    },
    {
     "name": "stderr",
     "output_type": "stream",
     "text": [
      "/var/folders/g5/dmdm26xd0_s5m4_slz5jkxkw0000gn/T/ipykernel_14808/2157251.py:19: FutureWarning: The frame.append method is deprecated and will be removed from pandas in a future version. Use pandas.concat instead.\n",
      "  df = df.append({'Year': year, 'Male Count': male_pronoun_count, 'Female Count': female_pronoun_count}, ignore_index=True)\n"
     ]
    },
    {
     "name": "stdout",
     "output_type": "stream",
     "text": [
      "2002 41544 14066\n"
     ]
    },
    {
     "name": "stderr",
     "output_type": "stream",
     "text": [
      "/var/folders/g5/dmdm26xd0_s5m4_slz5jkxkw0000gn/T/ipykernel_14808/2157251.py:19: FutureWarning: The frame.append method is deprecated and will be removed from pandas in a future version. Use pandas.concat instead.\n",
      "  df = df.append({'Year': year, 'Male Count': male_pronoun_count, 'Female Count': female_pronoun_count}, ignore_index=True)\n"
     ]
    },
    {
     "name": "stdout",
     "output_type": "stream",
     "text": [
      "2003 39970 12537\n",
      "2004 31487 11253\n",
      "2005 1741 1891\n",
      "2006 4 4\n"
     ]
    },
    {
     "name": "stderr",
     "output_type": "stream",
     "text": [
      "/var/folders/g5/dmdm26xd0_s5m4_slz5jkxkw0000gn/T/ipykernel_14808/2157251.py:19: FutureWarning: The frame.append method is deprecated and will be removed from pandas in a future version. Use pandas.concat instead.\n",
      "  df = df.append({'Year': year, 'Male Count': male_pronoun_count, 'Female Count': female_pronoun_count}, ignore_index=True)\n",
      "/var/folders/g5/dmdm26xd0_s5m4_slz5jkxkw0000gn/T/ipykernel_14808/2157251.py:19: FutureWarning: The frame.append method is deprecated and will be removed from pandas in a future version. Use pandas.concat instead.\n",
      "  df = df.append({'Year': year, 'Male Count': male_pronoun_count, 'Female Count': female_pronoun_count}, ignore_index=True)\n",
      "/var/folders/g5/dmdm26xd0_s5m4_slz5jkxkw0000gn/T/ipykernel_14808/2157251.py:19: FutureWarning: The frame.append method is deprecated and will be removed from pandas in a future version. Use pandas.concat instead.\n",
      "  df = df.append({'Year': year, 'Male Count': male_pronoun_count, 'Female Count': female_pronoun_count}, ignore_index=True)\n"
     ]
    }
   ],
   "source": [
    "# The folder path of cleaned files\n",
    "folder_path = '/Users/shaistasyeda/Desktop/DataSet/CleanedFiles-each-year'\n",
    "\n",
    "# Initialize an empty DataFrame\n",
    "df = pd.DataFrame(columns=['Year', 'Male Count', 'Female Count'])\n",
    "\n",
    "# Iterate over the years\n",
    "for year in range(1803, 2007):\n",
    "    file_name = f'{year}_cleaned.txt'\n",
    "    file_path = os.path.join(folder_path, file_name)\n",
    "\n",
    "    # Check if the file exists\n",
    "    if os.path.exists(file_path):\n",
    "        # Perform the pronoun count operations\n",
    "        male_pronoun_count = count_male_pronouns(file_path)\n",
    "        female_pronoun_count = count_female_pronouns(file_path)\n",
    "\n",
    "        # Update the DataFrame\n",
    "        df = df.append({'Year': year, 'Male Count': male_pronoun_count, 'Female Count': female_pronoun_count}, ignore_index=True)\n",
    "\n",
    "        # Print the results\n",
    "        print(year, male_pronoun_count, female_pronoun_count)\n",
    "\n",
    "        # Remove the processed file\n",
    "        os.remove(file_path)\n",
    "    else:\n",
    "        print(f\"File not found: {file_path}\")"
   ]
  },
  {
   "cell_type": "code",
   "execution_count": 50,
   "id": "9c2c6d51-5e4e-49fd-ae86-ea168db9f046",
   "metadata": {
    "tags": []
   },
   "outputs": [
    {
     "name": "stdout",
     "output_type": "stream",
     "text": [
      "     Year Male Count Female Count Year Interval\n",
      "0    1803       4259           53  [1800, 1810)\n",
      "1    1804      11138          139  [1800, 1810)\n",
      "2    1805      22119          502  [1800, 1810)\n",
      "3    1806      16623          202  [1800, 1810)\n",
      "4    1807      12352          545  [1800, 1810)\n",
      "..    ...        ...          ...           ...\n",
      "199  2002      41544        14066  [2000, 2010)\n",
      "200  2003      39970        12537  [2000, 2010)\n",
      "201  2004      31487        11253  [2000, 2010)\n",
      "202  2005       1741         1891  [2000, 2010)\n",
      "203  2006          4            4  [2000, 2010)\n",
      "\n",
      "[204 rows x 4 columns]\n"
     ]
    }
   ],
   "source": [
    "print(df)"
   ]
  },
  {
   "cell_type": "code",
   "execution_count": 41,
   "id": "b4fb8b2a-7580-45fd-91a3-29fb0e4d6ec0",
   "metadata": {
    "tags": []
   },
   "outputs": [],
   "source": [
    "import matplotlib.pyplot as plt"
   ]
  },
  {
   "cell_type": "code",
   "execution_count": 47,
   "id": "88b0756d-53ac-4230-b69d-10689607b8de",
   "metadata": {
    "tags": []
   },
   "outputs": [
    {
     "data": {
      "image/png": "[encoded data removed]",
      "text/plain": [
       "<Figure size 5000x1200 with 1 Axes>"
      ]
     },
     "metadata": {},
     "output_type": "display_data"
    }
   ],
   "source": [
    "# Increase figure size\n",
    "plt.figure(figsize=(50, 12))\n",
    "\n",
    "# Plot the data\n",
    "ax = df.plot(x=\"Year\", y=[\"Male Count\", \"Female Count\"], kind=\"bar\", color=[\"steelblue\", \"palevioletred\"], rot=45, ax=plt.gca())\n",
    "\n",
    "# Customize x-axis labels \n",
    "ax.set_xticklabels(df[\"Year\"], rotation=45, ha=\"right\")\n",
    "\n",
    "# Add grid lines \n",
    "ax.grid(axis=\"y\", linestyle=\"--\", alpha=0.7)\n",
    "\n",
    "# Add labels and title\n",
    "plt.xlabel(\"Year\")\n",
    "plt.ylabel(\"Count\")\n",
    "plt.title(\"Male and Female Counts Over the Years\")\n",
    "\n",
    "# Show the plot\n",
    "plt.show()"
   ]
  },
  {
   "cell_type": "code",
   "execution_count": 53,
   "id": "ed2e4f4f-686d-4a20-9588-ffceff6818f1",
   "metadata": {
    "tags": []
   },
   "outputs": [
    {
     "data": {
      "text/plain": [
       "<Figure size 1200x600 with 0 Axes>"
      ]
     },
     "metadata": {},
     "output_type": "display_data"
    },
    {
     "data": {
      "image/png": "[encoded data removed]",
      "text/plain": [
       "<Figure size 640x480 with 1 Axes>"
      ]
     },
     "metadata": {},
     "output_type": "display_data"
    }
   ],
   "source": [
    "import pandas as pd\n",
    "import matplotlib.pyplot as plt\n",
    "\n",
    "# Create a new column for the time intervals\n",
    "df['Year Interval'] = pd.cut(df['Year'], bins=range(1800, 2011, 10), right=False)\n",
    "\n",
    "# Group by the time intervals and sum the counts\n",
    "grouped_df = df.groupby('Year Interval').agg({'Male Count': 'sum', 'Female Count': 'sum'}).reset_index()\n",
    "\n",
    "# Plot the data\n",
    "plt.figure(figsize=(12, 6))\n",
    "ax = grouped_df.plot(x=\"Year Interval\", y=[\"Male Count\", \"Female Count\"], kind=\"bar\", color=[\"steelblue\", \"palevioletred\"], rot=45)\n",
    "\n",
    "# Customize x-axis labels\n",
    "ax.set_xticklabels([f'{interval.left}-{interval.right-1}' for interval in grouped_df['Year Interval']], rotation=45, ha=\"right\")\n",
    "\n",
    "# Add grid lines\n",
    "ax.grid(axis=\"y\", linestyle=\"--\", alpha=0.7)\n",
    "\n",
    "# Add labels and title\n",
    "plt.xlabel(\"Year Interval\")\n",
    "plt.ylabel(\"Count\")\n",
    "plt.title(\"Male and Female Pronoun Counts Over Time Intervals\")\n",
    "\n",
    "# Show the plot\n",
    "plt.show()\n",
    "\n"
   ]
  },
  {
   "cell_type": "code",
   "execution_count": 1,
   "id": "022e935f-19a9-4838-835e-b4c01cf28711",
   "metadata": {},
   "outputs": [],
   "source": [
    "import matplotlib.pyplot as plt\n",
    "import pandas as pd"
   ]
  },
  {
   "cell_type": "code",
   "execution_count": 2,
   "id": "62581aaa",
   "metadata": {},
   "outputs": [],
   "source": [
    "df = pd.read_csv('/Users/shaistasyeda/Desktop/DataSet/pronoun_count_df.csv')"
   ]
  },
  {
   "cell_type": "code",
   "execution_count": 3,
   "id": "55b0b5e8",
   "metadata": {},
   "outputs": [
    {
     "data": {
      "text/html": [
       "<div>\n",
       "<style scoped>\n",
       "    .dataframe tbody tr th:only-of-type {\n",
       "        vertical-align: middle;\n",
       "    }\n",
       "\n",
       "    .dataframe tbody tr th {\n",
       "        vertical-align: top;\n",
       "    }\n",
       "\n",
       "    .dataframe thead th {\n",
       "        text-align: right;\n",
       "    }\n",
       "</style>\n",
       "<table border=\"1\" class=\"dataframe\">\n",
       "  <thead>\n",
       "    <tr style=\"text-align: right;\">\n",
       "      <th></th>\n",
       "      <th>Year</th>\n",
       "      <th>Male_Pronoun_Count</th>\n",
       "      <th>Female_Pronoun_Count</th>\n",
       "    </tr>\n",
       "  </thead>\n",
       "  <tbody>\n",
       "    <tr>\n",
       "      <th>0</th>\n",
       "      <td>1803</td>\n",
       "      <td>4259</td>\n",
       "      <td>53</td>\n",
       "    </tr>\n",
       "    <tr>\n",
       "      <th>1</th>\n",
       "      <td>1804</td>\n",
       "      <td>11138</td>\n",
       "      <td>139</td>\n",
       "    </tr>\n",
       "    <tr>\n",
       "      <th>2</th>\n",
       "      <td>1805</td>\n",
       "      <td>22119</td>\n",
       "      <td>502</td>\n",
       "    </tr>\n",
       "    <tr>\n",
       "      <th>3</th>\n",
       "      <td>1806</td>\n",
       "      <td>16623</td>\n",
       "      <td>202</td>\n",
       "    </tr>\n",
       "    <tr>\n",
       "      <th>4</th>\n",
       "      <td>1807</td>\n",
       "      <td>12352</td>\n",
       "      <td>545</td>\n",
       "    </tr>\n",
       "  </tbody>\n",
       "</table>\n",
       "</div>"
      ],
      "text/plain": [
       "   Year  Male_Pronoun_Count  Female_Pronoun_Count\n",
       "0  1803                4259                    53\n",
       "1  1804               11138                   139\n",
       "2  1805               22119                   502\n",
       "3  1806               16623                   202\n",
       "4  1807               12352                   545"
      ]
     },
     "execution_count": 3,
     "metadata": {},
     "output_type": "execute_result"
    }
   ],
   "source": [
    "df.head(5)"
   ]
  },
  {
   "cell_type": "code",
   "execution_count": 4,
   "id": "92e183e9",
   "metadata": {},
   "outputs": [],
   "source": [
    "# Calculate the ratio of female pronouns to the total pronoun count\n",
    "df['Total_Count'] = df['Male_Pronoun_Count'] + df['Female_Pronoun_Count']\n",
    "df['Female_Ratio'] = (df['Female_Pronoun_Count'] / df['Total_Count']) * 100\n",
    "df['Male Ratio'] = (df['Male_Pronoun_Count'] / df['Total_Count'])*100"
   ]
  },
  {
   "cell_type": "code",
   "execution_count": 5,
   "id": "99dee545",
   "metadata": {},
   "outputs": [
    {
     "name": "stdout",
     "output_type": "stream",
     "text": [
      "Index(['Year', 'Male_Pronoun_Count', 'Female_Pronoun_Count', 'Total_Count',\n",
      "       'Female_Ratio', 'Male Ratio'],\n",
      "      dtype='object')\n"
     ]
    }
   ],
   "source": [
    "print(df.columns)"
   ]
  },
  {
   "cell_type": "code",
   "execution_count": 6,
   "id": "bca9c204",
   "metadata": {},
   "outputs": [
    {
     "data": {
      "text/html": [
       "<div>\n",
       "<style scoped>\n",
       "    .dataframe tbody tr th:only-of-type {\n",
       "        vertical-align: middle;\n",
       "    }\n",
       "\n",
       "    .dataframe tbody tr th {\n",
       "        vertical-align: top;\n",
       "    }\n",
       "\n",
       "    .dataframe thead th {\n",
       "        text-align: right;\n",
       "    }\n",
       "</style>\n",
       "<table border=\"1\" class=\"dataframe\">\n",
       "  <thead>\n",
       "    <tr style=\"text-align: right;\">\n",
       "      <th></th>\n",
       "      <th>Year</th>\n",
       "      <th>Male_Pronoun_Count</th>\n",
       "      <th>Female_Pronoun_Count</th>\n",
       "      <th>Total_Count</th>\n",
       "      <th>Female_Ratio</th>\n",
       "      <th>Male Ratio</th>\n",
       "    </tr>\n",
       "  </thead>\n",
       "  <tbody>\n",
       "    <tr>\n",
       "      <th>0</th>\n",
       "      <td>1803</td>\n",
       "      <td>4259</td>\n",
       "      <td>53</td>\n",
       "      <td>4312</td>\n",
       "      <td>1.229128</td>\n",
       "      <td>98.770872</td>\n",
       "    </tr>\n",
       "    <tr>\n",
       "      <th>1</th>\n",
       "      <td>1804</td>\n",
       "      <td>11138</td>\n",
       "      <td>139</td>\n",
       "      <td>11277</td>\n",
       "      <td>1.232597</td>\n",
       "      <td>98.767403</td>\n",
       "    </tr>\n",
       "    <tr>\n",
       "      <th>2</th>\n",
       "      <td>1805</td>\n",
       "      <td>22119</td>\n",
       "      <td>502</td>\n",
       "      <td>22621</td>\n",
       "      <td>2.219177</td>\n",
       "      <td>97.780823</td>\n",
       "    </tr>\n",
       "    <tr>\n",
       "      <th>3</th>\n",
       "      <td>1806</td>\n",
       "      <td>16623</td>\n",
       "      <td>202</td>\n",
       "      <td>16825</td>\n",
       "      <td>1.200594</td>\n",
       "      <td>98.799406</td>\n",
       "    </tr>\n",
       "    <tr>\n",
       "      <th>4</th>\n",
       "      <td>1807</td>\n",
       "      <td>12352</td>\n",
       "      <td>545</td>\n",
       "      <td>12897</td>\n",
       "      <td>4.225789</td>\n",
       "      <td>95.774211</td>\n",
       "    </tr>\n",
       "  </tbody>\n",
       "</table>\n",
       "</div>"
      ],
      "text/plain": [
       "   Year  Male_Pronoun_Count  Female_Pronoun_Count  Total_Count  Female_Ratio  \\\n",
       "0  1803                4259                    53         4312      1.229128   \n",
       "1  1804               11138                   139        11277      1.232597   \n",
       "2  1805               22119                   502        22621      2.219177   \n",
       "3  1806               16623                   202        16825      1.200594   \n",
       "4  1807               12352                   545        12897      4.225789   \n",
       "\n",
       "   Male Ratio  \n",
       "0   98.770872  \n",
       "1   98.767403  \n",
       "2   97.780823  \n",
       "3   98.799406  \n",
       "4   95.774211  "
      ]
     },
     "execution_count": 6,
     "metadata": {},
     "output_type": "execute_result"
    }
   ],
   "source": [
    "df.head(5)"
   ]
  },
  {
   "cell_type": "code",
   "execution_count": 9,
   "id": "05c7d132",
   "metadata": {},
   "outputs": [
    {
     "data": {
      "image/png": "[encoded data removed]",
      "text/plain": [
       "<Figure size 1400x700 with 1 Axes>"
      ]
     },
     "metadata": {},
     "output_type": "display_data"
    }
   ],
   "source": [
    "# Plot the ratios\n",
    "plt.figure(figsize=(14, 7))\n",
    "plt.plot(df['Year'], df['Female_Ratio'], marker='o', color='palevioletred', label='Female Ratio')\n",
    "plt.plot(df['Year'], df['Male Ratio'], marker='x',color = 'steelblue', label='Male Ratio')  \n",
    "plt.title('Ratio of Female and Male Pronouns to Total Pronouns Over Years')\n",
    "plt.xlabel('Year')\n",
    "plt.ylabel('Pronoun Ratio')\n",
    "plt.grid(True)\n",
    "plt.legend()  # Add a legend to distinguish the lines\n",
    "plt.show()"
   ]
  },
  {
   "cell_type": "code",
   "execution_count": 11,
   "id": "79040673",
   "metadata": {},
   "outputs": [
    {
     "data": {
      "image/png": "[encoded data removed]",
      "text/plain": [
       "<Figure size 1400x700 with 1 Axes>"
      ]
     },
     "metadata": {},
     "output_type": "display_data"
    }
   ],
   "source": [
    "import seaborn as sns\n",
    "\n",
    "sns.set_style(\"whitegrid\")\n",
    "\n",
    "# Create a larger plot\n",
    "plt.figure(figsize=(14, 7))\n",
    "\n",
    "rolling_window = 15 \n",
    "plt.plot(df['Year'], df['Female_Ratio'].rolling(rolling_window, min_periods=1).mean(), marker='o', color='royalblue')\n",
    "\n",
    "# Make the plot prettier\n",
    "plt.title('Ratio of Female Pronouns to Total Pronouns Over Years', fontsize=18)\n",
    "plt.xlabel('Year', fontsize=14)\n",
    "plt.ylabel('Female to Total Pronoun Ratio', fontsize=14)\n",
    "plt.xticks(rotation=45)\n",
    "plt.tight_layout()  \n",
    "\n",
    "# Show the plot\n",
    "plt.show()"
   ]
  },
  {
   "cell_type": "code",
   "execution_count": 12,
   "id": "a273cc9b",
   "metadata": {},
   "outputs": [],
   "source": [
    "df['Female_to_Male_Ratio'] = df['Female_Pronoun_Count'] / df['Male_Pronoun_Count'].replace({0:1})  # To avoid division by zero"
   ]
  },
  {
   "cell_type": "code",
   "execution_count": 13,
   "id": "6d9e9f98",
   "metadata": {},
   "outputs": [
    {
     "data": {
      "image/png": "[encoded data removed]",
      "text/plain": [
       "<Figure size 1400x700 with 1 Axes>"
      ]
     },
     "metadata": {},
     "output_type": "display_data"
    }
   ],
   "source": [
    "# Plotting the ratio\n",
    "plt.figure(figsize=(14, 7))\n",
    "plt.plot(df['Year'], df['Female_to_Male_Ratio'], marker='o', linestyle='-', color='blue')\n",
    "plt.title('Female to Male Pronoun Ratio Over Years')\n",
    "plt.xlabel('Year')\n",
    "plt.ylabel('Female to Male Pronoun Ratio')\n",
    "plt.grid(True)\n",
    "plt.tight_layout()\n",
    "plt.show()"
   ]
  },
  {
   "cell_type": "code",
   "execution_count": null,
   "id": "7cc3bb78",
   "metadata": {},
   "outputs": [],
   "source": []
  }
 ],
 "metadata": {
  "kernelspec": {
   "display_name": "Python 3 (ipykernel)",
   "language": "python",
   "name": "python3"
  },
  "language_info": {
   "codemirror_mode": {
    "name": "ipython",
    "version": 3
   },
   "file_extension": ".py",
   "mimetype": "text/x-python",
   "name": "python",
   "nbconvert_exporter": "python",
   "pygments_lexer": "ipython3",
   "version": "3.11.4"
  }
 },
 "nbformat": 4,
 "nbformat_minor": 5
}
