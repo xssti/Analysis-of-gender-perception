{
 "cells": [
  {
   "cell_type": "code",
   "execution_count": 2,
   "id": "e8d04617",
   "metadata": {},
   "outputs": [
    {
     "name": "stdout",
     "output_type": "stream",
     "text": [
      "Requirement already satisfied: nltk in /Users/shaistasyeda/anaconda3/lib/python3.11/site-packages (3.8.1)\n",
      "Requirement already satisfied: click in /Users/shaistasyeda/anaconda3/lib/python3.11/site-packages (from nltk) (8.0.4)\n",
      "Requirement already satisfied: joblib in /Users/shaistasyeda/anaconda3/lib/python3.11/site-packages (from nltk) (1.2.0)\n",
      "Requirement already satisfied: regex>=2021.8.3 in /Users/shaistasyeda/anaconda3/lib/python3.11/site-packages (from nltk) (2022.7.9)\n",
      "Requirement already satisfied: tqdm in /Users/shaistasyeda/anaconda3/lib/python3.11/site-packages (from nltk) (4.65.0)\n",
      "Note: you may need to restart the kernel to use updated packages.\n"
     ]
    }
   ],
   "source": [
    "pip install nltk"
   ]
  },
  {
   "cell_type": "code",
   "execution_count": 3,
   "id": "e67084ad",
   "metadata": {},
   "outputs": [
    {
     "name": "stdout",
     "output_type": "stream",
     "text": [
      "Requirement already satisfied: gensim in /Users/shaistasyeda/anaconda3/lib/python3.11/site-packages (4.3.0)\n",
      "Requirement already satisfied: numpy>=1.18.5 in /Users/shaistasyeda/anaconda3/lib/python3.11/site-packages (from gensim) (1.24.3)\n",
      "Requirement already satisfied: scipy>=1.7.0 in /Users/shaistasyeda/anaconda3/lib/python3.11/site-packages (from gensim) (1.10.1)\n",
      "Requirement already satisfied: smart-open>=1.8.1 in /Users/shaistasyeda/anaconda3/lib/python3.11/site-packages (from gensim) (5.2.1)\n",
      "Collecting FuzzyTM>=0.4.0 (from gensim)\n",
      "  Downloading FuzzyTM-2.0.5-py3-none-any.whl (29 kB)\n",
      "Requirement already satisfied: pandas in /Users/shaistasyeda/anaconda3/lib/python3.11/site-packages (from FuzzyTM>=0.4.0->gensim) (1.5.3)\n",
      "Collecting pyfume (from FuzzyTM>=0.4.0->gensim)\n",
      "  Downloading pyFUME-0.2.25-py3-none-any.whl (67 kB)\n",
      "\u001b[2K     \u001b[90m━━━━━━━━━━━━━━━━━━━━━━━━━━━━━━━━━━━━━━━\u001b[0m \u001b[32m67.1/67.1 kB\u001b[0m \u001b[31m917.2 kB/s\u001b[0m eta \u001b[36m0:00:00\u001b[0m:--:--\u001b[0m\n",
      "\u001b[?25hRequirement already satisfied: python-dateutil>=2.8.1 in /Users/shaistasyeda/anaconda3/lib/python3.11/site-packages (from pandas->FuzzyTM>=0.4.0->gensim) (2.8.2)\n",
      "Requirement already satisfied: pytz>=2020.1 in /Users/shaistasyeda/anaconda3/lib/python3.11/site-packages (from pandas->FuzzyTM>=0.4.0->gensim) (2022.7)\n",
      "Collecting simpful (from pyfume->FuzzyTM>=0.4.0->gensim)\n",
      "  Downloading simpful-2.11.0-py3-none-any.whl (32 kB)\n",
      "Collecting fst-pso (from pyfume->FuzzyTM>=0.4.0->gensim)\n",
      "  Downloading fst-pso-1.8.1.tar.gz (18 kB)\n",
      "  Preparing metadata (setup.py) ... \u001b[?25ldone\n",
      "\u001b[?25hRequirement already satisfied: six>=1.5 in /Users/shaistasyeda/anaconda3/lib/python3.11/site-packages (from python-dateutil>=2.8.1->pandas->FuzzyTM>=0.4.0->gensim) (1.16.0)\n",
      "Collecting miniful (from fst-pso->pyfume->FuzzyTM>=0.4.0->gensim)\n",
      "  Downloading miniful-0.0.6.tar.gz (2.8 kB)\n",
      "  Preparing metadata (setup.py) ... \u001b[?25ldone\n",
      "\u001b[?25hBuilding wheels for collected packages: fst-pso, miniful\n",
      "  Building wheel for fst-pso (setup.py) ... \u001b[?25ldone\n",
      "\u001b[?25h  Created wheel for fst-pso: filename=fst_pso-1.8.1-py3-none-any.whl size=20430 sha256=d91123f603d9a7f9861ebaa125b60f4a73b4e564c6d81856254242b961ac0cbb\n",
      "  Stored in directory: /Users/shaistasyeda/Library/Caches/pip/wheels/69/f5/e5/18ad53fe1ed6b2af9fad05ec052e4acbac8e92441df44bad2e\n",
      "  Building wheel for miniful (setup.py) ... \u001b[?25ldone\n",
      "\u001b[?25h  Created wheel for miniful: filename=miniful-0.0.6-py3-none-any.whl size=3507 sha256=1c8895817694ad09d7b9c0a7fa7727df6a6cd3c2757e87f9112fe6d61efe0617\n",
      "  Stored in directory: /Users/shaistasyeda/Library/Caches/pip/wheels/9d/ff/2f/afe4cd56f47de147407705626517d68bea0f3b74eb1fb168e6\n",
      "Successfully built fst-pso miniful\n",
      "Installing collected packages: simpful, miniful, fst-pso, pyfume, FuzzyTM\n",
      "Successfully installed FuzzyTM-2.0.5 fst-pso-1.8.1 miniful-0.0.6 pyfume-0.2.25 simpful-2.11.0\n",
      "Note: you may need to restart the kernel to use updated packages.\n"
     ]
    }
   ],
   "source": [
    "pip install gensim"
   ]
  },
  {
   "cell_type": "markdown",
   "id": "f378e52b-5771-4b51-80f9-29ba0187237d",
   "metadata": {},
   "source": [
    "# Word2Vec"
   ]
  },
  {
   "cell_type": "code",
   "execution_count": 4,
   "id": "ecc8c214",
   "metadata": {},
   "outputs": [],
   "source": [
    "import pandas as pd\n",
    "\n",
    "from nltk.tokenize import word_tokenize\n",
    "from gensim.models import FastText"
   ]
  },
  {
   "cell_type": "code",
   "execution_count": 1,
   "id": "cc162c1f",
   "metadata": {
    "tags": []
   },
   "outputs": [
    {
     "name": "stdout",
     "output_type": "stream",
     "text": [
      "here\n",
      "Processing file: /Users/shaistasyeda/Desktop/DataSet/tokenized_debates/1800_1850_tokenized.txt\n",
      "Processed 471034 sentences from /Users/shaistasyeda/Desktop/DataSet/tokenized_debates/1800_1850_tokenized.txt\n",
      "Processing file: /Users/shaistasyeda/Desktop/DataSet/tokenized_debates/1901_1950_tokenized.txt\n",
      "Processed 765422 sentences from /Users/shaistasyeda/Desktop/DataSet/tokenized_debates/1901_1950_tokenized.txt\n",
      "Processing file: /Users/shaistasyeda/Desktop/DataSet/tokenized_debates/1851_1900_tokenized.txt\n",
      "Processed 687819 sentences from /Users/shaistasyeda/Desktop/DataSet/tokenized_debates/1851_1900_tokenized.txt\n",
      "Processing file: /Users/shaistasyeda/Desktop/DataSet/tokenized_debates/1971_1990_tokenized.txt\n",
      "Processed 1025994 sentences from /Users/shaistasyeda/Desktop/DataSet/tokenized_debates/1971_1990_tokenized.txt\n",
      "Processing file: /Users/shaistasyeda/Desktop/DataSet/tokenized_debates/1991_2006_tokenized.txt\n",
      "Processed 597305 sentences from /Users/shaistasyeda/Desktop/DataSet/tokenized_debates/1991_2006_tokenized.txt\n",
      "Processing file: /Users/shaistasyeda/Desktop/DataSet/tokenized_debates/1951_1970_tokenized.txt\n",
      "Processed 813361 sentences from /Users/shaistasyeda/Desktop/DataSet/tokenized_debates/1951_1970_tokenized.txt\n",
      "Word2Vec Model training completed\n"
     ]
    }
   ],
   "source": [
    "from gensim.models import Word2Vec\n",
    "import os\n",
    "\n",
    "# the directory path of tokenized files\n",
    "data_directory = '/Users/shaistasyeda/Desktop/DataSet/tokenized_debates'\n",
    "\n",
    "# Initialize an empty list to store sentences\n",
    "sentences = []\n",
    "print(\"here\")\n",
    "\n",
    "# Iterate through each file in the directory\n",
    "for filename in os.listdir(data_directory):\n",
    "    if filename.endswith(\".txt\"):\n",
    "        file_path = os.path.join(data_directory, filename)\n",
    "        print(f\"Processing file: {file_path}\")\n",
    "\n",
    "        # Read the tokenized data from the file\n",
    "        with open(file_path, 'r', encoding='utf-8') as file:\n",
    "            file_sentences = [line.split() for line in file]\n",
    "\n",
    "        # Add the sentences from this file to the overall list\n",
    "        sentences.extend(file_sentences)\n",
    "        \n",
    "        print(f\"Processed {len(file_sentences)} sentences from {file_path}\")\n",
    "\n",
    "# Train Word2Vec model\n",
    "model = Word2Vec(sentences, vector_size=300, window=15, min_count=5, workers=4)\n",
    "\n",
    "# Save the trained model\n",
    "model.save('word2vec_model.bin')\n",
    "\n",
    "print(\"Word2Vec Model training completed\")"
   ]
  },
  {
   "cell_type": "code",
   "execution_count": 3,
   "id": "2de00433",
   "metadata": {
    "tags": []
   },
   "outputs": [],
   "source": [
    "from gensim.models import Word2Vec\n",
    "\n",
    "# Load the saved Word2Vec model\n",
    "model = Word2Vec.load('word2vec_model.bin')\n"
   ]
  },
  {
   "cell_type": "code",
   "execution_count": 3,
   "id": "c82c3ab5-740f-4399-970a-97e74961c9d1",
   "metadata": {
    "tags": []
   },
   "outputs": [
    {
     "name": "stdout",
     "output_type": "stream",
     "text": [
      "Similar words to 'woman': [('men', 0.5933540463447571), ('female', 0.58524489402771), ('sex', 0.5548138618469238), ('wife', 0.5384922623634338), ('girl', 0.5375543236732483)]\n"
     ]
    }
   ],
   "source": [
    "# Find words similar to the word woman\n",
    "similar_words = model.wv.most_similar('woman', topn=5)\n",
    "print(f\"Similar words to 'woman': {similar_words}\")"
   ]
  },
  {
   "cell_type": "code",
   "execution_count": 6,
   "id": "2089b056-c227-4dcb-9221-d745c73c9355",
   "metadata": {
    "tags": []
   },
   "outputs": [
    {
     "ename": "KeyError",
     "evalue": "\"Key 'women' not present in vocabulary\"",
     "output_type": "error",
     "traceback": [
      "\u001b[0;31m---------------------------------------------------------------------------\u001b[0m",
      "\u001b[0;31mKeyError\u001b[0m                                  Traceback (most recent call last)",
      "Cell \u001b[0;32mIn[6], line 2\u001b[0m\n\u001b[1;32m      1\u001b[0m \u001b[38;5;66;03m# Find words similar to a given word\u001b[39;00m\n\u001b[0;32m----> 2\u001b[0m similar_words \u001b[38;5;241m=\u001b[39m model\u001b[38;5;241m.\u001b[39mwv\u001b[38;5;241m.\u001b[39mmost_similar(\u001b[38;5;124m'\u001b[39m\u001b[38;5;124mwomen\u001b[39m\u001b[38;5;124m'\u001b[39m, topn\u001b[38;5;241m=\u001b[39m\u001b[38;5;241m5\u001b[39m)\n\u001b[1;32m      3\u001b[0m \u001b[38;5;28mprint\u001b[39m(\u001b[38;5;124mf\u001b[39m\u001b[38;5;124m\"\u001b[39m\u001b[38;5;124mSimilar words to \u001b[39m\u001b[38;5;124m'\u001b[39m\u001b[38;5;124mwomen\u001b[39m\u001b[38;5;124m'\u001b[39m\u001b[38;5;124m: \u001b[39m\u001b[38;5;132;01m{\u001b[39;00msimilar_words\u001b[38;5;132;01m}\u001b[39;00m\u001b[38;5;124m\"\u001b[39m)\n",
      "File \u001b[0;32m~/anaconda3/lib/python3.11/site-packages/gensim/models/keyedvectors.py:841\u001b[0m, in \u001b[0;36mKeyedVectors.most_similar\u001b[0;34m(self, positive, negative, topn, clip_start, clip_end, restrict_vocab, indexer)\u001b[0m\n\u001b[1;32m    838\u001b[0m         weight[idx] \u001b[38;5;241m=\u001b[39m item[\u001b[38;5;241m1\u001b[39m]\n\u001b[1;32m    840\u001b[0m \u001b[38;5;66;03m# compute the weighted average of all keys\u001b[39;00m\n\u001b[0;32m--> 841\u001b[0m mean \u001b[38;5;241m=\u001b[39m \u001b[38;5;28mself\u001b[39m\u001b[38;5;241m.\u001b[39mget_mean_vector(keys, weight, pre_normalize\u001b[38;5;241m=\u001b[39m\u001b[38;5;28;01mTrue\u001b[39;00m, post_normalize\u001b[38;5;241m=\u001b[39m\u001b[38;5;28;01mTrue\u001b[39;00m, ignore_missing\u001b[38;5;241m=\u001b[39m\u001b[38;5;28;01mFalse\u001b[39;00m)\n\u001b[1;32m    842\u001b[0m all_keys \u001b[38;5;241m=\u001b[39m [\n\u001b[1;32m    843\u001b[0m     \u001b[38;5;28mself\u001b[39m\u001b[38;5;241m.\u001b[39mget_index(key) \u001b[38;5;28;01mfor\u001b[39;00m key \u001b[38;5;129;01min\u001b[39;00m keys \u001b[38;5;28;01mif\u001b[39;00m \u001b[38;5;28misinstance\u001b[39m(key, _KEY_TYPES) \u001b[38;5;129;01mand\u001b[39;00m \u001b[38;5;28mself\u001b[39m\u001b[38;5;241m.\u001b[39mhas_index_for(key)\n\u001b[1;32m    844\u001b[0m ]\n\u001b[1;32m    846\u001b[0m \u001b[38;5;28;01mif\u001b[39;00m indexer \u001b[38;5;129;01mis\u001b[39;00m \u001b[38;5;129;01mnot\u001b[39;00m \u001b[38;5;28;01mNone\u001b[39;00m \u001b[38;5;129;01mand\u001b[39;00m \u001b[38;5;28misinstance\u001b[39m(topn, \u001b[38;5;28mint\u001b[39m):\n",
      "File \u001b[0;32m~/anaconda3/lib/python3.11/site-packages/gensim/models/keyedvectors.py:518\u001b[0m, in \u001b[0;36mKeyedVectors.get_mean_vector\u001b[0;34m(self, keys, weights, pre_normalize, post_normalize, ignore_missing)\u001b[0m\n\u001b[1;32m    516\u001b[0m         total_weight \u001b[38;5;241m+\u001b[39m\u001b[38;5;241m=\u001b[39m \u001b[38;5;28mabs\u001b[39m(weights[idx])\n\u001b[1;32m    517\u001b[0m     \u001b[38;5;28;01melif\u001b[39;00m \u001b[38;5;129;01mnot\u001b[39;00m ignore_missing:\n\u001b[0;32m--> 518\u001b[0m         \u001b[38;5;28;01mraise\u001b[39;00m \u001b[38;5;167;01mKeyError\u001b[39;00m(\u001b[38;5;124mf\u001b[39m\u001b[38;5;124m\"\u001b[39m\u001b[38;5;124mKey \u001b[39m\u001b[38;5;124m'\u001b[39m\u001b[38;5;132;01m{\u001b[39;00mkey\u001b[38;5;132;01m}\u001b[39;00m\u001b[38;5;124m'\u001b[39m\u001b[38;5;124m not present in vocabulary\u001b[39m\u001b[38;5;124m\"\u001b[39m)\n\u001b[1;32m    520\u001b[0m \u001b[38;5;28;01mif\u001b[39;00m total_weight \u001b[38;5;241m>\u001b[39m \u001b[38;5;241m0\u001b[39m:\n\u001b[1;32m    521\u001b[0m     mean \u001b[38;5;241m=\u001b[39m mean \u001b[38;5;241m/\u001b[39m total_weight\n",
      "\u001b[0;31mKeyError\u001b[0m: \"Key 'women' not present in vocabulary\""
     ]
    }
   ],
   "source": [
    "# Find words similar to the word women\n",
    "similar_words = model.wv.most_similar('women', topn=5)\n",
    "print(f\"Similar words to 'women': {similar_words}\")"
   ]
  },
  {
   "cell_type": "code",
   "execution_count": 4,
   "id": "0dac2610-0743-466b-9d5c-7dcddf8d7c5b",
   "metadata": {
    "tags": []
   },
   "outputs": [
    {
     "name": "stdout",
     "output_type": "stream",
     "text": [
      "Similar words to 'woman': [('men', 0.5933540463447571), ('female', 0.58524489402771), ('sex', 0.5548138618469238), ('wife', 0.5384922623634338), ('girl', 0.5375543236732483), ('unmarried', 0.5127474665641785), ('bisexual', 0.5066877007484436), ('inspectorinspectorsergeantconstabletotal', 0.5064346194267273), ('ranksavon', 0.484653502702713), ('mother', 0.47149765491485596), ('lesbian', 0.45528358221054077), ('sexual', 0.45225992798805237), ('adult', 0.44631966948509216), ('rankstotal', 0.44467100501060486), ('male', 0.44349783658981323)]\n"
     ]
    }
   ],
   "source": [
    "# Find words similar to the word woman\n",
    "similar_words = model.wv.most_similar('woman', topn=15)\n",
    "print(f\"Similar words to 'woman': {similar_words}\")"
   ]
  },
  {
   "cell_type": "code",
   "execution_count": 5,
   "id": "ab5931ff-45ab-4bbb-9bf2-84e90d14b37d",
   "metadata": {
    "tags": []
   },
   "outputs": [
    {
     "name": "stdout",
     "output_type": "stream",
     "text": [
      "Similar words to 'man': [('men', 0.6600674986839294), ('someone', 0.5912762880325317), ('husband', 0.5009009838104248), ('person', 0.4972824454307556), ('wife', 0.49441832304000854)]\n"
     ]
    }
   ],
   "source": [
    "# Find words similar to the word man\n",
    "similar_words = model.wv.most_similar('man', topn=5)\n",
    "print(f\"Similar words to 'man': {similar_words}\")"
   ]
  },
  {
   "cell_type": "code",
   "execution_count": 21,
   "id": "09c1abfd-9996-4712-bd27-0dd271c4c080",
   "metadata": {
    "tags": []
   },
   "outputs": [
    {
     "name": "stdout",
     "output_type": "stream",
     "text": [
      "Similar words to 'man': [('men', 0.6600674986839294), ('someone', 0.5912762880325317), ('husband', 0.5009009838104248), ('person', 0.4972824454307556), ('wife', 0.49441832304000854), ('father', 0.4914131760597229), ('lad', 0.48043251037597656), ('somebody', 0.4727700650691986), ('people', 0.4538191556930542), ('chap', 0.4463156461715698), ('policeman', 0.44304999709129333), ('son', 0.4408462345600128), ('englishman', 0.4390304684638977), ('woman', 0.43529239296913147), ('fellow', 0.42490649223327637)]\n"
     ]
    }
   ],
   "source": [
    "# Find words similar to the word man\n",
    "similar_words = model.wv.most_similar('man', topn=15)\n",
    "print(f\"Similar words to 'man': {similar_words}\")"
   ]
  },
  {
   "cell_type": "code",
   "execution_count": 24,
   "id": "db35396f-64b2-4fc4-9856-00d0824057af",
   "metadata": {
    "tags": []
   },
   "outputs": [],
   "source": [
    "model = Word2Vec.load('word2vec_model.bin')"
   ]
  },
  {
   "cell_type": "code",
   "execution_count": 25,
   "id": "f2b2cf27-0c44-4582-8267-5b131e55d4bf",
   "metadata": {
    "tags": []
   },
   "outputs": [
    {
     "name": "stdout",
     "output_type": "stream",
     "text": [
      "Similar words to 'suffrage': [('franchise', 0.696742594242096), ('enfranchisement', 0.45555379986763), ('disfranchisement', 0.4372865557670593), ('voter', 0.3991124927997589), ('elective', 0.39418527483940125), ('elector', 0.38717013597488403), ('voting', 0.383173406124115), ('electorate', 0.3795275390148163), ('ballot', 0.37519317865371704), ('democratic', 0.37162959575653076), ('electoral', 0.37135225534439087), ('enfranchising', 0.3685806393623352), ('democracy', 0.35439103841781616), ('enfranchised', 0.3541511297225952), ('universal', 0.3528963327407837)]\n"
     ]
    }
   ],
   "source": [
    "# Find words similar to the word suffrage\n",
    "similar_words = model.wv.most_similar('suffrage', topn=15)\n",
    "print(f\"Similar words to 'suffrage': {similar_words}\")"
   ]
  },
  {
   "cell_type": "code",
   "execution_count": 26,
   "id": "2dc8934a-71e5-4b46-aebc-a860991e7116",
   "metadata": {
    "tags": []
   },
   "outputs": [
    {
     "name": "stdout",
     "output_type": "stream",
     "text": [
      "Similar words to 'equality': [('equal', 0.680004894733429), ('discrimination', 0.5354317426681519), ('parity', 0.4712681770324707), ('racial', 0.4699332118034363), ('gender', 0.4354051649570465), ('inequality', 0.4241330623626709), ('sex', 0.4130224585533142), ('equalityasked', 0.4092582166194916), ('footing', 0.3956541419029236), ('toleration', 0.3927280008792877), ('race', 0.3723876178264618), ('fairness', 0.3709823191165924), ('discriminated', 0.35953977704048157), ('diversity', 0.35619059205055237), ('differentiation', 0.3544129729270935)]\n"
     ]
    }
   ],
   "source": [
    "similar_words = model.wv.most_similar('equality', topn=15)\n",
    "print(f\"Similar words to 'equality': {similar_words}\")"
   ]
  },
  {
   "cell_type": "code",
   "execution_count": 7,
   "id": "daafde53-27f7-4fde-9425-c9e208c91fe1",
   "metadata": {
    "tags": []
   },
   "outputs": [
    {
     "name": "stdout",
     "output_type": "stream",
     "text": [
      "Vector representation of 'woman': [ 2.3564      3.753244   -0.41304144  6.244112    1.8507706   3.714436\n",
      " -1.8692195   4.238472    1.4238366  -2.0187404  -3.2061436  -0.24064855\n",
      "  0.02811576 -4.186275    0.8700946   1.151019    1.4331686  -0.30517128\n",
      "  5.8615856   1.8697482   1.3613605  -4.4436474  -0.5636993  -3.880515\n",
      "  0.8894953   0.3649068   0.09802148 -0.93517095  4.601683   -0.02369897\n",
      "  0.60239774  1.0861696  -0.16868971  0.1900983  -3.9240632  -2.173769\n",
      "  0.9053637   0.08313857  4.0664454   4.8482037   0.22638184  0.49103066\n",
      " -0.08679341 -2.514798    2.0976393  -3.2160828   2.7779095   2.8058639\n",
      "  2.4393306  -0.74029464 -2.4814892   1.3102283   1.3731905   0.6360431\n",
      " -7.1056166  -2.0939715   0.49667063 -2.2025764   0.9198766  -2.8030362\n",
      " -0.89481515  5.537762    2.8655074   4.8633866  -0.18163304  0.08982263\n",
      "  1.8840882  -1.7859993  -3.1925774  -1.3498391   2.1551225  -0.7668172\n",
      "  0.883345   -1.8156962   2.731256    4.006288    1.1115992  -2.3946779\n",
      "  2.2193987   0.25998405 -0.49836123 -0.8223859   0.29111883 -0.17109515\n",
      " -1.4438462   1.4990792  -1.5142578  -1.3965831   1.3241632  -0.9389012\n",
      " -0.43425667 -0.57057804  4.5699053   3.1360068   0.0398838   0.27046943\n",
      "  1.8831233  -2.630019    4.852904   -1.4518026  -3.1939228   3.709996\n",
      " -4.2542377  -3.1342854  -1.0148206   0.10843506 -1.2889508   0.33063176\n",
      " -3.4356995  -2.0182247   3.8323405   1.3165804   3.7220175   2.6525228\n",
      "  2.4932582  -1.8205353   2.340731    0.1853259   5.0768948   4.135717\n",
      "  1.7867383  -0.16021875 -0.9867292   2.0197272   5.508968    1.0328752\n",
      " -0.44485798 -3.7912905   0.7923684   2.7655964   6.9856706   3.7088552\n",
      "  0.07948062 -0.7666807   1.5680258   0.67333406  4.1313715  -1.0628252\n",
      " -2.7815363  -0.01917161  0.3891008   0.48105848 -2.5395322  -3.508695\n",
      "  0.84983593  1.4521654  -3.1225278  -1.0326866  -2.729612    1.2632713\n",
      "  1.570045    0.12536378  0.7412067  -1.9594082   3.2004628  -2.3857152\n",
      " -1.693455    3.060438   -1.9588659   1.779757   -2.714381    2.6430886\n",
      " -1.0555574  -5.2032967   0.1407115  -3.003359    0.8817322   2.1332326\n",
      " -1.3819737  -0.26251814  0.82630235 -1.9630834  -2.361264   -0.8788648\n",
      "  0.65387744 -0.35751083 -2.8328571  -0.25924027  3.7839575   2.5007088\n",
      "  1.9036785   0.37967256  4.8576403   1.8310965   3.9300563   4.488299\n",
      " -0.4286056   4.384608    1.9761693  -2.7965827   0.5947647  -1.7804548\n",
      " -0.2203931  -0.70285493 -2.9501464   2.0636647  -0.5616119   1.1373912\n",
      "  0.26074582 -0.01076945 -1.0850145   6.7665954   5.3066187  -1.1685909\n",
      " -1.9799261  -2.6408265   1.0159787  -0.46034503  0.70402336  0.801694\n",
      " -1.8332932   1.2020165   1.1083598  -0.349839    1.6999408  -1.1282876\n",
      " -0.5211606   3.0138006  -0.7132729   0.0308491   2.6947415   3.4958813\n",
      "  3.4336116  -2.4066727  -1.8057292   0.46818268 -0.94070256 -1.7786087\n",
      "  3.9973323   1.9349685   4.43838    -0.5763218  -0.47116548  2.1592712\n",
      " -0.37291822 -1.9443412  -4.150662   -4.4563546  -1.8977883   2.7776282\n",
      " -0.6431565  -0.37705013  2.6673996  -1.5204972   2.1276586   2.3196282\n",
      "  0.29118425  2.4053202  -2.694574   -0.68372446  2.9794655   0.25896552\n",
      "  2.7763782  -3.660747    1.1561975  -0.8988582   0.9691146  -0.8341643\n",
      "  1.6576557   1.746163   -1.0999084   1.5986912   2.6622279   0.4706448\n",
      "  3.2847412   2.0894732  -4.260733    0.04558463  1.8029902   3.307366\n",
      " -2.033939   -1.4739326  -0.10251776  2.4084356  -1.761387    0.8321622\n",
      " -1.0106909   0.9777128  -2.3742554  -2.526338    3.277589   -3.787043\n",
      " -4.664528   -0.8885455  -4.2956414   1.2962378  -0.57281625  1.1741773\n",
      " -0.8211524  -1.5298262  -1.8392571  -2.2070816   0.39626762  2.8604202\n",
      " -5.309493   -0.44613037 -1.2327089   1.1121603   4.601772   -1.2051393 ]\n"
     ]
    }
   ],
   "source": [
    "#the vector representation of the word woman\n",
    "vector = model.wv['woman']\n",
    "print(f\"Vector representation of 'woman': {vector}\")"
   ]
  },
  {
   "cell_type": "code",
   "execution_count": 8,
   "id": "c705332e-7d5a-4dc0-a08f-86874f4786f8",
   "metadata": {
    "tags": []
   },
   "outputs": [
    {
     "name": "stdout",
     "output_type": "stream",
     "text": [
      "Word analogy result: [('queen', 0.47559547424316406)]\n"
     ]
    }
   ],
   "source": [
    "#word analogy\n",
    "analogy_result = model.wv.most_similar(positive=['king', 'woman'], negative=['man'], topn=1)\n",
    "print(f\"Word analogy result: {analogy_result}\")"
   ]
  },
  {
   "cell_type": "code",
   "execution_count": 27,
   "id": "74b0f724-42bf-4f4e-8a72-c04438a54f8b",
   "metadata": {
    "tags": []
   },
   "outputs": [
    {
     "name": "stdout",
     "output_type": "stream",
     "text": [
      "Word analogy result: [('mother', 0.5810819864273071)]\n"
     ]
    }
   ],
   "source": [
    "#word analogy\n",
    "analogy_result = model.wv.most_similar(positive=['father', 'woman'], negative=['man'], topn=1)\n",
    "print(f\"Word analogy result: {analogy_result}\")"
   ]
  },
  {
   "cell_type": "code",
   "execution_count": 28,
   "id": "1353424d-4d98-420c-b393-c8dc9178cab8",
   "metadata": {
    "tags": []
   },
   "outputs": [
    {
     "name": "stdout",
     "output_type": "stream",
     "text": [
      "Word analogy result: [('friend', 0.5325562357902527)]\n"
     ]
    }
   ],
   "source": [
    "#word analogy\n",
    "analogy_result = model.wv.most_similar(positive=['gentleman', 'woman'], negative=['man'], topn=1)\n",
    "print(f\"Word analogy result: {analogy_result}\")"
   ]
  },
  {
   "cell_type": "code",
   "execution_count": 29,
   "id": "bcf03a81-2631-4baa-96db-fc7c754f923e",
   "metadata": {
    "tags": []
   },
   "outputs": [
    {
     "name": "stdout",
     "output_type": "stream",
     "text": [
      "Word analogy result: [('dutiful', 0.38651522994041443)]\n"
     ]
    }
   ],
   "source": [
    "#word analogy\n",
    "analogy_result = model.wv.most_similar(positive=['loyal', 'woman'], negative=['man'], topn=1)\n",
    "print(f\"Word analogy result: {analogy_result}\")"
   ]
  },
  {
   "cell_type": "code",
   "execution_count": 20,
   "id": "eb3e553e-52e2-4de5-bbe5-8300b5f53717",
   "metadata": {
    "tags": []
   },
   "outputs": [
    {
     "data": {
      "image/png": "[encoded data removed]",
      "text/plain": [
       "<Figure size 400x400 with 1 Axes>"
      ]
     },
     "metadata": {},
     "output_type": "display_data"
    }
   ],
   "source": [
    "import matplotlib.pyplot as plt\n",
    "from sklearn.manifold import TSNE\n",
    "import numpy as np\n",
    "\n",
    "# Visualize embeddings of 'man' and 'woman'\n",
    "words_to_visualize = ['man', 'woman']\n",
    "vectors_to_visualize = np.array([model.wv[word] for word in words_to_visualize])\n",
    "\n",
    "# Check the number of samples\n",
    "n_samples, n_features = vectors_to_visualize.shape\n",
    "\n",
    "# Ensuring perplexity is less than the number of samples\n",
    "perplexity = min(3, n_samples - 1)\n",
    "\n",
    "tsne = TSNE(n_components=2, perplexity=perplexity, random_state=42)\n",
    "vectors_2d = tsne.fit_transform(vectors_to_visualize)\n",
    "\n",
    "plt.figure(figsize=(4, 4))\n",
    "plt.xlim(vectors_2d[:, 0].min() - 0.1, vectors_2d[:, 0].max() + 0.1)\n",
    "plt.ylim(vectors_2d[:, 1].min() - 0.1, vectors_2d[:, 1].max() + 0.1)\n",
    "\n",
    "for i, word in enumerate(words_to_visualize):\n",
    "    plt.scatter(vectors_2d[i, 0], vectors_2d[i, 1])\n",
    "    plt.text(vectors_2d[i, 0] + 0.02, vectors_2d[i, 1] + 0.02, word)\n",
    "\n",
    "plt.show()\n"
   ]
  },
  {
   "cell_type": "markdown",
   "id": "c372b3b0-2fdb-49a1-a4d4-9d6ce9916f63",
   "metadata": {},
   "source": [
    "# FastText"
   ]
  },
  {
   "cell_type": "code",
   "execution_count": 1,
   "id": "9ee75dbd-9a88-4924-acfb-2227b3313053",
   "metadata": {
    "tags": []
   },
   "outputs": [
    {
     "name": "stdout",
     "output_type": "stream",
     "text": [
      "here\n"
     ]
    },
    {
     "ename": "NotADirectoryError",
     "evalue": "[Errno 20] Not a directory: '/Users/shaistasyeda/Desktop/DataSet/tokenized_debates/1800_1850_tokenized.txt'",
     "output_type": "error",
     "traceback": [
      "\u001b[0;31m---------------------------------------------------------------------------\u001b[0m",
      "\u001b[0;31mNotADirectoryError\u001b[0m                        Traceback (most recent call last)",
      "Cell \u001b[0;32mIn[1], line 12\u001b[0m\n\u001b[1;32m      9\u001b[0m \u001b[38;5;28mprint\u001b[39m(\u001b[38;5;124m\"\u001b[39m\u001b[38;5;124mhere\u001b[39m\u001b[38;5;124m\"\u001b[39m)\n\u001b[1;32m     11\u001b[0m \u001b[38;5;66;03m# Iterate through each file in the directory\u001b[39;00m\n\u001b[0;32m---> 12\u001b[0m \u001b[38;5;28;01mfor\u001b[39;00m filename \u001b[38;5;129;01min\u001b[39;00m os\u001b[38;5;241m.\u001b[39mlistdir(data_directory):\n\u001b[1;32m     13\u001b[0m     \u001b[38;5;28;01mif\u001b[39;00m filename\u001b[38;5;241m.\u001b[39mendswith(\u001b[38;5;124m\"\u001b[39m\u001b[38;5;124m.txt\u001b[39m\u001b[38;5;124m\"\u001b[39m):\n\u001b[1;32m     14\u001b[0m         file_path \u001b[38;5;241m=\u001b[39m os\u001b[38;5;241m.\u001b[39mpath\u001b[38;5;241m.\u001b[39mjoin(data_directory, filename)\n",
      "\u001b[0;31mNotADirectoryError\u001b[0m: [Errno 20] Not a directory: '/Users/shaistasyeda/Desktop/DataSet/tokenized_debates/1800_1850_tokenized.txt'"
     ]
    }
   ],
   "source": [
    "import fasttext\n",
    "import os\n",
    "\n",
    "# the directory path of tokenized files\n",
    "data_directory = '/Users/shaistasyeda/Desktop/DataSet/tokenized_debates'\n",
    "\n",
    "# Initialize an empty list to store sentences\n",
    "sentences = []\n",
    "print(\"here\")\n",
    "\n",
    "# Iterate through each file in the directory\n",
    "for filename in os.listdir(data_directory):\n",
    "    if filename.endswith(\".txt\"):\n",
    "        file_path = os.path.join(data_directory, filename)\n",
    "        print(f\"Processing file: {file_path}\")\n",
    "\n",
    "        # Read the tokenized data from the file\n",
    "        with open(file_path, 'r', encoding='utf-8') as file:\n",
    "            file_sentences = [line.split() for line in file]\n",
    "\n",
    "        # Add the sentences from this file to the overall list\n",
    "        sentences.extend(file_sentences)\n",
    "        \n",
    "        print(f\"Processed {len(file_sentences)} sentences from {file_path}\")"
   ]
  },
  {
   "cell_type": "code",
   "execution_count": null,
   "id": "0556c93f-41bf-45a4-bcef-2c35ab66974f",
   "metadata": {},
   "outputs": [
    {
     "name": "stdout",
     "output_type": "stream",
     "text": [
      "Training FastText model...\n"
     ]
    }
   ],
   "source": [
    "# Print statement for indicating the start of training\n",
    "print(\"Training FastText model...\")\n",
    "\n",
    "# Train FastText model\n",
    "model = fasttext.train_unsupervised(sentences, model='skipgram', dim=300, ws=15, minCount=5, thread=4)\n",
    "\n",
    "# Print statement for the completion of training\n",
    "print(\"FastText model trained successfully.\")\n",
    "\n",
    "# Save the trained model\n",
    "model.save_model('fasttext_model.bin')"
   ]
  },
  {
   "cell_type": "code",
   "execution_count": 4,
   "id": "dc753b86-af74-45cf-a7e3-6510eb8caecb",
   "metadata": {
    "tags": []
   },
   "outputs": [
    {
     "name": "stdout",
     "output_type": "stream",
     "text": [
      "Processing file: /Users/shaistasyeda/Desktop/DataSet/tokenized_debates/1800_1850_tokenized.txt\n",
      "Training FastText model...\n"
     ]
    }
   ],
   "source": [
    "import fasttext\n",
    "\n",
    "# the path to the tokenized file\n",
    "file_path = '/Users/shaistasyeda/Desktop/DataSet/tokenized_debates/1800_1850_tokenized.txt'\n",
    "\n",
    "# Print statement for indicating the processing of the file\n",
    "print(f\"Processing file: {file_path}\")\n",
    "\n",
    "# Read the tokenized data from the file\n",
    "with open(file_path, 'r', encoding='utf-8') as file:\n",
    "    sentences = [line.split() for line in file]\n",
    "\n",
    "# Print statement for indicating the start of training\n",
    "print(\"Training FastText model...\")\n",
    "\n",
    "# Train FastText model\n",
    "model = fasttext.train_unsupervised(sentences, model='skipgram',dim=100, ws=5, minCount=1, thread=4)\n",
    "\n",
    "# Save the trained model\n",
    "model.save_model('fasttext_model.bin')\n",
    "\n",
    "\n",
    "# Print statement for indicating the completion of training\n",
    "print(\"FastText model trained successfully.\")\n"
   ]
  },
  {
   "cell_type": "markdown",
   "id": "dd64a0ea-a2f3-40c5-b3c3-88f18a18ff7b",
   "metadata": {},
   "source": [
    "# Word2Vec for the year 1800-1850"
   ]
  },
  {
   "cell_type": "code",
   "execution_count": 3,
   "id": "73105c09-d8c0-494b-8dce-362037745fdc",
   "metadata": {
    "tags": []
   },
   "outputs": [
    {
     "name": "stdout",
     "output_type": "stream",
     "text": [
      "Processing file: /Users/shaistasyeda/Desktop/DataSet/tokenized_debates/1800_1850_tokenized.txt\n",
      "Processed 471034 sentences from /Users/shaistasyeda/Desktop/DataSet/tokenized_debates/1800_1850_tokenized.txt\n",
      "Word2Vec Model training completed\n"
     ]
    }
   ],
   "source": [
    "from gensim.models import Word2Vec\n",
    "import os\n",
    "\n",
    "#the path to the tokenized file \n",
    "file_path = '/Users/shaistasyeda/Desktop/DataSet/tokenized_debates/1800_1850_tokenized.txt'\n",
    "\n",
    "# Print statement for indicating the processing of the file\n",
    "print(f\"Processing file: {file_path}\")\n",
    "\n",
    "# Read the tokenized data from the file\n",
    "with open(file_path, 'r', encoding='utf-8') as file:\n",
    "    sentences = [line.split() for line in file]\n",
    "    print(f\"Processed {len(sentences)} sentences from {file_path}\")\n",
    "\n",
    "    \n",
    "# Train Word2Vec model\n",
    "model = Word2Vec(sentences, vector_size=300, window=15, min_count=5, workers=4)\n",
    "\n",
    "# Save the trained model\n",
    "model.save('word2vec_model_1.bin')\n",
    "\n",
    "print(\"Word2Vec Model training completed\")"
   ]
  },
  {
   "cell_type": "code",
   "execution_count": 4,
   "id": "3c1294bc-5a62-4be3-a2d6-11c8a5052b88",
   "metadata": {
    "tags": []
   },
   "outputs": [],
   "source": [
    "from gensim.models import Word2Vec\n",
    "\n",
    "# Load the saved Word2Vec model\n",
    "model = Word2Vec.load('word2vec_model_1.bin')"
   ]
  },
  {
   "cell_type": "code",
   "execution_count": 5,
   "id": "3e8c2e88-a410-4332-8977-d972679def30",
   "metadata": {
    "tags": []
   },
   "outputs": [
    {
     "name": "stdout",
     "output_type": "stream",
     "text": [
      "Similar words to 'woman': [('wife', 0.6032223105430603), ('female', 0.5838871002197266), ('girl', 0.5633318424224854), ('husband', 0.552932858467102), ('seducer', 0.5423462986946106)]\n"
     ]
    }
   ],
   "source": [
    "# Find words similar to the word woman\n",
    "similar_words = model.wv.most_similar('woman', topn=5)\n",
    "print(f\"Similar words to 'woman': {similar_words}\")"
   ]
  },
  {
   "cell_type": "code",
   "execution_count": 6,
   "id": "ff3aae1d-3c8b-40e0-86d3-0e4af68f6f55",
   "metadata": {
    "tags": []
   },
   "outputs": [
    {
     "name": "stdout",
     "output_type": "stream",
     "text": [
      "Similar words to 'man': [('men', 0.5075037479400635), ('hypocrite', 0.4152478277683258), ('creature', 0.4150362014770508), ('upright', 0.3986075222492218), ('falshoods', 0.3948286473751068)]\n"
     ]
    }
   ],
   "source": [
    "# Find words similar to the word man\n",
    "similar_words = model.wv.most_similar('man', topn=5)\n",
    "print(f\"Similar words to 'man': {similar_words}\")"
   ]
  },
  {
   "cell_type": "markdown",
   "id": "35e34845-e08c-4793-b5a7-35bfc87cdd04",
   "metadata": {},
   "source": [
    "# Word2Vec for the year 1851-1900"
   ]
  },
  {
   "cell_type": "code",
   "execution_count": 8,
   "id": "54902e06-cb5f-4aed-8015-fabf5abd5a69",
   "metadata": {
    "tags": []
   },
   "outputs": [
    {
     "name": "stdout",
     "output_type": "stream",
     "text": [
      "Processing file: /Users/shaistasyeda/Desktop/DataSet/tokenized_debates/1851_1900_tokenized.txt\n",
      "Processed 687819 sentences from /Users/shaistasyeda/Desktop/DataSet/tokenized_debates/1851_1900_tokenized.txt\n",
      "Word2Vec Model training completed\n"
     ]
    }
   ],
   "source": [
    "from gensim.models import Word2Vec\n",
    "import os\n",
    "\n",
    "# the path to the tokenized file \n",
    "file_path = '/Users/shaistasyeda/Desktop/DataSet/tokenized_debates/1851_1900_tokenized.txt'\n",
    "\n",
    "# Print statement for indicating the processing of the file\n",
    "print(f\"Processing file: {file_path}\")\n",
    "\n",
    "# Read the tokenized data from the file\n",
    "with open(file_path, 'r', encoding='utf-8') as file:\n",
    "    sentences = [line.split() for line in file]\n",
    "    print(f\"Processed {len(sentences)} sentences from {file_path}\")\n",
    "\n",
    "    \n",
    "# Train Word2Vec model\n",
    "model = Word2Vec(sentences, vector_size=300, window=15, min_count=5, workers=4)\n",
    "\n",
    "# Save the trained model\n",
    "model.save('word2vec_model_2.bin')\n",
    "\n",
    "print(\"Word2Vec Model training completed\")"
   ]
  },
  {
   "cell_type": "code",
   "execution_count": 9,
   "id": "b541db4f-80c6-4b1a-ada0-2d47f399321c",
   "metadata": {
    "tags": []
   },
   "outputs": [],
   "source": [
    "# Load the saved Word2Vec model\n",
    "model = Word2Vec.load('word2vec_model_2.bin')"
   ]
  },
  {
   "cell_type": "code",
   "execution_count": 10,
   "id": "d03839a6-3c2c-43dd-99b2-da411ee290e8",
   "metadata": {
    "tags": []
   },
   "outputs": [
    {
     "name": "stdout",
     "output_type": "stream",
     "text": [
      "Similar words to 'woman': [('sex', 0.6303134560585022), ('female', 0.5213927626609802), ('wife', 0.5095798373222351), ('girl', 0.46941661834716797), ('unmarried', 0.45637622475624084)]\n"
     ]
    }
   ],
   "source": [
    "# Find words similar to the word woman\n",
    "similar_words = model.wv.most_similar('woman', topn=5)\n",
    "print(f\"Similar words to 'woman': {similar_words}\")"
   ]
  },
  {
   "cell_type": "code",
   "execution_count": 11,
   "id": "6b8e7168-e45a-4e1a-9136-391acbc8fcc7",
   "metadata": {
    "tags": []
   },
   "outputs": [
    {
     "name": "stdout",
     "output_type": "stream",
     "text": [
      "Similar words to 'man': [('men', 0.6013084650039673), ('person', 0.5034669041633606), ('fool', 0.4483599066734314), ('policeman', 0.44412925839424133), ('neighbour', 0.43825453519821167)]\n"
     ]
    }
   ],
   "source": [
    "# Find words similar to the word man\n",
    "similar_words = model.wv.most_similar('man', topn=5)\n",
    "print(f\"Similar words to 'man': {similar_words}\")"
   ]
  },
  {
   "cell_type": "markdown",
   "id": "c4fc32a1-587b-4c43-bfb6-a6fc6a027b97",
   "metadata": {},
   "source": [
    "# Word2Vec for the year 1901-1950"
   ]
  },
  {
   "cell_type": "code",
   "execution_count": 12,
   "id": "292b5f0d-8551-46e7-9fea-a98ce2ec3ed3",
   "metadata": {
    "tags": []
   },
   "outputs": [
    {
     "name": "stdout",
     "output_type": "stream",
     "text": [
      "Processing file: /Users/shaistasyeda/Desktop/DataSet/tokenized_debates/1901_1950_tokenized.txt\n",
      "Processed 765422 sentences from /Users/shaistasyeda/Desktop/DataSet/tokenized_debates/1901_1950_tokenized.txt\n",
      "Word2Vec Model training completed\n",
      "Similar words to 'woman': [('unmarried', 0.5150774121284485), ('men', 0.4896622896194458), ('sex', 0.4873221218585968), ('wife', 0.48091354966163635), ('adult', 0.48029235005378723)]\n",
      "Similar words to 'man': [('men', 0.5892910361289978), ('husband', 0.48411449790000916), ('person', 0.43265873193740845), ('kicked', 0.4302557706832886), ('son', 0.4296678602695465)]\n"
     ]
    }
   ],
   "source": [
    "from gensim.models import Word2Vec\n",
    "import os\n",
    "\n",
    "#the path to the tokenized file \n",
    "file_path = '/Users/shaistasyeda/Desktop/DataSet/tokenized_debates/1901_1950_tokenized.txt'\n",
    "\n",
    "# Print statement for indicating the processing of the file\n",
    "print(f\"Processing file: {file_path}\")\n",
    "\n",
    "# Read the tokenized data from the file\n",
    "with open(file_path, 'r', encoding='utf-8') as file:\n",
    "    sentences = [line.split() for line in file]\n",
    "    print(f\"Processed {len(sentences)} sentences from {file_path}\")\n",
    "\n",
    "    \n",
    "# Train Word2Vec model\n",
    "model = Word2Vec(sentences, vector_size=300, window=15, min_count=5, workers=4)\n",
    "\n",
    "# Save the trained model\n",
    "model.save('word2vec_model_3.bin')\n",
    "\n",
    "print(\"Word2Vec Model training completed\")\n",
    "# Load the saved Word2Vec model\n",
    "model = model = Word2Vec.load('word2vec_model_3.bin')\n",
    "# Find words similar to the word woman\n",
    "similar_words = model.wv.most_similar('woman', topn=5)\n",
    "print(f\"Similar words to 'woman': {similar_words}\")\n",
    "# Find words similar to the word man\n",
    "similar_words = model.wv.most_similar('man', topn=5)\n",
    "print(f\"Similar words to 'man': {similar_words}\")\n"
   ]
  },
  {
   "cell_type": "markdown",
   "id": "7dbfaa6b-5a51-4ffb-906f-63a3abd9cc84",
   "metadata": {},
   "source": [
    "# Word2Vec for the year  1951-1970"
   ]
  },
  {
   "cell_type": "code",
   "execution_count": 14,
   "id": "2d01861a-a217-4b40-b279-8f9a98e0fefd",
   "metadata": {
    "tags": []
   },
   "outputs": [
    {
     "name": "stdout",
     "output_type": "stream",
     "text": [
      "Processing file: /Users/shaistasyeda/Desktop/DataSet/tokenized_debates/1951_1970_tokenized.txt\n",
      "Processed 813361 sentences from /Users/shaistasyeda/Desktop/DataSet/tokenized_debates/1951_1970_tokenized.txt\n",
      "Word2Vec Model training completed\n",
      "Similar words to 'woman': [('wife', 0.46793100237846375), ('men', 0.45501989126205444), ('sex', 0.4433596134185791), ('pregnant', 0.43973055481910706), ('girl', 0.4343293607234955)]\n",
      "Similar words to 'man': [('men', 0.618402361869812), ('lad', 0.5547232627868652), ('chap', 0.5354734063148499), ('someone', 0.5308980941772461), ('wife', 0.5179865956306458)]\n"
     ]
    }
   ],
   "source": [
    "from gensim.models import Word2Vec\n",
    "import os\n",
    "\n",
    "#the path to the tokenized file \n",
    "file_path = '/Users/shaistasyeda/Desktop/DataSet/tokenized_debates/1951_1970_tokenized.txt'\n",
    "\n",
    "# Print statement for indicating the processing of the file\n",
    "print(f\"Processing file: {file_path}\")\n",
    "\n",
    "# Read the tokenized data from the file\n",
    "with open(file_path, 'r', encoding='utf-8') as file:\n",
    "    sentences = [line.split() for line in file]\n",
    "    print(f\"Processed {len(sentences)} sentences from {file_path}\")\n",
    "\n",
    "    \n",
    "# Train Word2Vec model\n",
    "model = Word2Vec(sentences, vector_size=300, window=15, min_count=5, workers=4)\n",
    "\n",
    "# Save the trained model\n",
    "model.save('word2vec_model_4.bin')\n",
    "\n",
    "print(\"Word2Vec Model training completed\")\n",
    "# Load the saved Word2Vec model\n",
    "model = model = Word2Vec.load('word2vec_model_4.bin')\n",
    "# Find words similar to the word woman\n",
    "similar_words = model.wv.most_similar('woman', topn=5)\n",
    "print(f\"Similar words to 'woman': {similar_words}\")\n",
    "# Find words similar to the word man\n",
    "similar_words = model.wv.most_similar('man', topn=5)\n",
    "print(f\"Similar words to 'man': {similar_words}\")\n"
   ]
  },
  {
   "cell_type": "markdown",
   "id": "d49727c3-cd56-48ab-8555-6c6c76e96bc8",
   "metadata": {},
   "source": [
    "# Word2Vec for the year 1971-1990"
   ]
  },
  {
   "cell_type": "code",
   "execution_count": 13,
   "id": "25069508-b51c-469c-b591-70b04c6e5c9e",
   "metadata": {
    "tags": []
   },
   "outputs": [
    {
     "name": "stdout",
     "output_type": "stream",
     "text": [
      "Processing file: /Users/shaistasyeda/Desktop/DataSet/tokenized_debates/1971_1990_tokenized.txt\n",
      "Processed 1025994 sentences from /Users/shaistasyeda/Desktop/DataSet/tokenized_debates/1971_1990_tokenized.txt\n",
      "Word2Vec Model training completed\n",
      "Similar words to 'woman': [('men', 0.5664160847663879), ('mother', 0.5024280548095703), ('pregnant', 0.45058295130729675), ('inspectorinspectorsergeantconstabletotal', 0.445293128490448), ('marry', 0.44471269845962524)]\n",
      "Similar words to 'man': [('men', 0.609752357006073), ('someone', 0.5387611389160156), ('chap', 0.5370227098464966), ('wife', 0.5013186931610107), ('somebody', 0.4577217996120453)]\n"
     ]
    }
   ],
   "source": [
    "from gensim.models import Word2Vec\n",
    "import os\n",
    "\n",
    "#the path to the tokenized file \n",
    "file_path = '/Users/shaistasyeda/Desktop/DataSet/tokenized_debates/1971_1990_tokenized.txt'\n",
    "\n",
    "# Print statement for indicating the processing of the file\n",
    "print(f\"Processing file: {file_path}\")\n",
    "\n",
    "# Read the tokenized data from the file\n",
    "with open(file_path, 'r', encoding='utf-8') as file:\n",
    "    sentences = [line.split() for line in file]\n",
    "    print(f\"Processed {len(sentences)} sentences from {file_path}\")\n",
    "\n",
    "    \n",
    "# Train Word2Vec model\n",
    "model = Word2Vec(sentences, vector_size=300, window=15, min_count=5, workers=4)\n",
    "\n",
    "# Save the trained model\n",
    "model.save('word2vec_model_5.bin')\n",
    "\n",
    "print(\"Word2Vec Model training completed\")\n",
    "# Load the saved Word2Vec model\n",
    "model = model = Word2Vec.load('word2vec_model_5.bin')\n",
    "# Find words similar to the word woman\n",
    "similar_words = model.wv.most_similar('woman', topn=5)\n",
    "print(f\"Similar words to 'woman': {similar_words}\")\n",
    "# Find words similar to the word man\n",
    "similar_words = model.wv.most_similar('man', topn=5)\n",
    "print(f\"Similar words to 'man': {similar_words}\")"
   ]
  },
  {
   "cell_type": "markdown",
   "id": "716f611d-6283-4217-b80a-44133ce0aba5",
   "metadata": {},
   "source": [
    "# Word2Vec for the year 1991-2006"
   ]
  },
  {
   "cell_type": "code",
   "execution_count": 15,
   "id": "3b03ef1f-ddb3-4318-962e-148af5275a0c",
   "metadata": {
    "tags": []
   },
   "outputs": [
    {
     "name": "stdout",
     "output_type": "stream",
     "text": [
      "Processing file: /Users/shaistasyeda/Desktop/DataSet/tokenized_debates/1991_2006_tokenized.txt\n",
      "Processed 597305 sentences from /Users/shaistasyeda/Desktop/DataSet/tokenized_debates/1991_2006_tokenized.txt\n",
      "Word2Vec Model training completed\n",
      "Similar words to 'woman': [('men', 0.5860161781311035), ('bisexual', 0.5489916205406189), ('gay', 0.47022512555122375), ('childbirth', 0.4553225636482239), ('pregnant', 0.44972044229507446)]\n",
      "Similar words to 'man': [('men', 0.5769185423851013), ('daughter', 0.5054463744163513), ('someone', 0.49621790647506714), ('raped', 0.4794258177280426), ('son', 0.4751015603542328)]\n"
     ]
    }
   ],
   "source": [
    "from gensim.models import Word2Vec\n",
    "import os\n",
    "\n",
    "# The path to the tokenized file \n",
    "file_path = '/Users/shaistasyeda/Desktop/DataSet/tokenized_debates/1991_2006_tokenized.txt'\n",
    "\n",
    "# Print statement for indicating the processing of the file\n",
    "print(f\"Processing file: {file_path}\")\n",
    "\n",
    "# Read the tokenized data from the file\n",
    "with open(file_path, 'r', encoding='utf-8') as file:\n",
    "    sentences = [line.split() for line in file]\n",
    "    print(f\"Processed {len(sentences)} sentences from {file_path}\")\n",
    "\n",
    "    \n",
    "# Train Word2Vec model\n",
    "model = Word2Vec(sentences, vector_size=300, window=15, min_count=5, workers=4)\n",
    "\n",
    "# Save the trained model\n",
    "model.save('word2vec_model_6.bin')\n",
    "\n",
    "print(\"Word2Vec Model training completed\")\n",
    "# Load the saved Word2Vec model\n",
    "model = model = Word2Vec.load('word2vec_model_6.bin')\n",
    "# Find words similar to the word woman\n",
    "similar_words = model.wv.most_similar('woman', topn=5)\n",
    "print(f\"Similar words to 'woman': {similar_words}\")\n",
    "# Find words similar to the word man\n",
    "similar_words = model.wv.most_similar('man', topn=5)\n",
    "print(f\"Similar words to 'man': {similar_words}\")"
   ]
  },
  {
   "cell_type": "code",
   "execution_count": 22,
   "id": "fde2435b-5951-46bf-82dd-762722b55f3f",
   "metadata": {
    "tags": []
   },
   "outputs": [
    {
     "name": "stdout",
     "output_type": "stream",
     "text": [
      "Word analogy result: [('somebody', 0.3665020167827606)]\n"
     ]
    }
   ],
   "source": [
    "#word analogy\n",
    "analogy_result = model.wv.most_similar(positive=['someone', 'woman'], negative=['man'], topn=1)\n",
    "print(f\"Word analogy result: {analogy_result}\")"
   ]
  },
  {
   "cell_type": "code",
   "execution_count": 23,
   "id": "aee85904-8f6a-47bc-bea1-72d72615c136",
   "metadata": {
    "tags": []
   },
   "outputs": [
    {
     "name": "stdout",
     "output_type": "stream",
     "text": [
      "Word analogy result: [('daughter', 0.3618466258049011)]\n"
     ]
    }
   ],
   "source": [
    "#word analogy\n",
    "analogy_result = model.wv.most_similar(positive=['childbirth', 'man'], negative=['woman'], topn=1)\n",
    "print(f\"Word analogy result: {analogy_result}\")"
   ]
  },
  {
   "cell_type": "markdown",
   "id": "3d0ca9e9-df9b-4c7c-aa4c-9ad2024048b9",
   "metadata": {},
   "source": [
    "# Word Analogy differences between all the years"
   ]
  },
  {
   "cell_type": "code",
   "execution_count": 62,
   "id": "df84b8a1-c201-47d1-9dee-51c3259b5fe1",
   "metadata": {
    "tags": []
   },
   "outputs": [],
   "source": [
    "model_1850 = Word2Vec.load('word2vec_model_1.bin')\n",
    "model_1900 = Word2Vec.load('word2vec_model_2.bin')\n",
    "model_1950 = Word2Vec.load('word2vec_model_3.bin')\n",
    "model_1970 = Word2Vec.load('word2vec_model_4.bin')\n",
    "model_1990 = Word2Vec.load('word2vec_model_5.bin')\n",
    "model_2006 = Word2Vec.load('word2vec_model_6.bin')"
   ]
  },
  {
   "cell_type": "markdown",
   "id": "2dc6d17b-8905-4550-a326-786341fdf96d",
   "metadata": {},
   "source": [
    "# Association of woman to childbirth"
   ]
  },
  {
   "cell_type": "markdown",
   "id": "6d73eb5c-3b40-4aa7-a151-92c35b92c7cb",
   "metadata": {},
   "source": [
    "## For the year 1800-1850"
   ]
  },
  {
   "cell_type": "code",
   "execution_count": 41,
   "id": "ce57d2ab-d357-40fe-9bf5-5e887c12759e",
   "metadata": {
    "tags": []
   },
   "outputs": [
    {
     "name": "stdout",
     "output_type": "stream",
     "text": [
      "Word analogy result: [('men', 0.36237356066703796)]\n"
     ]
    }
   ],
   "source": [
    "analogy_result = model_1850.wv.most_similar(positive=['childbirth', 'man'], negative=['woman'], topn=1)\n",
    "print(f\"Word analogy result: {analogy_result}\")"
   ]
  },
  {
   "cell_type": "code",
   "execution_count": 42,
   "id": "5cf3405f-d732-462b-9fec-b4c3d06802fa",
   "metadata": {
    "tags": []
   },
   "outputs": [
    {
     "name": "stdout",
     "output_type": "stream",
     "text": [
      "Word analogy result: [('administrator', 0.29424118995666504)]\n"
     ]
    }
   ],
   "source": [
    "analogy_result = model_1900.wv.most_similar(positive=['childbirth', 'man'], negative=['woman'], topn=1)\n",
    "print(f\"Word analogy result: {analogy_result}\")"
   ]
  },
  {
   "cell_type": "code",
   "execution_count": 43,
   "id": "c9f64706-c103-414a-b154-2b9ad21d755b",
   "metadata": {
    "tags": []
   },
   "outputs": [
    {
     "name": "stdout",
     "output_type": "stream",
     "text": [
      "Word analogy result: [('illness', 0.38594549894332886)]\n"
     ]
    }
   ],
   "source": [
    "analogy_result = model_1950.wv.most_similar(positive=['childbirth', 'man'], negative=['woman'], topn=1)\n",
    "print(f\"Word analogy result: {analogy_result}\")"
   ]
  },
  {
   "cell_type": "code",
   "execution_count": 44,
   "id": "cc7007b9-e2f4-4e5c-acba-7b3cd42a02c8",
   "metadata": {
    "tags": []
   },
   "outputs": [
    {
     "name": "stdout",
     "output_type": "stream",
     "text": [
      "Word analogy result: [('someone', 0.3920690715312958)]\n"
     ]
    }
   ],
   "source": [
    "analogy_result = model_1970.wv.most_similar(positive=['childbirth', 'man'], negative=['woman'], topn=1)\n",
    "print(f\"Word analogy result: {analogy_result}\")"
   ]
  },
  {
   "cell_type": "code",
   "execution_count": 45,
   "id": "effb7521-434e-44f5-851a-1b37b9ba37dd",
   "metadata": {
    "tags": []
   },
   "outputs": [
    {
     "name": "stdout",
     "output_type": "stream",
     "text": [
      "Word analogy result: [('unpublishable', 0.3387390971183777)]\n"
     ]
    }
   ],
   "source": [
    "analogy_result = model_1990.wv.most_similar(positive=['childbirth', 'man'], negative=['woman'], topn=1)\n",
    "print(f\"Word analogy result: {analogy_result}\")"
   ]
  },
  {
   "cell_type": "code",
   "execution_count": 46,
   "id": "fc8a0cec-272d-4039-9009-c9f82243e3b4",
   "metadata": {
    "tags": []
   },
   "outputs": [
    {
     "name": "stdout",
     "output_type": "stream",
     "text": [
      "Word analogy result: [('daughter', 0.3618466258049011)]\n"
     ]
    }
   ],
   "source": [
    "analogy_result = model_2006.wv.most_similar(positive=['childbirth', 'man'], negative=['woman'], topn=1)\n",
    "print(f\"Word analogy result: {analogy_result}\")"
   ]
  },
  {
   "cell_type": "code",
   "execution_count": 55,
   "id": "20e5a086-ce46-4647-9501-d0218d932621",
   "metadata": {
    "tags": []
   },
   "outputs": [
    {
     "name": "stdout",
     "output_type": "stream",
     "text": [
      "Word analogy result: [('reformer', 0.35064569115638733)]\n"
     ]
    }
   ],
   "source": [
    "analogy_result = model_1850.wv.most_similar(positive=['suffrage', 'man'], negative=['woman'], topn=1)\n",
    "print(f\"Word analogy result: {analogy_result}\")"
   ]
  },
  {
   "cell_type": "code",
   "execution_count": 56,
   "id": "f75fdf23-56f5-454d-abbe-985c6e1b490e",
   "metadata": {
    "tags": []
   },
   "outputs": [
    {
     "name": "stdout",
     "output_type": "stream",
     "text": [
      "Word analogy result: [('franchise', 0.35935381054878235)]\n"
     ]
    }
   ],
   "source": [
    "analogy_result = model_1900.wv.most_similar(positive=['suffrage', 'man'], negative=['woman'], topn=1)\n",
    "print(f\"Word analogy result: {analogy_result}\")"
   ]
  },
  {
   "cell_type": "code",
   "execution_count": 57,
   "id": "03bf5066-39fa-46b9-bdba-fb605506781a",
   "metadata": {
    "tags": []
   },
   "outputs": [
    {
     "name": "stdout",
     "output_type": "stream",
     "text": [
      "Word analogy result: [('mcnaghten', 0.3100873529911041)]\n"
     ]
    }
   ],
   "source": [
    "analogy_result = model_1950.wv.most_similar(positive=['suffrage', 'man'], negative=['woman'], topn=1)\n",
    "print(f\"Word analogy result: {analogy_result}\")"
   ]
  },
  {
   "cell_type": "code",
   "execution_count": 58,
   "id": "ca2ede6c-dc07-43b3-899e-8880e3586003",
   "metadata": {
    "tags": []
   },
   "outputs": [
    {
     "name": "stdout",
     "output_type": "stream",
     "text": [
      "Word analogy result: [('even', 0.32846373319625854)]\n"
     ]
    }
   ],
   "source": [
    "analogy_result = model_1970.wv.most_similar(positive=['suffrage', 'man'], negative=['woman'], topn=1)\n",
    "print(f\"Word analogy result: {analogy_result}\")"
   ]
  },
  {
   "cell_type": "code",
   "execution_count": 59,
   "id": "42eda517-cbf4-4106-bba6-624ae1ddc858",
   "metadata": {
    "tags": []
   },
   "outputs": [
    {
     "name": "stdout",
     "output_type": "stream",
     "text": [
      "Word analogy result: [('dictatorship', 0.3907819390296936)]\n"
     ]
    }
   ],
   "source": [
    "analogy_result = model_1990.wv.most_similar(positive=['suffrage', 'man'], negative=['woman'], topn=1)\n",
    "print(f\"Word analogy result: {analogy_result}\")"
   ]
  },
  {
   "cell_type": "code",
   "execution_count": 60,
   "id": "a1e68633-acd9-4195-85ed-9c9f2c3a4c4f",
   "metadata": {
    "tags": []
   },
   "outputs": [
    {
     "name": "stdout",
     "output_type": "stream",
     "text": [
      "Word analogy result: [('peterloo', 0.41413602232933044)]\n"
     ]
    }
   ],
   "source": [
    "analogy_result = model_2006.wv.most_similar(positive=['suffrage', 'man'], negative=['woman'], topn=1)\n",
    "print(f\"Word analogy result: {analogy_result}\")"
   ]
  },
  {
   "cell_type": "code",
   "execution_count": 83,
   "id": "3aa5a854-96ec-4ee6-83f2-5e28b6b20a46",
   "metadata": {
    "tags": []
   },
   "outputs": [
    {
     "name": "stdout",
     "output_type": "stream",
     "text": [
      "Word analogy result: [('female', 0.4533041715621948)]\n"
     ]
    }
   ],
   "source": [
    "#word analogy\n",
    "analogy_result = model_1850.wv.most_similar(positive=['men', 'woman'], negative=['man'], topn=1)\n",
    "print(f\"Word analogy result: {analogy_result}\")"
   ]
  },
  {
   "cell_type": "code",
   "execution_count": 84,
   "id": "a4fe7945-7983-4102-948e-7bf5ae7960d7",
   "metadata": {
    "tags": []
   },
   "outputs": [
    {
     "name": "stdout",
     "output_type": "stream",
     "text": [
      "Word analogy result: [('female', 0.4420682489871979)]\n"
     ]
    }
   ],
   "source": [
    "#word analogy\n",
    "analogy_result = model_1900.wv.most_similar(positive=['men', 'woman'], negative=['man'], topn=1)\n",
    "print(f\"Word analogy result: {analogy_result}\")"
   ]
  },
  {
   "cell_type": "code",
   "execution_count": 85,
   "id": "c0757a7a-9dbf-4da0-8dca-42b7c7db6142",
   "metadata": {
    "tags": []
   },
   "outputs": [
    {
     "name": "stdout",
     "output_type": "stream",
     "text": [
      "Word analogy result: [('recruited', 0.4198893904685974)]\n"
     ]
    }
   ],
   "source": [
    "#word analogy\n",
    "analogy_result = model_1950.wv.most_similar(positive=['men', 'woman'], negative=['man'], topn=1)\n",
    "print(f\"Word analogy result: {analogy_result}\")"
   ]
  },
  {
   "cell_type": "code",
   "execution_count": 86,
   "id": "d203a55d-b9ef-4274-979d-02d6048a4dcd",
   "metadata": {
    "tags": []
   },
   "outputs": [
    {
     "name": "stdout",
     "output_type": "stream",
     "text": [
      "Word analogy result: [('recruited', 0.4622421860694885)]\n"
     ]
    }
   ],
   "source": [
    "#word analogy\n",
    "analogy_result = model_1970.wv.most_similar(positive=['men', 'woman'], negative=['man'], topn=1)\n",
    "print(f\"Word analogy result: {analogy_result}\")"
   ]
  },
  {
   "cell_type": "code",
   "execution_count": 87,
   "id": "dcf9a1c9-4c48-44a6-a7d8-4e87f3dba8ab",
   "metadata": {
    "tags": []
   },
   "outputs": [
    {
     "name": "stdout",
     "output_type": "stream",
     "text": [
      "Word analogy result: [('inspectorinspectorsergeantconstabletotal', 0.449300616979599)]\n"
     ]
    }
   ],
   "source": [
    "#word analogy\n",
    "analogy_result = model_1990.wv.most_similar(positive=['men', 'woman'], negative=['man'], topn=1)\n",
    "print(f\"Word analogy result: {analogy_result}\")"
   ]
  },
  {
   "cell_type": "code",
   "execution_count": 88,
   "id": "af6bfd45-3702-4c58-9477-691c81ff06be",
   "metadata": {
    "tags": []
   },
   "outputs": [
    {
     "name": "stdout",
     "output_type": "stream",
     "text": [
      "Word analogy result: [('bisexual', 0.4602353870868683)]\n"
     ]
    }
   ],
   "source": [
    "#word analogy\n",
    "analogy_result = model_2006.wv.most_similar(positive=['men', 'woman'], negative=['man'], topn=1)\n",
    "print(f\"Word analogy result: {analogy_result}\")"
   ]
  },
  {
   "cell_type": "code",
   "execution_count": 92,
   "id": "8ce99bf9-7af2-4d0b-ab6a-d2d87b65649e",
   "metadata": {
    "tags": []
   },
   "outputs": [
    {
     "name": "stdout",
     "output_type": "stream",
     "text": [
      "Word analogy result for the year 1800-1850: [('statesman', 0.35491928458213806)]\n",
      "Word analogy result for the year 1851-1900: [('comrade', 0.38791826367378235)]\n",
      "Word analogy result for the year 1901-1950: [('lad', 0.49189355969429016)]\n",
      "Word analogy result for the year 1951-1970: [('lad', 0.46681398153305054)]\n",
      "Word analogy result for the year 1971-1990: [('soldier', 0.5077458620071411)]\n",
      "Word analogy result for the year 1991-2006: [('someone', 0.41598090529441833)]\n"
     ]
    }
   ],
   "source": [
    "#word analogy\n",
    "analogy_result_1850 = model_1850.wv.most_similar(positive=['men', 'man'], negative=['woman'], topn=1)\n",
    "print(f\"Word analogy result for the year 1800-1850: {analogy_result_1850}\")\n",
    "#word analogy\n",
    "analogy_result_1900 = model_1900.wv.most_similar(positive=['men', 'man'], negative=['woman'], topn=1)\n",
    "print(f\"Word analogy result for the year 1851-1900: {analogy_result_1900}\")\n",
    "#word analogy\n",
    "analogy_result_1950 = model_1950.wv.most_similar(positive=['men', 'man'], negative=['woman'], topn=1)\n",
    "print(f\"Word analogy result for the year 1901-1950: {analogy_result_1950}\")\n",
    "#word analogy\n",
    "analogy_result_1970 = model_1970.wv.most_similar(positive=['men', 'man'], negative=['woman'], topn=1)\n",
    "print(f\"Word analogy result for the year 1951-1970: {analogy_result_1970}\")\n",
    "#word analogy\n",
    "analogy_result_1990 = model_1990.wv.most_similar(positive=['men', 'man'], negative=['woman'], topn=1)\n",
    "print(f\"Word analogy result for the year 1971-1990: {analogy_result_1990}\")\n",
    "#word analogy\n",
    "analogy_result_2006 = model_2006.wv.most_similar(positive=['men', 'man'], negative=['woman'], topn=1)\n",
    "print(f\"Word analogy result for the year 1991-2006: {analogy_result_2006}\")"
   ]
  },
  {
   "cell_type": "code",
   "execution_count": 93,
   "id": "972bac48-2195-47ec-8ee1-92b4c0a1f664",
   "metadata": {
    "tags": []
   },
   "outputs": [
    {
     "name": "stdout",
     "output_type": "stream",
     "text": [
      "Word analogy result for the year 1800-1850: [('men', 0.3966078460216522)]\n",
      "Word analogy result for the year 1851-1900: [('intellect', 0.40558910369873047)]\n",
      "Word analogy result for the year 1901-1950: [('person', 0.35921648144721985)]\n",
      "Word analogy result for the year 1951-1970: [('someone', 0.4721141457557678)]\n",
      "Word analogy result for the year 1971-1990: [('someone', 0.37518638372421265)]\n",
      "Word analogy result for the year 1991-2006: [('someone', 0.3883684575557709)]\n"
     ]
    }
   ],
   "source": [
    "#word analogy\n",
    "analogy_result_1850 = model_1850.wv.most_similar(positive=['sex', 'man'], negative=['woman'], topn=1)\n",
    "print(f\"Word analogy result for the year 1800-1850: {analogy_result_1850}\")\n",
    "#word analogy\n",
    "analogy_result_1900 = model_1900.wv.most_similar(positive=['sex', 'man'], negative=['woman'], topn=1)\n",
    "print(f\"Word analogy result for the year 1851-1900: {analogy_result_1900}\")\n",
    "#word analogy\n",
    "analogy_result_1950 = model_1950.wv.most_similar(positive=['sex', 'man'], negative=['woman'], topn=1)\n",
    "print(f\"Word analogy result for the year 1901-1950: {analogy_result_1950}\")\n",
    "#word analogy\n",
    "analogy_result_1970 = model_1970.wv.most_similar(positive=['sex', 'man'], negative=['woman'], topn=1)\n",
    "print(f\"Word analogy result for the year 1951-1970: {analogy_result_1970}\")\n",
    "#word analogy\n",
    "analogy_result_1990 = model_1990.wv.most_similar(positive=['sex', 'man'], negative=['woman'], topn=1)\n",
    "print(f\"Word analogy result for the year 1971-1990: {analogy_result_1990}\")\n",
    "#word analogy\n",
    "analogy_result_2006 = model_2006.wv.most_similar(positive=['sex', 'man'], negative=['woman'], topn=1)\n",
    "print(f\"Word analogy result for the year 1991-2006: {analogy_result_2006}\")"
   ]
  },
  {
   "cell_type": "code",
   "execution_count": 94,
   "id": "8134c6a1-78c8-44db-8f3c-4037525d062f",
   "metadata": {
    "tags": []
   },
   "outputs": [
    {
     "name": "stdout",
     "output_type": "stream",
     "text": [
      "Word analogy result for the year 1800-1850: [('men', 0.34754329919815063)]\n",
      "Word analogy result for the year 1851-1900: [('men', 0.4129961431026459)]\n",
      "Word analogy result for the year 1901-1950: [('person', 0.393573522567749)]\n",
      "Word analogy result for the year 1951-1970: [('someone', 0.41688984632492065)]\n",
      "Word analogy result for the year 1971-1990: [('workingmarried', 0.43949946761131287)]\n",
      "Word analogy result for the year 1991-2006: [('male', 0.4257601201534271)]\n"
     ]
    }
   ],
   "source": [
    "#word analogy\n",
    "analogy_result_1850 = model_1850.wv.most_similar(positive=['female', 'man'], negative=['woman'], topn=1)\n",
    "print(f\"Word analogy result for the year 1800-1850: {analogy_result_1850}\")\n",
    "#word analogy\n",
    "analogy_result_1900 = model_1900.wv.most_similar(positive=['female', 'man'], negative=['woman'], topn=1)\n",
    "print(f\"Word analogy result for the year 1851-1900: {analogy_result_1900}\")\n",
    "#word analogy\n",
    "analogy_result_1950 = model_1950.wv.most_similar(positive=['female', 'man'], negative=['woman'], topn=1)\n",
    "print(f\"Word analogy result for the year 1901-1950: {analogy_result_1950}\")\n",
    "#word analogy\n",
    "analogy_result_1970 = model_1970.wv.most_similar(positive=['female', 'man'], negative=['woman'], topn=1)\n",
    "print(f\"Word analogy result for the year 1951-1970: {analogy_result_1970}\")\n",
    "#word analogy\n",
    "analogy_result_1990 = model_1990.wv.most_similar(positive=['female', 'man'], negative=['woman'], topn=1)\n",
    "print(f\"Word analogy result for the year 1971-1990: {analogy_result_1990}\")\n",
    "#word analogy\n",
    "analogy_result_2006 = model_2006.wv.most_similar(positive=['female', 'man'], negative=['woman'], topn=1)\n",
    "print(f\"Word analogy result for the year 1991-2006: {analogy_result_2006}\")"
   ]
  },
  {
   "cell_type": "code",
   "execution_count": 95,
   "id": "a4983857-2f0a-438b-804a-1646134cd3f9",
   "metadata": {
    "tags": []
   },
   "outputs": [
    {
     "name": "stdout",
     "output_type": "stream",
     "text": [
      "Word analogy result for the year 1800-1850: [('upright', 0.34561818838119507)]\n",
      "Word analogy result for the year 1851-1900: [('husband', 0.4486161172389984)]\n",
      "Word analogy result for the year 1901-1950: [('husband', 0.4925774335861206)]\n",
      "Word analogy result for the year 1951-1970: [('husband', 0.5561220049858093)]\n",
      "Word analogy result for the year 1971-1990: [('father', 0.4927841126918793)]\n",
      "Word analogy result for the year 1991-2006: [('husband', 0.5647310018539429)]\n"
     ]
    }
   ],
   "source": [
    "#word analogy\n",
    "analogy_result_1850 = model_1850.wv.most_similar(positive=['wife', 'man'], negative=['woman'], topn=1)\n",
    "print(f\"Word analogy result for the year 1800-1850: {analogy_result_1850}\")\n",
    "#word analogy\n",
    "analogy_result_1900 = model_1900.wv.most_similar(positive=['wife', 'man'], negative=['woman'], topn=1)\n",
    "print(f\"Word analogy result for the year 1851-1900: {analogy_result_1900}\")\n",
    "#word analogy\n",
    "analogy_result_1950 = model_1950.wv.most_similar(positive=['wife', 'man'], negative=['woman'], topn=1)\n",
    "print(f\"Word analogy result for the year 1901-1950: {analogy_result_1950}\")\n",
    "#word analogy\n",
    "analogy_result_1970 = model_1970.wv.most_similar(positive=['wife', 'man'], negative=['woman'], topn=1)\n",
    "print(f\"Word analogy result for the year 1951-1970: {analogy_result_1970}\")\n",
    "#word analogy\n",
    "analogy_result_1990 = model_1990.wv.most_similar(positive=['wife', 'man'], negative=['woman'], topn=1)\n",
    "print(f\"Word analogy result for the year 1971-1990: {analogy_result_1990}\")\n",
    "#word analogy\n",
    "analogy_result_2006 = model_2006.wv.most_similar(positive=['wife', 'man'], negative=['woman'], topn=1)\n",
    "print(f\"Word analogy result for the year 1991-2006: {analogy_result_2006}\")"
   ]
  },
  {
   "cell_type": "code",
   "execution_count": 97,
   "id": "432fad57-10cb-4db9-899f-66ed381dab7c",
   "metadata": {
    "tags": []
   },
   "outputs": [
    {
     "name": "stdout",
     "output_type": "stream",
     "text": [
      "Word analogy result for the year 1800-1850: [('men', 0.3185313045978546)]\n",
      "Word analogy result for the year 1851-1900: [('shilling', 0.32045993208885193)]\n",
      "Word analogy result for the year 1901-1950: [('impunity', 0.316707968711853)]\n",
      "Word analogy result for the year 1951-1970: [('someone', 0.3898908197879791)]\n"
     ]
    },
    {
     "ename": "KeyError",
     "evalue": "\"Key 'seducer' not present in vocabulary\"",
     "output_type": "error",
     "traceback": [
      "\u001b[0;31m---------------------------------------------------------------------------\u001b[0m",
      "\u001b[0;31mKeyError\u001b[0m                                  Traceback (most recent call last)",
      "Cell \u001b[0;32mIn[97], line 14\u001b[0m\n\u001b[1;32m     12\u001b[0m \u001b[38;5;28mprint\u001b[39m(\u001b[38;5;124mf\u001b[39m\u001b[38;5;124m\"\u001b[39m\u001b[38;5;124mWord analogy result for the year 1951-1970: \u001b[39m\u001b[38;5;132;01m{\u001b[39;00manalogy_result_1970\u001b[38;5;132;01m}\u001b[39;00m\u001b[38;5;124m\"\u001b[39m)\n\u001b[1;32m     13\u001b[0m \u001b[38;5;66;03m#word analogy\u001b[39;00m\n\u001b[0;32m---> 14\u001b[0m analogy_result_2006 \u001b[38;5;241m=\u001b[39m model_2006\u001b[38;5;241m.\u001b[39mwv\u001b[38;5;241m.\u001b[39mmost_similar(positive\u001b[38;5;241m=\u001b[39m[\u001b[38;5;124m'\u001b[39m\u001b[38;5;124mseducer\u001b[39m\u001b[38;5;124m'\u001b[39m, \u001b[38;5;124m'\u001b[39m\u001b[38;5;124mman\u001b[39m\u001b[38;5;124m'\u001b[39m], negative\u001b[38;5;241m=\u001b[39m[\u001b[38;5;124m'\u001b[39m\u001b[38;5;124mwoman\u001b[39m\u001b[38;5;124m'\u001b[39m], topn\u001b[38;5;241m=\u001b[39m\u001b[38;5;241m1\u001b[39m)\n\u001b[1;32m     15\u001b[0m \u001b[38;5;28mprint\u001b[39m(\u001b[38;5;124mf\u001b[39m\u001b[38;5;124m\"\u001b[39m\u001b[38;5;124mWord analogy result for the year 1991-2006: \u001b[39m\u001b[38;5;132;01m{\u001b[39;00manalogy_result_2006\u001b[38;5;132;01m}\u001b[39;00m\u001b[38;5;124m\"\u001b[39m)\n\u001b[1;32m     16\u001b[0m \u001b[38;5;66;03m#word analogy\u001b[39;00m\n",
      "File \u001b[0;32m~/anaconda3/lib/python3.11/site-packages/gensim/models/keyedvectors.py:841\u001b[0m, in \u001b[0;36mKeyedVectors.most_similar\u001b[0;34m(self, positive, negative, topn, clip_start, clip_end, restrict_vocab, indexer)\u001b[0m\n\u001b[1;32m    838\u001b[0m         weight[idx] \u001b[38;5;241m=\u001b[39m item[\u001b[38;5;241m1\u001b[39m]\n\u001b[1;32m    840\u001b[0m \u001b[38;5;66;03m# compute the weighted average of all keys\u001b[39;00m\n\u001b[0;32m--> 841\u001b[0m mean \u001b[38;5;241m=\u001b[39m \u001b[38;5;28mself\u001b[39m\u001b[38;5;241m.\u001b[39mget_mean_vector(keys, weight, pre_normalize\u001b[38;5;241m=\u001b[39m\u001b[38;5;28;01mTrue\u001b[39;00m, post_normalize\u001b[38;5;241m=\u001b[39m\u001b[38;5;28;01mTrue\u001b[39;00m, ignore_missing\u001b[38;5;241m=\u001b[39m\u001b[38;5;28;01mFalse\u001b[39;00m)\n\u001b[1;32m    842\u001b[0m all_keys \u001b[38;5;241m=\u001b[39m [\n\u001b[1;32m    843\u001b[0m     \u001b[38;5;28mself\u001b[39m\u001b[38;5;241m.\u001b[39mget_index(key) \u001b[38;5;28;01mfor\u001b[39;00m key \u001b[38;5;129;01min\u001b[39;00m keys \u001b[38;5;28;01mif\u001b[39;00m \u001b[38;5;28misinstance\u001b[39m(key, _KEY_TYPES) \u001b[38;5;129;01mand\u001b[39;00m \u001b[38;5;28mself\u001b[39m\u001b[38;5;241m.\u001b[39mhas_index_for(key)\n\u001b[1;32m    844\u001b[0m ]\n\u001b[1;32m    846\u001b[0m \u001b[38;5;28;01mif\u001b[39;00m indexer \u001b[38;5;129;01mis\u001b[39;00m \u001b[38;5;129;01mnot\u001b[39;00m \u001b[38;5;28;01mNone\u001b[39;00m \u001b[38;5;129;01mand\u001b[39;00m \u001b[38;5;28misinstance\u001b[39m(topn, \u001b[38;5;28mint\u001b[39m):\n",
      "File \u001b[0;32m~/anaconda3/lib/python3.11/site-packages/gensim/models/keyedvectors.py:518\u001b[0m, in \u001b[0;36mKeyedVectors.get_mean_vector\u001b[0;34m(self, keys, weights, pre_normalize, post_normalize, ignore_missing)\u001b[0m\n\u001b[1;32m    516\u001b[0m         total_weight \u001b[38;5;241m+\u001b[39m\u001b[38;5;241m=\u001b[39m \u001b[38;5;28mabs\u001b[39m(weights[idx])\n\u001b[1;32m    517\u001b[0m     \u001b[38;5;28;01melif\u001b[39;00m \u001b[38;5;129;01mnot\u001b[39;00m ignore_missing:\n\u001b[0;32m--> 518\u001b[0m         \u001b[38;5;28;01mraise\u001b[39;00m \u001b[38;5;167;01mKeyError\u001b[39;00m(\u001b[38;5;124mf\u001b[39m\u001b[38;5;124m\"\u001b[39m\u001b[38;5;124mKey \u001b[39m\u001b[38;5;124m'\u001b[39m\u001b[38;5;132;01m{\u001b[39;00mkey\u001b[38;5;132;01m}\u001b[39;00m\u001b[38;5;124m'\u001b[39m\u001b[38;5;124m not present in vocabulary\u001b[39m\u001b[38;5;124m\"\u001b[39m)\n\u001b[1;32m    520\u001b[0m \u001b[38;5;28;01mif\u001b[39;00m total_weight \u001b[38;5;241m>\u001b[39m \u001b[38;5;241m0\u001b[39m:\n\u001b[1;32m    521\u001b[0m     mean \u001b[38;5;241m=\u001b[39m mean \u001b[38;5;241m/\u001b[39m total_weight\n",
      "\u001b[0;31mKeyError\u001b[0m: \"Key 'seducer' not present in vocabulary\""
     ]
    }
   ],
   "source": [
    "#word analogy\n",
    "analogy_result_1850 = model_1850.wv.most_similar(positive=['seducer', 'man'], negative=['woman'], topn=1)\n",
    "print(f\"Word analogy result for the year 1800-1850: {analogy_result_1850}\")\n",
    "#word analogy\n",
    "analogy_result_1900 = model_1900.wv.most_similar(positive=['seducer', 'man'], negative=['woman'], topn=1)\n",
    "print(f\"Word analogy result for the year 1851-1900: {analogy_result_1900}\")\n",
    "#word analogy\n",
    "analogy_result_1950 = model_1950.wv.most_similar(positive=['seducer', 'man'], negative=['woman'], topn=1)\n",
    "print(f\"Word analogy result for the year 1901-1950: {analogy_result_1950}\")\n",
    "#word analogy\n",
    "analogy_result_1970 = model_1970.wv.most_similar(positive=['seducer', 'man'], negative=['woman'], topn=1)\n",
    "print(f\"Word analogy result for the year 1951-1970: {analogy_result_1970}\")\n",
    "#word analogy\n",
    "analogy_result_2006 = model_2006.wv.most_similar(positive=['seducer', 'man'], negative=['woman'], topn=1)\n",
    "print(f\"Word analogy result for the year 1991-2006: {analogy_result_2006}\")"
   ]
  },
  {
   "cell_type": "code",
   "execution_count": 98,
   "id": "c20b9b06-0a61-4803-95d7-0f05c54d0071",
   "metadata": {
    "tags": []
   },
   "outputs": [
    {
     "ename": "KeyError",
     "evalue": "\"Key 'seducer' not present in vocabulary\"",
     "output_type": "error",
     "traceback": [
      "\u001b[0;31m---------------------------------------------------------------------------\u001b[0m",
      "\u001b[0;31mKeyError\u001b[0m                                  Traceback (most recent call last)",
      "Cell \u001b[0;32mIn[98], line 2\u001b[0m\n\u001b[1;32m      1\u001b[0m \u001b[38;5;66;03m#word analogy\u001b[39;00m\n\u001b[0;32m----> 2\u001b[0m analogy_result_1990 \u001b[38;5;241m=\u001b[39m model_1990\u001b[38;5;241m.\u001b[39mwv\u001b[38;5;241m.\u001b[39mmost_similar(positive\u001b[38;5;241m=\u001b[39m[\u001b[38;5;124m'\u001b[39m\u001b[38;5;124mseducer\u001b[39m\u001b[38;5;124m'\u001b[39m, \u001b[38;5;124m'\u001b[39m\u001b[38;5;124mman\u001b[39m\u001b[38;5;124m'\u001b[39m], negative\u001b[38;5;241m=\u001b[39m[\u001b[38;5;124m'\u001b[39m\u001b[38;5;124mwoman\u001b[39m\u001b[38;5;124m'\u001b[39m], topn\u001b[38;5;241m=\u001b[39m\u001b[38;5;241m1\u001b[39m)\n\u001b[1;32m      3\u001b[0m \u001b[38;5;28mprint\u001b[39m(\u001b[38;5;124mf\u001b[39m\u001b[38;5;124m\"\u001b[39m\u001b[38;5;124mWord analogy result for the year 1971-1990: \u001b[39m\u001b[38;5;132;01m{\u001b[39;00manalogy_result_1990\u001b[38;5;132;01m}\u001b[39;00m\u001b[38;5;124m\"\u001b[39m)\n",
      "File \u001b[0;32m~/anaconda3/lib/python3.11/site-packages/gensim/models/keyedvectors.py:841\u001b[0m, in \u001b[0;36mKeyedVectors.most_similar\u001b[0;34m(self, positive, negative, topn, clip_start, clip_end, restrict_vocab, indexer)\u001b[0m\n\u001b[1;32m    838\u001b[0m         weight[idx] \u001b[38;5;241m=\u001b[39m item[\u001b[38;5;241m1\u001b[39m]\n\u001b[1;32m    840\u001b[0m \u001b[38;5;66;03m# compute the weighted average of all keys\u001b[39;00m\n\u001b[0;32m--> 841\u001b[0m mean \u001b[38;5;241m=\u001b[39m \u001b[38;5;28mself\u001b[39m\u001b[38;5;241m.\u001b[39mget_mean_vector(keys, weight, pre_normalize\u001b[38;5;241m=\u001b[39m\u001b[38;5;28;01mTrue\u001b[39;00m, post_normalize\u001b[38;5;241m=\u001b[39m\u001b[38;5;28;01mTrue\u001b[39;00m, ignore_missing\u001b[38;5;241m=\u001b[39m\u001b[38;5;28;01mFalse\u001b[39;00m)\n\u001b[1;32m    842\u001b[0m all_keys \u001b[38;5;241m=\u001b[39m [\n\u001b[1;32m    843\u001b[0m     \u001b[38;5;28mself\u001b[39m\u001b[38;5;241m.\u001b[39mget_index(key) \u001b[38;5;28;01mfor\u001b[39;00m key \u001b[38;5;129;01min\u001b[39;00m keys \u001b[38;5;28;01mif\u001b[39;00m \u001b[38;5;28misinstance\u001b[39m(key, _KEY_TYPES) \u001b[38;5;129;01mand\u001b[39;00m \u001b[38;5;28mself\u001b[39m\u001b[38;5;241m.\u001b[39mhas_index_for(key)\n\u001b[1;32m    844\u001b[0m ]\n\u001b[1;32m    846\u001b[0m \u001b[38;5;28;01mif\u001b[39;00m indexer \u001b[38;5;129;01mis\u001b[39;00m \u001b[38;5;129;01mnot\u001b[39;00m \u001b[38;5;28;01mNone\u001b[39;00m \u001b[38;5;129;01mand\u001b[39;00m \u001b[38;5;28misinstance\u001b[39m(topn, \u001b[38;5;28mint\u001b[39m):\n",
      "File \u001b[0;32m~/anaconda3/lib/python3.11/site-packages/gensim/models/keyedvectors.py:518\u001b[0m, in \u001b[0;36mKeyedVectors.get_mean_vector\u001b[0;34m(self, keys, weights, pre_normalize, post_normalize, ignore_missing)\u001b[0m\n\u001b[1;32m    516\u001b[0m         total_weight \u001b[38;5;241m+\u001b[39m\u001b[38;5;241m=\u001b[39m \u001b[38;5;28mabs\u001b[39m(weights[idx])\n\u001b[1;32m    517\u001b[0m     \u001b[38;5;28;01melif\u001b[39;00m \u001b[38;5;129;01mnot\u001b[39;00m ignore_missing:\n\u001b[0;32m--> 518\u001b[0m         \u001b[38;5;28;01mraise\u001b[39;00m \u001b[38;5;167;01mKeyError\u001b[39;00m(\u001b[38;5;124mf\u001b[39m\u001b[38;5;124m\"\u001b[39m\u001b[38;5;124mKey \u001b[39m\u001b[38;5;124m'\u001b[39m\u001b[38;5;132;01m{\u001b[39;00mkey\u001b[38;5;132;01m}\u001b[39;00m\u001b[38;5;124m'\u001b[39m\u001b[38;5;124m not present in vocabulary\u001b[39m\u001b[38;5;124m\"\u001b[39m)\n\u001b[1;32m    520\u001b[0m \u001b[38;5;28;01mif\u001b[39;00m total_weight \u001b[38;5;241m>\u001b[39m \u001b[38;5;241m0\u001b[39m:\n\u001b[1;32m    521\u001b[0m     mean \u001b[38;5;241m=\u001b[39m mean \u001b[38;5;241m/\u001b[39m total_weight\n",
      "\u001b[0;31mKeyError\u001b[0m: \"Key 'seducer' not present in vocabulary\""
     ]
    }
   ],
   "source": [
    "#word analogy\n",
    "analogy_result_1990 = model_1990.wv.most_similar(positive=['seducer', 'man'], negative=['woman'], topn=1)\n",
    "print(f\"Word analogy result for the year 1971-1990: {analogy_result_1990}\")"
   ]
  },
  {
   "cell_type": "code",
   "execution_count": 99,
   "id": "a6b5e69d-7926-4526-b40e-d48fa77d646c",
   "metadata": {
    "tags": []
   },
   "outputs": [
    {
     "name": "stdout",
     "output_type": "stream",
     "text": [
      "Word analogy result for the year 1800-1850: [('men', 0.40793514251708984)]\n",
      "Word analogy result for the year 1851-1900: [('boy', 0.5028549432754517)]\n",
      "Word analogy result for the year 1901-1950: [('boy', 0.5737881064414978)]\n",
      "Word analogy result for the year 1951-1970: [('boy', 0.5466696619987488)]\n",
      "Word analogy result for the year 1971-1990: [('boy', 0.5339813828468323)]\n",
      "Word analogy result for the year 1991-2006: [('boy', 0.5456141233444214)]\n"
     ]
    }
   ],
   "source": [
    "#word analogy\n",
    "analogy_result_1850 = model_1850.wv.most_similar(positive=['girl', 'man'], negative=['woman'], topn=1)\n",
    "print(f\"Word analogy result for the year 1800-1850: {analogy_result_1850}\")\n",
    "#word analogy\n",
    "analogy_result_1900 = model_1900.wv.most_similar(positive=['girl', 'man'], negative=['woman'], topn=1)\n",
    "print(f\"Word analogy result for the year 1851-1900: {analogy_result_1900}\")\n",
    "#word analogy\n",
    "analogy_result_1950 = model_1950.wv.most_similar(positive=['girl', 'man'], negative=['woman'], topn=1)\n",
    "print(f\"Word analogy result for the year 1901-1950: {analogy_result_1950}\")\n",
    "#word analogy\n",
    "analogy_result_1970 = model_1970.wv.most_similar(positive=['girl', 'man'], negative=['woman'], topn=1)\n",
    "print(f\"Word analogy result for the year 1951-1970: {analogy_result_1970}\")\n",
    "#word analogy\n",
    "analogy_result_1990 = model_1990.wv.most_similar(positive=['girl', 'man'], negative=['woman'], topn=1)\n",
    "print(f\"Word analogy result for the year 1971-1990: {analogy_result_1990}\")\n",
    "#word analogy\n",
    "analogy_result_2006 = model_2006.wv.most_similar(positive=['girl', 'man'], negative=['woman'], topn=1)\n",
    "print(f\"Word analogy result for the year 1991-2006: {analogy_result_2006}\")"
   ]
  },
  {
   "cell_type": "code",
   "execution_count": null,
   "id": "a15e5aa2-01d9-42ae-913b-802ab89c2c81",
   "metadata": {},
   "outputs": [],
   "source": []
  }
 ],
 "metadata": {
  "kernelspec": {
   "display_name": "Python 3 (ipykernel)",
   "language": "python",
   "name": "python3"
  },
  "language_info": {
   "codemirror_mode": {
    "name": "ipython",
    "version": 3
   },
   "file_extension": ".py",
   "mimetype": "text/x-python",
   "name": "python",
   "nbconvert_exporter": "python",
   "pygments_lexer": "ipython3",
   "version": "3.11.4"
  }
 },
 "nbformat": 4,
 "nbformat_minor": 5
}
