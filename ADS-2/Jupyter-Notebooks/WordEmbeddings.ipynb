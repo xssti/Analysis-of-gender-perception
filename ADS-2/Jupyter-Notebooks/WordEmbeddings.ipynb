{
 "cells": [
  {
   "cell_type": "code",
   "execution_count": 1,
   "id": "e8d04617",
   "metadata": {},
   "outputs": [
    {
     "name": "stdout",
     "output_type": "stream",
     "text": [
      "Requirement already satisfied: nltk in /Users/shaistasyeda/anaconda3/lib/python3.11/site-packages (3.8.1)\n",
      "Requirement already satisfied: click in /Users/shaistasyeda/anaconda3/lib/python3.11/site-packages (from nltk) (8.0.4)\n",
      "Requirement already satisfied: joblib in /Users/shaistasyeda/anaconda3/lib/python3.11/site-packages (from nltk) (1.2.0)\n",
      "Requirement already satisfied: regex>=2021.8.3 in /Users/shaistasyeda/anaconda3/lib/python3.11/site-packages (from nltk) (2022.7.9)\n",
      "Requirement already satisfied: tqdm in /Users/shaistasyeda/anaconda3/lib/python3.11/site-packages (from nltk) (4.65.0)\n",
      "Note: you may need to restart the kernel to use updated packages.\n"
     ]
    }
   ],
   "source": [
    "pip install nltk"
   ]
  },
  {
   "cell_type": "code",
   "execution_count": 2,
   "id": "e67084ad",
   "metadata": {},
   "outputs": [
    {
     "name": "stdout",
     "output_type": "stream",
     "text": [
      "Requirement already satisfied: gensim in /Users/shaistasyeda/anaconda3/lib/python3.11/site-packages (4.3.0)\n",
      "Requirement already satisfied: numpy>=1.18.5 in /Users/shaistasyeda/anaconda3/lib/python3.11/site-packages (from gensim) (1.24.3)\n",
      "Requirement already satisfied: scipy>=1.7.0 in /Users/shaistasyeda/anaconda3/lib/python3.11/site-packages (from gensim) (1.10.1)\n",
      "Requirement already satisfied: smart-open>=1.8.1 in /Users/shaistasyeda/anaconda3/lib/python3.11/site-packages (from gensim) (5.2.1)\n",
      "Requirement already satisfied: FuzzyTM>=0.4.0 in /Users/shaistasyeda/anaconda3/lib/python3.11/site-packages (from gensim) (2.0.5)\n",
      "Requirement already satisfied: pandas in /Users/shaistasyeda/anaconda3/lib/python3.11/site-packages (from FuzzyTM>=0.4.0->gensim) (1.5.3)\n",
      "Requirement already satisfied: pyfume in /Users/shaistasyeda/anaconda3/lib/python3.11/site-packages (from FuzzyTM>=0.4.0->gensim) (0.2.25)\n",
      "Requirement already satisfied: python-dateutil>=2.8.1 in /Users/shaistasyeda/anaconda3/lib/python3.11/site-packages (from pandas->FuzzyTM>=0.4.0->gensim) (2.8.2)\n",
      "Requirement already satisfied: pytz>=2020.1 in /Users/shaistasyeda/anaconda3/lib/python3.11/site-packages (from pandas->FuzzyTM>=0.4.0->gensim) (2022.7)\n",
      "Requirement already satisfied: simpful in /Users/shaistasyeda/anaconda3/lib/python3.11/site-packages (from pyfume->FuzzyTM>=0.4.0->gensim) (2.11.0)\n",
      "Requirement already satisfied: fst-pso in /Users/shaistasyeda/anaconda3/lib/python3.11/site-packages (from pyfume->FuzzyTM>=0.4.0->gensim) (1.8.1)\n",
      "Requirement already satisfied: six>=1.5 in /Users/shaistasyeda/anaconda3/lib/python3.11/site-packages (from python-dateutil>=2.8.1->pandas->FuzzyTM>=0.4.0->gensim) (1.16.0)\n",
      "Requirement already satisfied: miniful in /Users/shaistasyeda/anaconda3/lib/python3.11/site-packages (from fst-pso->pyfume->FuzzyTM>=0.4.0->gensim) (0.0.6)\n",
      "Note: you may need to restart the kernel to use updated packages.\n"
     ]
    }
   ],
   "source": [
    "pip install gensim"
   ]
  },
  {
   "cell_type": "markdown",
   "id": "f378e52b-5771-4b51-80f9-29ba0187237d",
   "metadata": {},
   "source": [
    "# Word2Vec"
   ]
  },
  {
   "cell_type": "code",
   "execution_count": 3,
   "id": "ecc8c214",
   "metadata": {},
   "outputs": [],
   "source": [
    "import pandas as pd\n",
    "\n",
    "from nltk.tokenize import word_tokenize\n",
    "from gensim.models import FastText"
   ]
  },
  {
   "cell_type": "code",
   "execution_count": 1,
   "id": "cc162c1f",
   "metadata": {
    "tags": []
   },
   "outputs": [
    {
     "name": "stdout",
     "output_type": "stream",
     "text": [
      "here\n",
      "Processing file: /Users/shaistasyeda/Desktop/DataSet/tokenized_debates/new-tokenized-debates/1800_1849_tokenized.txt\n",
      "Processed 455320 sentences from /Users/shaistasyeda/Desktop/DataSet/tokenized_debates/new-tokenized-debates/1800_1849_tokenized.txt\n",
      "Processing file: /Users/shaistasyeda/Desktop/DataSet/tokenized_debates/new-tokenized-debates/1850_1920_tokenized.txt\n",
      "Processed 942551 sentences from /Users/shaistasyeda/Desktop/DataSet/tokenized_debates/new-tokenized-debates/1850_1920_tokenized.txt\n",
      "Processing file: /Users/shaistasyeda/Desktop/DataSet/tokenized_debates/new-tokenized-debates/1921_1970_tokenized.txt\n",
      "Processed 1339764 sentences from /Users/shaistasyeda/Desktop/DataSet/tokenized_debates/new-tokenized-debates/1921_1970_tokenized.txt\n",
      "Processing file: /Users/shaistasyeda/Desktop/DataSet/tokenized_debates/new-tokenized-debates/1971_1990_tokenized.txt\n",
      "Processed 1025994 sentences from /Users/shaistasyeda/Desktop/DataSet/tokenized_debates/new-tokenized-debates/1971_1990_tokenized.txt\n",
      "Processing file: /Users/shaistasyeda/Desktop/DataSet/tokenized_debates/new-tokenized-debates/1991_2006_tokenized.txt\n",
      "Processed 597305 sentences from /Users/shaistasyeda/Desktop/DataSet/tokenized_debates/new-tokenized-debates/1991_2006_tokenized.txt\n"
     ]
    }
   ],
   "source": [
    "from gensim.models import Word2Vec\n",
    "import os\n",
    "\n",
    "# the directory path of tokenized files\n",
    "data_directory = '/Users/shaistasyeda/Desktop/DataSet/tokenized_debates/new-tokenized-debates'\n",
    "\n",
    "# Initialize an empty list to store sentences\n",
    "sentences = []\n",
    "print(\"here\")\n",
    "\n",
    "# Iterate through each file in the directory\n",
    "for filename in os.listdir(data_directory):\n",
    "    if filename.endswith(\".txt\"):\n",
    "        file_path = os.path.join(data_directory, filename)\n",
    "        print(f\"Processing file: {file_path}\")\n",
    "\n",
    "        # Read the tokenized data from the file\n",
    "        with open(file_path, 'r', encoding='utf-8') as file:\n",
    "            file_sentences = [line.split() for line in file]\n",
    "\n",
    "        # Add the sentences from this file to the overall list\n",
    "        sentences.extend(file_sentences)\n",
    "        \n",
    "        print(f\"Processed {len(file_sentences)} sentences from {file_path}\")"
   ]
  },
  {
   "cell_type": "code",
   "execution_count": 2,
   "id": "8027b128-133b-4723-a88f-83e1224ffb97",
   "metadata": {},
   "outputs": [
    {
     "name": "stdout",
     "output_type": "stream",
     "text": [
      "Training Word2Vec Model\n",
      "Word2Vec Model training completed\n"
     ]
    }
   ],
   "source": [
    "# Train Word2Vec model\n",
    "model = Word2Vec(sentences, vector_size=300, window=15, min_count=5, workers=4)\n",
    "\n",
    "print(\"Training Word2Vec Model\")\n",
    "\n",
    "# Save the trained model\n",
    "model.save('word2vec_model.bin')\n",
    "\n",
    "print(\"Word2Vec Model training completed\")"
   ]
  },
  {
   "cell_type": "code",
   "execution_count": 3,
   "id": "2de00433",
   "metadata": {
    "tags": []
   },
   "outputs": [],
   "source": [
    "from gensim.models import Word2Vec\n",
    "\n",
    "# Load the saved Word2Vec model\n",
    "model = Word2Vec.load('word2vec_model.bin')\n"
   ]
  },
  {
   "cell_type": "code",
   "execution_count": 4,
   "id": "c82c3ab5-740f-4399-970a-97e74961c9d1",
   "metadata": {
    "tags": []
   },
   "outputs": [
    {
     "name": "stdout",
     "output_type": "stream",
     "text": [
      "Similar words to 'woman': [('men', 0.6022253632545471), ('female', 0.5765068531036377), ('sex', 0.5569344162940979), ('unmarried', 0.5505144596099854), ('wife', 0.5437403321266174)]\n"
     ]
    }
   ],
   "source": [
    "# Find words similar to the word woman\n",
    "similar_words = model.wv.most_similar('woman', topn=5)\n",
    "print(f\"Similar words to 'woman': {similar_words}\")"
   ]
  },
  {
   "cell_type": "code",
   "execution_count": 5,
   "id": "2089b056-c227-4dcb-9221-d745c73c9355",
   "metadata": {
    "tags": []
   },
   "outputs": [
    {
     "ename": "KeyError",
     "evalue": "\"Key 'women' not present in vocabulary\"",
     "output_type": "error",
     "traceback": [
      "\u001b[0;31m---------------------------------------------------------------------------\u001b[0m",
      "\u001b[0;31mKeyError\u001b[0m                                  Traceback (most recent call last)",
      "Cell \u001b[0;32mIn[5], line 2\u001b[0m\n\u001b[1;32m      1\u001b[0m \u001b[38;5;66;03m# Find words similar to the word women\u001b[39;00m\n\u001b[0;32m----> 2\u001b[0m similar_words \u001b[38;5;241m=\u001b[39m model\u001b[38;5;241m.\u001b[39mwv\u001b[38;5;241m.\u001b[39mmost_similar(\u001b[38;5;124m'\u001b[39m\u001b[38;5;124mwomen\u001b[39m\u001b[38;5;124m'\u001b[39m, topn\u001b[38;5;241m=\u001b[39m\u001b[38;5;241m5\u001b[39m)\n\u001b[1;32m      3\u001b[0m \u001b[38;5;28mprint\u001b[39m(\u001b[38;5;124mf\u001b[39m\u001b[38;5;124m\"\u001b[39m\u001b[38;5;124mSimilar words to \u001b[39m\u001b[38;5;124m'\u001b[39m\u001b[38;5;124mwomen\u001b[39m\u001b[38;5;124m'\u001b[39m\u001b[38;5;124m: \u001b[39m\u001b[38;5;132;01m{\u001b[39;00msimilar_words\u001b[38;5;132;01m}\u001b[39;00m\u001b[38;5;124m\"\u001b[39m)\n",
      "File \u001b[0;32m~/anaconda3/lib/python3.11/site-packages/gensim/models/keyedvectors.py:841\u001b[0m, in \u001b[0;36mKeyedVectors.most_similar\u001b[0;34m(self, positive, negative, topn, clip_start, clip_end, restrict_vocab, indexer)\u001b[0m\n\u001b[1;32m    838\u001b[0m         weight[idx] \u001b[38;5;241m=\u001b[39m item[\u001b[38;5;241m1\u001b[39m]\n\u001b[1;32m    840\u001b[0m \u001b[38;5;66;03m# compute the weighted average of all keys\u001b[39;00m\n\u001b[0;32m--> 841\u001b[0m mean \u001b[38;5;241m=\u001b[39m \u001b[38;5;28mself\u001b[39m\u001b[38;5;241m.\u001b[39mget_mean_vector(keys, weight, pre_normalize\u001b[38;5;241m=\u001b[39m\u001b[38;5;28;01mTrue\u001b[39;00m, post_normalize\u001b[38;5;241m=\u001b[39m\u001b[38;5;28;01mTrue\u001b[39;00m, ignore_missing\u001b[38;5;241m=\u001b[39m\u001b[38;5;28;01mFalse\u001b[39;00m)\n\u001b[1;32m    842\u001b[0m all_keys \u001b[38;5;241m=\u001b[39m [\n\u001b[1;32m    843\u001b[0m     \u001b[38;5;28mself\u001b[39m\u001b[38;5;241m.\u001b[39mget_index(key) \u001b[38;5;28;01mfor\u001b[39;00m key \u001b[38;5;129;01min\u001b[39;00m keys \u001b[38;5;28;01mif\u001b[39;00m \u001b[38;5;28misinstance\u001b[39m(key, _KEY_TYPES) \u001b[38;5;129;01mand\u001b[39;00m \u001b[38;5;28mself\u001b[39m\u001b[38;5;241m.\u001b[39mhas_index_for(key)\n\u001b[1;32m    844\u001b[0m ]\n\u001b[1;32m    846\u001b[0m \u001b[38;5;28;01mif\u001b[39;00m indexer \u001b[38;5;129;01mis\u001b[39;00m \u001b[38;5;129;01mnot\u001b[39;00m \u001b[38;5;28;01mNone\u001b[39;00m \u001b[38;5;129;01mand\u001b[39;00m \u001b[38;5;28misinstance\u001b[39m(topn, \u001b[38;5;28mint\u001b[39m):\n",
      "File \u001b[0;32m~/anaconda3/lib/python3.11/site-packages/gensim/models/keyedvectors.py:518\u001b[0m, in \u001b[0;36mKeyedVectors.get_mean_vector\u001b[0;34m(self, keys, weights, pre_normalize, post_normalize, ignore_missing)\u001b[0m\n\u001b[1;32m    516\u001b[0m         total_weight \u001b[38;5;241m+\u001b[39m\u001b[38;5;241m=\u001b[39m \u001b[38;5;28mabs\u001b[39m(weights[idx])\n\u001b[1;32m    517\u001b[0m     \u001b[38;5;28;01melif\u001b[39;00m \u001b[38;5;129;01mnot\u001b[39;00m ignore_missing:\n\u001b[0;32m--> 518\u001b[0m         \u001b[38;5;28;01mraise\u001b[39;00m \u001b[38;5;167;01mKeyError\u001b[39;00m(\u001b[38;5;124mf\u001b[39m\u001b[38;5;124m\"\u001b[39m\u001b[38;5;124mKey \u001b[39m\u001b[38;5;124m'\u001b[39m\u001b[38;5;132;01m{\u001b[39;00mkey\u001b[38;5;132;01m}\u001b[39;00m\u001b[38;5;124m'\u001b[39m\u001b[38;5;124m not present in vocabulary\u001b[39m\u001b[38;5;124m\"\u001b[39m)\n\u001b[1;32m    520\u001b[0m \u001b[38;5;28;01mif\u001b[39;00m total_weight \u001b[38;5;241m>\u001b[39m \u001b[38;5;241m0\u001b[39m:\n\u001b[1;32m    521\u001b[0m     mean \u001b[38;5;241m=\u001b[39m mean \u001b[38;5;241m/\u001b[39m total_weight\n",
      "\u001b[0;31mKeyError\u001b[0m: \"Key 'women' not present in vocabulary\""
     ]
    }
   ],
   "source": [
    "# Find words similar to the word women\n",
    "similar_words = model.wv.most_similar('women', topn=5)\n",
    "print(f\"Similar words to 'women': {similar_words}\")"
   ]
  },
  {
   "cell_type": "code",
   "execution_count": 6,
   "id": "0dac2610-0743-466b-9d5c-7dcddf8d7c5b",
   "metadata": {
    "tags": []
   },
   "outputs": [
    {
     "name": "stdout",
     "output_type": "stream",
     "text": [
      "Similar words to 'woman': [('men', 0.6022253632545471), ('female', 0.5765068531036377), ('sex', 0.5569344162940979), ('unmarried', 0.5505144596099854), ('wife', 0.5437403321266174), ('girl', 0.5319264531135559), ('inspectorinspectorsergeantconstabletotal', 0.4870729446411133), ('bisexual', 0.4854346513748169), ('childbirth', 0.4817197620868683), ('menopause', 0.4792359173297882), ('mother', 0.4747985005378723), ('adult', 0.46753647923469543), ('ranksavon', 0.459628701210022), ('married', 0.45891711115837097), ('widower', 0.45504724979400635)]\n"
     ]
    }
   ],
   "source": [
    "# Find words similar to the word woman\n",
    "similar_words = model.wv.most_similar('woman', topn=15)\n",
    "print(f\"Similar words to 'woman': {similar_words}\")"
   ]
  },
  {
   "cell_type": "code",
   "execution_count": 7,
   "id": "ab5931ff-45ab-4bbb-9bf2-84e90d14b37d",
   "metadata": {
    "tags": []
   },
   "outputs": [
    {
     "name": "stdout",
     "output_type": "stream",
     "text": [
      "Similar words to 'man': [('men', 0.6573125720024109), ('someone', 0.6129646897315979), ('wife', 0.5151177644729614), ('father', 0.5068652629852295), ('husband', 0.5031120181083679)]\n"
     ]
    }
   ],
   "source": [
    "# Find words similar to the word man\n",
    "similar_words = model.wv.most_similar('man', topn=5)\n",
    "print(f\"Similar words to 'man': {similar_words}\")"
   ]
  },
  {
   "cell_type": "code",
   "execution_count": 8,
   "id": "09c1abfd-9996-4712-bd27-0dd271c4c080",
   "metadata": {
    "tags": []
   },
   "outputs": [
    {
     "name": "stdout",
     "output_type": "stream",
     "text": [
      "Similar words to 'man': [('men', 0.6573125720024109), ('someone', 0.6129646897315979), ('wife', 0.5151177644729614), ('father', 0.5068652629852295), ('husband', 0.5031120181083679), ('person', 0.5005711913108826), ('lad', 0.49994152784347534), ('somebody', 0.48950695991516113), ('people', 0.4825318157672882), ('loses', 0.4725981056690216), ('forehead', 0.46716415882110596), ('son', 0.4664529860019684), ('chap', 0.46079021692276), ('policeman', 0.45232799649238586), ('fellow', 0.44959431886672974)]\n"
     ]
    }
   ],
   "source": [
    "# Find words similar to the word man\n",
    "similar_words = model.wv.most_similar('man', topn=15)\n",
    "print(f\"Similar words to 'man': {similar_words}\")"
   ]
  },
  {
   "cell_type": "code",
   "execution_count": 9,
   "id": "f2b2cf27-0c44-4582-8267-5b131e55d4bf",
   "metadata": {
    "tags": []
   },
   "outputs": [
    {
     "name": "stdout",
     "output_type": "stream",
     "text": [
      "Similar words to 'suffrage': [('franchise', 0.6967247128486633), ('elective', 0.44971323013305664), ('enfranchisement', 0.4441656172275543), ('disfranchisement', 0.3948650360107422), ('voter', 0.38702261447906494), ('enfranchising', 0.3859948217868805), ('plebiscito', 0.3855326175689697), ('ballot', 0.3840750753879547), ('democracy', 0.37846261262893677), ('enfranchised', 0.37578168511390686), ('unenfranchised', 0.3753224313259125), ('elector', 0.36752188205718994), ('electorate', 0.36141765117645264), ('voting', 0.3577018678188324), ('electoral', 0.35663434863090515)]\n"
     ]
    }
   ],
   "source": [
    "# Find words similar to the word suffrage\n",
    "similar_words = model.wv.most_similar('suffrage', topn=15)\n",
    "print(f\"Similar words to 'suffrage': {similar_words}\")"
   ]
  },
  {
   "cell_type": "code",
   "execution_count": 10,
   "id": "2dc8934a-71e5-4b46-aebc-a860991e7116",
   "metadata": {
    "tags": []
   },
   "outputs": [
    {
     "name": "stdout",
     "output_type": "stream",
     "text": [
      "Similar words to 'equality': [('equal', 0.7007212042808533), ('discrimination', 0.5479030609130859), ('gender', 0.4699892997741699), ('racial', 0.46831169724464417), ('sex', 0.4617367386817932), ('equalityasked', 0.4479593336582184), ('parity', 0.4447823464870453), ('footing', 0.43004098534584045), ('inequality', 0.42711105942726135), ('counciltechnician', 0.41014912724494934), ('toleration', 0.3866822123527527), ('differentiation', 0.3797881007194519), ('discriminated', 0.37864622473716736), ('ethnicity', 0.37448111176490784), ('discriminationasked', 0.3744088411331177)]\n"
     ]
    }
   ],
   "source": [
    "similar_words = model.wv.most_similar('equality', topn=15)\n",
    "print(f\"Similar words to 'equality': {similar_words}\")"
   ]
  },
  {
   "cell_type": "code",
   "execution_count": 11,
   "id": "daafde53-27f7-4fde-9425-c9e208c91fe1",
   "metadata": {
    "tags": []
   },
   "outputs": [
    {
     "name": "stdout",
     "output_type": "stream",
     "text": [
      "Vector representation of 'woman': [ 1.2596273  -0.37490997  0.35141307  1.6662583   1.8601185   1.2944701\n",
      "  1.8451197  -2.613087   -1.0320278  -2.7902799   5.3885818  -2.8061728\n",
      " -4.163704    6.209544   -2.6131723  -0.6906628  -0.09385203 -0.22449662\n",
      "  1.555293    3.4583585  -0.38106006  0.01359362 -2.5155559   0.41958383\n",
      "  0.6414971   0.9862824   5.1001277   2.2969584   2.9962327  -1.571529\n",
      "  1.1931751  -4.8946195  -4.4460225  -0.71358675 -2.5959702  -3.646962\n",
      " -0.7700778   2.4266865  -0.21357638 -5.107355    0.20069548  1.7830408\n",
      " -1.1266327   0.9309858   0.4769537   2.1963851  -3.4812715   2.010043\n",
      " -1.1985118   3.368584   -2.7620614  -0.36982888 -2.9934907  -1.6390448\n",
      "  4.094822    0.68415284  5.205577   -1.0029396  -0.12486371 -0.64282227\n",
      "  1.0746623  -1.7533293  -0.48268116  1.8293387   1.1097598  -1.8652557\n",
      "  4.912996    2.001658    1.3285235   1.673661    0.1836471   5.748503\n",
      "  1.8428426   2.290265   -0.6366504  -2.4045913  -2.7446518  -3.1501203\n",
      " -0.8905128  -2.7381275  -2.1109564   6.778751   -0.81184715 -0.69553465\n",
      " -1.1506182   1.012639    1.6262419  -0.914673   -3.3012912   2.6794071\n",
      " -2.1488993   2.025315   -2.0748749  -0.9490024   0.17871995 -1.4890809\n",
      "  1.6846343   1.0395035  -1.0509653  -1.8686639   5.705066   -3.9907687\n",
      "  1.4411197   1.4247656  -2.005247    0.9311141  -2.7131476   4.9271064\n",
      " -1.9025472  -0.08470346  4.503738   -0.17507505  2.751417    1.5277313\n",
      "  0.631588   -3.1091244   0.29995883  1.920659    2.9440422  -1.393453\n",
      " -1.790168   -1.9734774  -2.072189   -2.8633533  -0.9986128   1.3692895\n",
      "  2.94953     2.1024487   6.7187448   2.6724308  -0.19448553  0.86315775\n",
      "  1.5420799  -0.6329701  -0.31521645  2.2450533   1.5467603  -2.9887965\n",
      " -2.0020769  -1.0335519   2.2571259   1.9424933  -0.63516843 -2.2894225\n",
      "  0.37858075 -1.8008075  -2.3120587   0.92929727  3.5419526  -1.8236154\n",
      "  0.9852579  -3.1469188  -1.5992197   2.1199474   1.2170494   5.1176915\n",
      " -2.3107495   2.0994654  -2.5989587   4.6855145  -1.9081713   2.828311\n",
      "  2.065701   -3.282219    1.6801502   0.90546316 -2.1722102   1.737517\n",
      " -5.5791473   1.2879179  -4.560986    2.3686068  -3.0630856   5.276049\n",
      " -3.5350733  -2.9707985   1.7846304   0.13132064  0.78917503  1.632815\n",
      " -0.11540231 -0.3833839   0.66744643 -2.5368757   0.10168696 -0.91712856\n",
      "  0.76822734 -3.480256   -0.6639378   2.6286767  -1.3377764   1.4703147\n",
      "  1.9825362   4.4232464  -2.308037    1.7602419   3.0446968   0.67290735\n",
      "  1.0286341  -0.6110797  -0.56797504 -3.6062386   0.50156695 -0.861255\n",
      " -0.20858024 -1.6534603  -1.6805516   0.7128805  -1.6051956  -3.1198223\n",
      " -2.4995406   4.1863933  -4.893872   -0.08593574  1.6313444  -1.3259041\n",
      "  1.0050205   3.1181474   2.4972372   1.4290506   1.557976    3.4120834\n",
      " -1.0148941  -1.7089027   2.0419276   2.4478574   0.12362155  1.4401227\n",
      " -0.9496325  -3.0590506   0.5112166   0.10740049  1.7705637   1.8085673\n",
      " -6.745929   -3.654486    0.21944028 -0.75686127 -0.00880294 -0.16345872\n",
      " -0.70916     0.63896096 -3.1139193   1.0837889   0.02455519 -3.4534912\n",
      " -2.5694122   3.0866935   0.6457279   2.2631025   3.0217285  -0.7889637\n",
      "  1.8456708  -3.9690564  -1.9946717   1.459799   -1.5928501  -0.34272653\n",
      "  0.04095579  0.7483787   0.89284277  1.5672256  -0.24657261  2.208394\n",
      "  0.31002653 -1.4851222  -2.5132701   1.9179449   1.0733403  -2.0780675\n",
      "  1.8906293   6.125763   -1.4447007   2.4008942  -2.3162394  -0.5218772\n",
      " -0.64771026 -2.8467298  -0.56439835 -0.6517781  -1.1825156  -2.3549166\n",
      " -1.3687085  -1.7308933  -2.309236   -1.8280269   0.4556534   0.3254178\n",
      " -0.35976696 -2.9829307   1.5421295   1.7391022  -0.74924606  1.2280418\n",
      "  2.9335485  -3.8326027   0.9600574   0.42831966 -2.6927629  -5.330378  ]\n"
     ]
    }
   ],
   "source": [
    "#the vector representation of the word woman\n",
    "vector = model.wv['woman']\n",
    "print(f\"Vector representation of 'woman': {vector}\")"
   ]
  },
  {
   "cell_type": "code",
   "execution_count": 12,
   "id": "c705332e-7d5a-4dc0-a08f-86874f4786f8",
   "metadata": {
    "tags": []
   },
   "outputs": [
    {
     "name": "stdout",
     "output_type": "stream",
     "text": [
      "Word analogy result: [('queen', 0.4924481213092804)]\n"
     ]
    }
   ],
   "source": [
    "#word analogy\n",
    "analogy_result = model.wv.most_similar(positive=['king', 'woman'], negative=['man'], topn=1)\n",
    "print(f\"Word analogy result: {analogy_result}\")"
   ]
  },
  {
   "cell_type": "code",
   "execution_count": 13,
   "id": "74b0f724-42bf-4f4e-8a72-c04438a54f8b",
   "metadata": {
    "tags": []
   },
   "outputs": [
    {
     "name": "stdout",
     "output_type": "stream",
     "text": [
      "Word analogy result: [('mother', 0.5855175256729126)]\n"
     ]
    }
   ],
   "source": [
    "#word analogy\n",
    "analogy_result = model.wv.most_similar(positive=['father', 'woman'], negative=['man'], topn=1)\n",
    "print(f\"Word analogy result: {analogy_result}\")"
   ]
  },
  {
   "cell_type": "code",
   "execution_count": 14,
   "id": "76459078-e422-4536-8ae3-8aaec5827c3b",
   "metadata": {
    "tags": []
   },
   "outputs": [
    {
     "name": "stdout",
     "output_type": "stream",
     "text": [
      "Word analogy result: [('sex', 0.3916843831539154)]\n"
     ]
    }
   ],
   "source": [
    "#word analogy\n",
    "analogy_result = model.wv.most_similar(positive=['human', 'woman'], negative=['man'], topn=1)\n",
    "print(f\"Word analogy result: {analogy_result}\")"
   ]
  },
  {
   "cell_type": "code",
   "execution_count": 15,
   "id": "1353424d-4d98-420c-b393-c8dc9178cab8",
   "metadata": {
    "tags": []
   },
   "outputs": [
    {
     "name": "stdout",
     "output_type": "stream",
     "text": [
      "Word analogy result: [('baronet', 0.5580355525016785)]\n"
     ]
    }
   ],
   "source": [
    "#word analogy\n",
    "analogy_result = model.wv.most_similar(positive=['gentleman', 'woman'], negative=['man'], topn=1)\n",
    "print(f\"Word analogy result: {analogy_result}\")"
   ]
  },
  {
   "cell_type": "code",
   "execution_count": 16,
   "id": "bcf03a81-2631-4baa-96db-fc7c754f923e",
   "metadata": {
    "tags": []
   },
   "outputs": [
    {
     "name": "stdout",
     "output_type": "stream",
     "text": [
      "Word analogy result: [('faithful', 0.3875488042831421)]\n"
     ]
    }
   ],
   "source": [
    "#word analogy\n",
    "analogy_result = model.wv.most_similar(positive=['loyal', 'woman'], negative=['man'], topn=1)\n",
    "print(f\"Word analogy result: {analogy_result}\")"
   ]
  },
  {
   "cell_type": "code",
   "execution_count": 17,
   "id": "eb3e553e-52e2-4de5-bbe5-8300b5f53717",
   "metadata": {
    "tags": []
   },
   "outputs": [
    {
     "data": {
      "image/png": "[encoded data removed]",
      "text/plain": [
       "<Figure size 400x400 with 1 Axes>"
      ]
     },
     "metadata": {},
     "output_type": "display_data"
    }
   ],
   "source": [
    "import matplotlib.pyplot as plt\n",
    "from sklearn.manifold import TSNE\n",
    "import numpy as np\n",
    "\n",
    "# Visualize embeddings of 'man' and 'woman'\n",
    "words_to_visualize = ['man', 'woman']\n",
    "vectors_to_visualize = np.array([model.wv[word] for word in words_to_visualize])\n",
    "\n",
    "# Check the number of samples\n",
    "n_samples, n_features = vectors_to_visualize.shape\n",
    "\n",
    "# Ensuring perplexity is less than the number of samples\n",
    "perplexity = min(3, n_samples - 1)\n",
    "\n",
    "tsne = TSNE(n_components=2, perplexity=perplexity, random_state=42)\n",
    "vectors_2d = tsne.fit_transform(vectors_to_visualize)\n",
    "\n",
    "plt.figure(figsize=(4, 4))\n",
    "plt.xlim(vectors_2d[:, 0].min() - 0.1, vectors_2d[:, 0].max() + 0.1)\n",
    "plt.ylim(vectors_2d[:, 1].min() - 0.1, vectors_2d[:, 1].max() + 0.1)\n",
    "\n",
    "for i, word in enumerate(words_to_visualize):\n",
    "    plt.scatter(vectors_2d[i, 0], vectors_2d[i, 1])\n",
    "    plt.text(vectors_2d[i, 0] + 0.02, vectors_2d[i, 1] + 0.02, word)\n",
    "\n",
    "plt.show()\n"
   ]
  },
  {
   "cell_type": "markdown",
   "id": "dd64a0ea-a2f3-40c5-b3c3-88f18a18ff7b",
   "metadata": {},
   "source": [
    "# Word2Vec for the year 1800-1849"
   ]
  },
  {
   "cell_type": "code",
   "execution_count": 18,
   "id": "73105c09-d8c0-494b-8dce-362037745fdc",
   "metadata": {
    "tags": []
   },
   "outputs": [
    {
     "name": "stdout",
     "output_type": "stream",
     "text": [
      "Processing file: /Users/shaistasyeda/Desktop/DataSet/tokenized_debates/new-tokenized-debates/1800_1849_tokenized.txt\n",
      "Processed 455320 sentences from /Users/shaistasyeda/Desktop/DataSet/tokenized_debates/new-tokenized-debates/1800_1849_tokenized.txt\n",
      "Word2Vec Model training completed\n"
     ]
    }
   ],
   "source": [
    "from gensim.models import Word2Vec\n",
    "import os\n",
    "\n",
    "#the path to the tokenized file \n",
    "file_path = '/Users/shaistasyeda/Desktop/DataSet/tokenized_debates/new-tokenized-debates/1800_1849_tokenized.txt'\n",
    "\n",
    "# Print statement for indicating the processing of the file\n",
    "print(f\"Processing file: {file_path}\")\n",
    "\n",
    "# Read the tokenized data from the file\n",
    "with open(file_path, 'r', encoding='utf-8') as file:\n",
    "    sentences = [line.split() for line in file]\n",
    "    print(f\"Processed {len(sentences)} sentences from {file_path}\")\n",
    "\n",
    "    \n",
    "# Train Word2Vec model\n",
    "model = Word2Vec(sentences, vector_size=300, window=15, min_count=5, workers=4)\n",
    "\n",
    "# Save the trained model\n",
    "model.save('word2vec_model_1.bin')\n",
    "\n",
    "print(\"Word2Vec Model training completed\")"
   ]
  },
  {
   "cell_type": "code",
   "execution_count": 19,
   "id": "3c1294bc-5a62-4be3-a2d6-11c8a5052b88",
   "metadata": {
    "tags": []
   },
   "outputs": [],
   "source": [
    "from gensim.models import Word2Vec\n",
    "\n",
    "# Load the saved Word2Vec model\n",
    "model = Word2Vec.load('word2vec_model_1.bin')"
   ]
  },
  {
   "cell_type": "code",
   "execution_count": 22,
   "id": "3e8c2e88-a410-4332-8977-d972679def30",
   "metadata": {
    "tags": []
   },
   "outputs": [
    {
     "name": "stdout",
     "output_type": "stream",
     "text": [
      "Similar words to 'woman': [('girl', 0.6130533218383789), ('female', 0.6100981831550598), ('wife', 0.5985001921653748), ('child', 0.5464219450950623), ('husband', 0.5307227969169617), ('seducer', 0.5158628225326538), ('daughter', 0.49284297227859497), ('unmarried', 0.4820486605167389), ('married', 0.4728690981864929), ('dog', 0.46741360425949097)]\n"
     ]
    }
   ],
   "source": [
    "# Find words similar to the word woman\n",
    "similar_words = model.wv.most_similar('woman', topn=10)\n",
    "print(f\"Similar words to 'woman': {similar_words}\")"
   ]
  },
  {
   "cell_type": "code",
   "execution_count": 23,
   "id": "ff3aae1d-3c8b-40e0-86d3-0e4af68f6f55",
   "metadata": {
    "tags": []
   },
   "outputs": [
    {
     "name": "stdout",
     "output_type": "stream",
     "text": [
      "Similar words to 'man': [('men', 0.499930202960968), ('creature', 0.4199649691581726), ('fool', 0.3968293070793152), ('englishman', 0.3779997229576111), ('wretch', 0.3754134774208069)]\n"
     ]
    }
   ],
   "source": [
    "# Find words similar to the word man\n",
    "similar_words = model.wv.most_similar('man', topn=5)\n",
    "print(f\"Similar words to 'man': {similar_words}\")"
   ]
  },
  {
   "cell_type": "markdown",
   "id": "35e34845-e08c-4793-b5a7-35bfc87cdd04",
   "metadata": {},
   "source": [
    "# Word2Vec for the year 1850-1920"
   ]
  },
  {
   "cell_type": "code",
   "execution_count": 24,
   "id": "54902e06-cb5f-4aed-8015-fabf5abd5a69",
   "metadata": {
    "tags": []
   },
   "outputs": [
    {
     "name": "stdout",
     "output_type": "stream",
     "text": [
      "Processing file: /Users/shaistasyeda/Desktop/DataSet/tokenized_debates/new-tokenized-debates/1850_1920_tokenized.txt\n",
      "Processed 942551 sentences from /Users/shaistasyeda/Desktop/DataSet/tokenized_debates/new-tokenized-debates/1850_1920_tokenized.txt\n",
      "Word2Vec Model training completed\n"
     ]
    }
   ],
   "source": [
    "from gensim.models import Word2Vec\n",
    "import os\n",
    "\n",
    "# the path to the tokenized file \n",
    "file_path = '/Users/shaistasyeda/Desktop/DataSet/tokenized_debates/new-tokenized-debates/1850_1920_tokenized.txt'\n",
    "\n",
    "# Print statement for indicating the processing of the file\n",
    "print(f\"Processing file: {file_path}\")\n",
    "\n",
    "# Read the tokenized data from the file\n",
    "with open(file_path, 'r', encoding='utf-8') as file:\n",
    "    sentences = [line.split() for line in file]\n",
    "    print(f\"Processed {len(sentences)} sentences from {file_path}\")\n",
    "\n",
    "    \n",
    "# Train Word2Vec model\n",
    "model = Word2Vec(sentences, vector_size=300, window=15, min_count=5, workers=4)\n",
    "\n",
    "# Save the trained model\n",
    "model.save('word2vec_model_2.bin')\n",
    "\n",
    "print(\"Word2Vec Model training completed\")"
   ]
  },
  {
   "cell_type": "code",
   "execution_count": 25,
   "id": "b541db4f-80c6-4b1a-ada0-2d47f399321c",
   "metadata": {
    "tags": []
   },
   "outputs": [],
   "source": [
    "# Load the saved Word2Vec model\n",
    "model = Word2Vec.load('word2vec_model_2.bin')"
   ]
  },
  {
   "cell_type": "code",
   "execution_count": 26,
   "id": "d03839a6-3c2c-43dd-99b2-da411ee290e8",
   "metadata": {
    "tags": []
   },
   "outputs": [
    {
     "name": "stdout",
     "output_type": "stream",
     "text": [
      "Similar words to 'woman': [('sex', 0.6105426549911499), ('female', 0.5254074931144714), ('adult', 0.5126000642776489), ('wife', 0.5085448026657104), ('girl', 0.49538668990135193)]\n"
     ]
    }
   ],
   "source": [
    "# Find words similar to the word woman\n",
    "similar_words = model.wv.most_similar('woman', topn=5)\n",
    "print(f\"Similar words to 'woman': {similar_words}\")"
   ]
  },
  {
   "cell_type": "code",
   "execution_count": 27,
   "id": "6b8e7168-e45a-4e1a-9136-391acbc8fcc7",
   "metadata": {
    "tags": []
   },
   "outputs": [
    {
     "name": "stdout",
     "output_type": "stream",
     "text": [
      "Similar words to 'man': [('men', 0.5996216535568237), ('person', 0.4655570685863495), ('policeman', 0.43965616822242737), ('sparrowbill', 0.42352280020713806), ('fool', 0.41849204897880554)]\n"
     ]
    }
   ],
   "source": [
    "# Find words similar to the word man\n",
    "similar_words = model.wv.most_similar('man', topn=5)\n",
    "print(f\"Similar words to 'man': {similar_words}\")"
   ]
  },
  {
   "cell_type": "markdown",
   "id": "c4fc32a1-587b-4c43-bfb6-a6fc6a027b97",
   "metadata": {},
   "source": [
    "# Word2Vec for the year 1921-1970"
   ]
  },
  {
   "cell_type": "code",
   "execution_count": 28,
   "id": "292b5f0d-8551-46e7-9fea-a98ce2ec3ed3",
   "metadata": {
    "tags": []
   },
   "outputs": [
    {
     "name": "stdout",
     "output_type": "stream",
     "text": [
      "Processing file: /Users/shaistasyeda/Desktop/DataSet/tokenized_debates/new-tokenized-debates/1921_1970_tokenized.txt\n",
      "Processed 1339764 sentences from /Users/shaistasyeda/Desktop/DataSet/tokenized_debates/new-tokenized-debates/1921_1970_tokenized.txt\n",
      "Word2Vec Model training completed\n",
      "Similar words to 'woman': [('men', 0.555997908115387), ('wife', 0.4957621097564697), ('sex', 0.47074177861213684), ('young', 0.4678460955619812), ('girl', 0.459478497505188)]\n",
      "Similar words to 'man': [('men', 0.6451320648193359), ('lad', 0.5397100448608398), ('someone', 0.5368929505348206), ('husband', 0.5136544108390808), ('wife', 0.4950489401817322)]\n"
     ]
    }
   ],
   "source": [
    "from gensim.models import Word2Vec\n",
    "import os\n",
    "\n",
    "#the path to the tokenized file \n",
    "file_path = '/Users/shaistasyeda/Desktop/DataSet/tokenized_debates/new-tokenized-debates/1921_1970_tokenized.txt'\n",
    "\n",
    "# Print statement for indicating the processing of the file\n",
    "print(f\"Processing file: {file_path}\")\n",
    "\n",
    "# Read the tokenized data from the file\n",
    "with open(file_path, 'r', encoding='utf-8') as file:\n",
    "    sentences = [line.split() for line in file]\n",
    "    print(f\"Processed {len(sentences)} sentences from {file_path}\")\n",
    "\n",
    "    \n",
    "# Train Word2Vec model\n",
    "model = Word2Vec(sentences, vector_size=300, window=15, min_count=5, workers=4)\n",
    "\n",
    "# Save the trained model\n",
    "model.save('word2vec_model_3.bin')\n",
    "\n",
    "print(\"Word2Vec Model training completed\")\n",
    "# Load the saved Word2Vec model\n",
    "model = model = Word2Vec.load('word2vec_model_3.bin')\n",
    "# Find words similar to the word woman\n",
    "similar_words = model.wv.most_similar('woman', topn=5)\n",
    "print(f\"Similar words to 'woman': {similar_words}\")\n",
    "# Find words similar to the word man\n",
    "similar_words = model.wv.most_similar('man', topn=5)\n",
    "print(f\"Similar words to 'man': {similar_words}\")\n"
   ]
  },
  {
   "cell_type": "markdown",
   "id": "7dbfaa6b-5a51-4ffb-906f-63a3abd9cc84",
   "metadata": {},
   "source": [
    "# Word2Vec for the year  1971-1990"
   ]
  },
  {
   "cell_type": "code",
   "execution_count": 29,
   "id": "2d01861a-a217-4b40-b279-8f9a98e0fefd",
   "metadata": {
    "tags": []
   },
   "outputs": [
    {
     "name": "stdout",
     "output_type": "stream",
     "text": [
      "Processing file: /Users/shaistasyeda/Desktop/DataSet/tokenized_debates/new-tokenized-debates/1971_1990_tokenized.txt\n",
      "Processed 1025994 sentences from /Users/shaistasyeda/Desktop/DataSet/tokenized_debates/new-tokenized-debates/1971_1990_tokenized.txt\n",
      "Word2Vec Model training completed\n",
      "Similar words to 'woman': [('men', 0.5502896308898926), ('mother', 0.4836650788784027), ('marries', 0.45573902130126953), ('returners', 0.45136409997940063), ('inspectorinspectorsergeantconstabletotal', 0.44561102986335754)]\n",
      "Similar words to 'man': [('men', 0.6083616018295288), ('chap', 0.5421302914619446), ('someone', 0.5174940824508667), ('wife', 0.4833219647407532), ('father', 0.45133188366889954)]\n"
     ]
    }
   ],
   "source": [
    "from gensim.models import Word2Vec\n",
    "import os\n",
    "\n",
    "#the path to the tokenized file \n",
    "file_path = '/Users/shaistasyeda/Desktop/DataSet/tokenized_debates/new-tokenized-debates/1971_1990_tokenized.txt'\n",
    "\n",
    "# Print statement for indicating the processing of the file\n",
    "print(f\"Processing file: {file_path}\")\n",
    "\n",
    "# Read the tokenized data from the file\n",
    "with open(file_path, 'r', encoding='utf-8') as file:\n",
    "    sentences = [line.split() for line in file]\n",
    "    print(f\"Processed {len(sentences)} sentences from {file_path}\")\n",
    "\n",
    "    \n",
    "# Train Word2Vec model\n",
    "model = Word2Vec(sentences, vector_size=300, window=15, min_count=5, workers=4)\n",
    "\n",
    "# Save the trained model\n",
    "model.save('word2vec_model_4.bin')\n",
    "\n",
    "print(\"Word2Vec Model training completed\")\n",
    "# Load the saved Word2Vec model\n",
    "model = model = Word2Vec.load('word2vec_model_4.bin')\n",
    "# Find words similar to the word woman\n",
    "similar_words = model.wv.most_similar('woman', topn=5)\n",
    "print(f\"Similar words to 'woman': {similar_words}\")\n",
    "# Find words similar to the word man\n",
    "similar_words = model.wv.most_similar('man', topn=5)\n",
    "print(f\"Similar words to 'man': {similar_words}\")\n"
   ]
  },
  {
   "cell_type": "markdown",
   "id": "d49727c3-cd56-48ab-8555-6c6c76e96bc8",
   "metadata": {},
   "source": [
    "# Word2Vec for the year 1991-2006"
   ]
  },
  {
   "cell_type": "code",
   "execution_count": 30,
   "id": "25069508-b51c-469c-b591-70b04c6e5c9e",
   "metadata": {
    "tags": []
   },
   "outputs": [
    {
     "name": "stdout",
     "output_type": "stream",
     "text": [
      "Processing file: /Users/shaistasyeda/Desktop/DataSet/tokenized_debates/new-tokenized-debates/1991_2006_tokenized.txt\n",
      "Processed 597305 sentences from /Users/shaistasyeda/Desktop/DataSet/tokenized_debates/new-tokenized-debates/1991_2006_tokenized.txt\n",
      "Word2Vec Model training completed\n",
      "Similar words to 'woman': [('men', 0.6055730581283569), ('bisexual', 0.497183620929718), ('pregnant', 0.45050108432769775), ('childbirth', 0.4457819163799286), ('gay', 0.4387279748916626)]\n",
      "Similar words to 'man': [('men', 0.5722330808639526), ('someone', 0.500737190246582), ('son', 0.4917178452014923), ('daughter', 0.4793843626976013), ('husband', 0.47809159755706787)]\n"
     ]
    }
   ],
   "source": [
    "from gensim.models import Word2Vec\n",
    "import os\n",
    "\n",
    "#the path to the tokenized file \n",
    "file_path = '/Users/shaistasyeda/Desktop/DataSet/tokenized_debates/new-tokenized-debates/1991_2006_tokenized.txt'\n",
    "\n",
    "# Print statement for indicating the processing of the file\n",
    "print(f\"Processing file: {file_path}\")\n",
    "\n",
    "# Read the tokenized data from the file\n",
    "with open(file_path, 'r', encoding='utf-8') as file:\n",
    "    sentences = [line.split() for line in file]\n",
    "    print(f\"Processed {len(sentences)} sentences from {file_path}\")\n",
    "\n",
    "    \n",
    "# Train Word2Vec model\n",
    "model = Word2Vec(sentences, vector_size=300, window=15, min_count=5, workers=4)\n",
    "\n",
    "# Save the trained model\n",
    "model.save('word2vec_model_5.bin')\n",
    "\n",
    "print(\"Word2Vec Model training completed\")\n",
    "# Load the saved Word2Vec model\n",
    "model = model = Word2Vec.load('word2vec_model_5.bin')\n",
    "# Find words similar to the word woman\n",
    "similar_words = model.wv.most_similar('woman', topn=5)\n",
    "print(f\"Similar words to 'woman': {similar_words}\")\n",
    "# Find words similar to the word man\n",
    "similar_words = model.wv.most_similar('man', topn=5)\n",
    "print(f\"Similar words to 'man': {similar_words}\")"
   ]
  },
  {
   "cell_type": "markdown",
   "id": "3d0ca9e9-df9b-4c7c-aa4c-9ad2024048b9",
   "metadata": {},
   "source": [
    "# Word Analogy differences between all the years"
   ]
  },
  {
   "cell_type": "code",
   "execution_count": 31,
   "id": "df84b8a1-c201-47d1-9dee-51c3259b5fe1",
   "metadata": {
    "tags": []
   },
   "outputs": [],
   "source": [
    "from gensim.models import Word2Vec\n",
    "model_1849 = Word2Vec.load('word2vec_model_1.bin')\n",
    "model_1920 = Word2Vec.load('word2vec_model_2.bin')\n",
    "model_1970 = Word2Vec.load('word2vec_model_3.bin')\n",
    "model_1990 = Word2Vec.load('word2vec_model_4.bin')\n",
    "model_2006 = Word2Vec.load('word2vec_model_5.bin')"
   ]
  },
  {
   "cell_type": "markdown",
   "id": "2dc6d17b-8905-4550-a326-786341fdf96d",
   "metadata": {},
   "source": [
    "# Association of woman to childbirth"
   ]
  },
  {
   "cell_type": "markdown",
   "id": "6d73eb5c-3b40-4aa7-a151-92c35b92c7cb",
   "metadata": {},
   "source": [
    "## For the year 1800-1850"
   ]
  },
  {
   "cell_type": "code",
   "execution_count": 32,
   "id": "ce57d2ab-d357-40fe-9bf5-5e887c12759e",
   "metadata": {
    "tags": []
   },
   "outputs": [
    {
     "name": "stdout",
     "output_type": "stream",
     "text": [
      "Word analogy result for the year 1800-1849: [('childish', 0.2966958284378052)]\n",
      "Word analogy result for the year 1850-1920: [('doctor', 0.3391333520412445)]\n",
      "Word analogy result for the year 1921-1970: [('pregnancy', 0.4149561822414398)]\n",
      "Word analogy result for the year 1971-1990: [('manasked', 0.34653785824775696)]\n",
      "Word analogy result for the year 1991-2006: [('walked', 0.36458632349967957)]\n"
     ]
    }
   ],
   "source": [
    "analogy_result = model_1849.wv.most_similar(positive=['childbirth', 'man'], negative=['woman'], topn=1)\n",
    "print(f\"Word analogy result for the year 1800-1849: {analogy_result}\")\n",
    "analogy_result = model_1920.wv.most_similar(positive=['childbirth', 'man'], negative=['woman'], topn=1)\n",
    "print(f\"Word analogy result for the year 1850-1920: {analogy_result}\")\n",
    "analogy_result = model_1970.wv.most_similar(positive=['childbirth', 'man'], negative=['woman'], topn=1)\n",
    "print(f\"Word analogy result for the year 1921-1970: {analogy_result}\")\n",
    "analogy_result = model_1990.wv.most_similar(positive=['childbirth', 'man'], negative=['woman'], topn=1)\n",
    "print(f\"Word analogy result for the year 1971-1990: {analogy_result}\")\n",
    "analogy_result = model_2006.wv.most_similar(positive=['childbirth', 'man'], negative=['woman'], topn=1)\n",
    "print(f\"Word analogy result for the year 1991-2006: {analogy_result}\")"
   ]
  },
  {
   "cell_type": "code",
   "execution_count": 33,
   "id": "5e37ac9e",
   "metadata": {},
   "outputs": [
    {
     "name": "stdout",
     "output_type": "stream",
     "text": [
      "Word analogy result for the year 1800-1849: [('creature', 0.29993459582328796)]\n",
      "Word analogy result for the year 1850-1920: [('mortal', 0.3551318943500519)]\n",
      "Word analogy result for the year 1921-1970: [('chap', 0.3808192014694214)]\n"
     ]
    },
    {
     "ename": "KeyError",
     "evalue": "\"Key 'seducer' not present in vocabulary\"",
     "output_type": "error",
     "traceback": [
      "\u001b[0;31m---------------------------------------------------------------------------\u001b[0m",
      "\u001b[0;31mKeyError\u001b[0m                                  Traceback (most recent call last)",
      "Cell \u001b[0;32mIn[33], line 7\u001b[0m\n\u001b[1;32m      5\u001b[0m analogy_result \u001b[38;5;241m=\u001b[39m model_1970\u001b[38;5;241m.\u001b[39mwv\u001b[38;5;241m.\u001b[39mmost_similar(positive\u001b[38;5;241m=\u001b[39m[\u001b[38;5;124m'\u001b[39m\u001b[38;5;124mseducer\u001b[39m\u001b[38;5;124m'\u001b[39m, \u001b[38;5;124m'\u001b[39m\u001b[38;5;124mman\u001b[39m\u001b[38;5;124m'\u001b[39m], negative\u001b[38;5;241m=\u001b[39m[\u001b[38;5;124m'\u001b[39m\u001b[38;5;124mwoman\u001b[39m\u001b[38;5;124m'\u001b[39m], topn\u001b[38;5;241m=\u001b[39m\u001b[38;5;241m1\u001b[39m)\n\u001b[1;32m      6\u001b[0m \u001b[38;5;28mprint\u001b[39m(\u001b[38;5;124mf\u001b[39m\u001b[38;5;124m\"\u001b[39m\u001b[38;5;124mWord analogy result for the year 1921-1970: \u001b[39m\u001b[38;5;132;01m{\u001b[39;00manalogy_result\u001b[38;5;132;01m}\u001b[39;00m\u001b[38;5;124m\"\u001b[39m)\n\u001b[0;32m----> 7\u001b[0m analogy_result \u001b[38;5;241m=\u001b[39m model_1990\u001b[38;5;241m.\u001b[39mwv\u001b[38;5;241m.\u001b[39mmost_similar(positive\u001b[38;5;241m=\u001b[39m[\u001b[38;5;124m'\u001b[39m\u001b[38;5;124mseducer\u001b[39m\u001b[38;5;124m'\u001b[39m, \u001b[38;5;124m'\u001b[39m\u001b[38;5;124mman\u001b[39m\u001b[38;5;124m'\u001b[39m], negative\u001b[38;5;241m=\u001b[39m[\u001b[38;5;124m'\u001b[39m\u001b[38;5;124mwoman\u001b[39m\u001b[38;5;124m'\u001b[39m], topn\u001b[38;5;241m=\u001b[39m\u001b[38;5;241m1\u001b[39m)\n\u001b[1;32m      8\u001b[0m \u001b[38;5;28mprint\u001b[39m(\u001b[38;5;124mf\u001b[39m\u001b[38;5;124m\"\u001b[39m\u001b[38;5;124mWord analogy result for the year 1971-1990: \u001b[39m\u001b[38;5;132;01m{\u001b[39;00manalogy_result\u001b[38;5;132;01m}\u001b[39;00m\u001b[38;5;124m\"\u001b[39m)\n\u001b[1;32m      9\u001b[0m analogy_result \u001b[38;5;241m=\u001b[39m model_2006\u001b[38;5;241m.\u001b[39mwv\u001b[38;5;241m.\u001b[39mmost_similar(positive\u001b[38;5;241m=\u001b[39m[\u001b[38;5;124m'\u001b[39m\u001b[38;5;124mseducer\u001b[39m\u001b[38;5;124m'\u001b[39m, \u001b[38;5;124m'\u001b[39m\u001b[38;5;124mman\u001b[39m\u001b[38;5;124m'\u001b[39m], negative\u001b[38;5;241m=\u001b[39m[\u001b[38;5;124m'\u001b[39m\u001b[38;5;124mwoman\u001b[39m\u001b[38;5;124m'\u001b[39m], topn\u001b[38;5;241m=\u001b[39m\u001b[38;5;241m1\u001b[39m)\n",
      "File \u001b[0;32m~/anaconda3/lib/python3.11/site-packages/gensim/models/keyedvectors.py:841\u001b[0m, in \u001b[0;36mKeyedVectors.most_similar\u001b[0;34m(self, positive, negative, topn, clip_start, clip_end, restrict_vocab, indexer)\u001b[0m\n\u001b[1;32m    838\u001b[0m         weight[idx] \u001b[38;5;241m=\u001b[39m item[\u001b[38;5;241m1\u001b[39m]\n\u001b[1;32m    840\u001b[0m \u001b[38;5;66;03m# compute the weighted average of all keys\u001b[39;00m\n\u001b[0;32m--> 841\u001b[0m mean \u001b[38;5;241m=\u001b[39m \u001b[38;5;28mself\u001b[39m\u001b[38;5;241m.\u001b[39mget_mean_vector(keys, weight, pre_normalize\u001b[38;5;241m=\u001b[39m\u001b[38;5;28;01mTrue\u001b[39;00m, post_normalize\u001b[38;5;241m=\u001b[39m\u001b[38;5;28;01mTrue\u001b[39;00m, ignore_missing\u001b[38;5;241m=\u001b[39m\u001b[38;5;28;01mFalse\u001b[39;00m)\n\u001b[1;32m    842\u001b[0m all_keys \u001b[38;5;241m=\u001b[39m [\n\u001b[1;32m    843\u001b[0m     \u001b[38;5;28mself\u001b[39m\u001b[38;5;241m.\u001b[39mget_index(key) \u001b[38;5;28;01mfor\u001b[39;00m key \u001b[38;5;129;01min\u001b[39;00m keys \u001b[38;5;28;01mif\u001b[39;00m \u001b[38;5;28misinstance\u001b[39m(key, _KEY_TYPES) \u001b[38;5;129;01mand\u001b[39;00m \u001b[38;5;28mself\u001b[39m\u001b[38;5;241m.\u001b[39mhas_index_for(key)\n\u001b[1;32m    844\u001b[0m ]\n\u001b[1;32m    846\u001b[0m \u001b[38;5;28;01mif\u001b[39;00m indexer \u001b[38;5;129;01mis\u001b[39;00m \u001b[38;5;129;01mnot\u001b[39;00m \u001b[38;5;28;01mNone\u001b[39;00m \u001b[38;5;129;01mand\u001b[39;00m \u001b[38;5;28misinstance\u001b[39m(topn, \u001b[38;5;28mint\u001b[39m):\n",
      "File \u001b[0;32m~/anaconda3/lib/python3.11/site-packages/gensim/models/keyedvectors.py:518\u001b[0m, in \u001b[0;36mKeyedVectors.get_mean_vector\u001b[0;34m(self, keys, weights, pre_normalize, post_normalize, ignore_missing)\u001b[0m\n\u001b[1;32m    516\u001b[0m         total_weight \u001b[38;5;241m+\u001b[39m\u001b[38;5;241m=\u001b[39m \u001b[38;5;28mabs\u001b[39m(weights[idx])\n\u001b[1;32m    517\u001b[0m     \u001b[38;5;28;01melif\u001b[39;00m \u001b[38;5;129;01mnot\u001b[39;00m ignore_missing:\n\u001b[0;32m--> 518\u001b[0m         \u001b[38;5;28;01mraise\u001b[39;00m \u001b[38;5;167;01mKeyError\u001b[39;00m(\u001b[38;5;124mf\u001b[39m\u001b[38;5;124m\"\u001b[39m\u001b[38;5;124mKey \u001b[39m\u001b[38;5;124m'\u001b[39m\u001b[38;5;132;01m{\u001b[39;00mkey\u001b[38;5;132;01m}\u001b[39;00m\u001b[38;5;124m'\u001b[39m\u001b[38;5;124m not present in vocabulary\u001b[39m\u001b[38;5;124m\"\u001b[39m)\n\u001b[1;32m    520\u001b[0m \u001b[38;5;28;01mif\u001b[39;00m total_weight \u001b[38;5;241m>\u001b[39m \u001b[38;5;241m0\u001b[39m:\n\u001b[1;32m    521\u001b[0m     mean \u001b[38;5;241m=\u001b[39m mean \u001b[38;5;241m/\u001b[39m total_weight\n",
      "\u001b[0;31mKeyError\u001b[0m: \"Key 'seducer' not present in vocabulary\""
     ]
    }
   ],
   "source": [
    "analogy_result = model_1849.wv.most_similar(positive=['seducer', 'man'], negative=['woman'], topn=1)\n",
    "print(f\"Word analogy result for the year 1800-1849: {analogy_result}\")\n",
    "analogy_result = model_1920.wv.most_similar(positive=['seducer', 'man'], negative=['woman'], topn=1)\n",
    "print(f\"Word analogy result for the year 1850-1920: {analogy_result}\")\n",
    "analogy_result = model_1970.wv.most_similar(positive=['seducer', 'man'], negative=['woman'], topn=1)\n",
    "print(f\"Word analogy result for the year 1921-1970: {analogy_result}\")\n",
    "analogy_result = model_1990.wv.most_similar(positive=['seducer', 'man'], negative=['woman'], topn=1)\n",
    "print(f\"Word analogy result for the year 1971-1990: {analogy_result}\")"
   ]
  },
  {
   "cell_type": "code",
   "execution_count": 34,
   "id": "67f00ffc",
   "metadata": {},
   "outputs": [
    {
     "ename": "KeyError",
     "evalue": "\"Key 'seducer' not present in vocabulary\"",
     "output_type": "error",
     "traceback": [
      "\u001b[0;31m---------------------------------------------------------------------------\u001b[0m",
      "\u001b[0;31mKeyError\u001b[0m                                  Traceback (most recent call last)",
      "Cell \u001b[0;32mIn[34], line 1\u001b[0m\n\u001b[0;32m----> 1\u001b[0m analogy_result \u001b[38;5;241m=\u001b[39m model_2006\u001b[38;5;241m.\u001b[39mwv\u001b[38;5;241m.\u001b[39mmost_similar(positive\u001b[38;5;241m=\u001b[39m[\u001b[38;5;124m'\u001b[39m\u001b[38;5;124mseducer\u001b[39m\u001b[38;5;124m'\u001b[39m, \u001b[38;5;124m'\u001b[39m\u001b[38;5;124mman\u001b[39m\u001b[38;5;124m'\u001b[39m], negative\u001b[38;5;241m=\u001b[39m[\u001b[38;5;124m'\u001b[39m\u001b[38;5;124mwoman\u001b[39m\u001b[38;5;124m'\u001b[39m], topn\u001b[38;5;241m=\u001b[39m\u001b[38;5;241m1\u001b[39m)\n\u001b[1;32m      2\u001b[0m \u001b[38;5;28mprint\u001b[39m(\u001b[38;5;124mf\u001b[39m\u001b[38;5;124m\"\u001b[39m\u001b[38;5;124mWord analogy result for the year 1991-2006: \u001b[39m\u001b[38;5;132;01m{\u001b[39;00manalogy_result\u001b[38;5;132;01m}\u001b[39;00m\u001b[38;5;124m\"\u001b[39m)\n",
      "File \u001b[0;32m~/anaconda3/lib/python3.11/site-packages/gensim/models/keyedvectors.py:841\u001b[0m, in \u001b[0;36mKeyedVectors.most_similar\u001b[0;34m(self, positive, negative, topn, clip_start, clip_end, restrict_vocab, indexer)\u001b[0m\n\u001b[1;32m    838\u001b[0m         weight[idx] \u001b[38;5;241m=\u001b[39m item[\u001b[38;5;241m1\u001b[39m]\n\u001b[1;32m    840\u001b[0m \u001b[38;5;66;03m# compute the weighted average of all keys\u001b[39;00m\n\u001b[0;32m--> 841\u001b[0m mean \u001b[38;5;241m=\u001b[39m \u001b[38;5;28mself\u001b[39m\u001b[38;5;241m.\u001b[39mget_mean_vector(keys, weight, pre_normalize\u001b[38;5;241m=\u001b[39m\u001b[38;5;28;01mTrue\u001b[39;00m, post_normalize\u001b[38;5;241m=\u001b[39m\u001b[38;5;28;01mTrue\u001b[39;00m, ignore_missing\u001b[38;5;241m=\u001b[39m\u001b[38;5;28;01mFalse\u001b[39;00m)\n\u001b[1;32m    842\u001b[0m all_keys \u001b[38;5;241m=\u001b[39m [\n\u001b[1;32m    843\u001b[0m     \u001b[38;5;28mself\u001b[39m\u001b[38;5;241m.\u001b[39mget_index(key) \u001b[38;5;28;01mfor\u001b[39;00m key \u001b[38;5;129;01min\u001b[39;00m keys \u001b[38;5;28;01mif\u001b[39;00m \u001b[38;5;28misinstance\u001b[39m(key, _KEY_TYPES) \u001b[38;5;129;01mand\u001b[39;00m \u001b[38;5;28mself\u001b[39m\u001b[38;5;241m.\u001b[39mhas_index_for(key)\n\u001b[1;32m    844\u001b[0m ]\n\u001b[1;32m    846\u001b[0m \u001b[38;5;28;01mif\u001b[39;00m indexer \u001b[38;5;129;01mis\u001b[39;00m \u001b[38;5;129;01mnot\u001b[39;00m \u001b[38;5;28;01mNone\u001b[39;00m \u001b[38;5;129;01mand\u001b[39;00m \u001b[38;5;28misinstance\u001b[39m(topn, \u001b[38;5;28mint\u001b[39m):\n",
      "File \u001b[0;32m~/anaconda3/lib/python3.11/site-packages/gensim/models/keyedvectors.py:518\u001b[0m, in \u001b[0;36mKeyedVectors.get_mean_vector\u001b[0;34m(self, keys, weights, pre_normalize, post_normalize, ignore_missing)\u001b[0m\n\u001b[1;32m    516\u001b[0m         total_weight \u001b[38;5;241m+\u001b[39m\u001b[38;5;241m=\u001b[39m \u001b[38;5;28mabs\u001b[39m(weights[idx])\n\u001b[1;32m    517\u001b[0m     \u001b[38;5;28;01melif\u001b[39;00m \u001b[38;5;129;01mnot\u001b[39;00m ignore_missing:\n\u001b[0;32m--> 518\u001b[0m         \u001b[38;5;28;01mraise\u001b[39;00m \u001b[38;5;167;01mKeyError\u001b[39;00m(\u001b[38;5;124mf\u001b[39m\u001b[38;5;124m\"\u001b[39m\u001b[38;5;124mKey \u001b[39m\u001b[38;5;124m'\u001b[39m\u001b[38;5;132;01m{\u001b[39;00mkey\u001b[38;5;132;01m}\u001b[39;00m\u001b[38;5;124m'\u001b[39m\u001b[38;5;124m not present in vocabulary\u001b[39m\u001b[38;5;124m\"\u001b[39m)\n\u001b[1;32m    520\u001b[0m \u001b[38;5;28;01mif\u001b[39;00m total_weight \u001b[38;5;241m>\u001b[39m \u001b[38;5;241m0\u001b[39m:\n\u001b[1;32m    521\u001b[0m     mean \u001b[38;5;241m=\u001b[39m mean \u001b[38;5;241m/\u001b[39m total_weight\n",
      "\u001b[0;31mKeyError\u001b[0m: \"Key 'seducer' not present in vocabulary\""
     ]
    }
   ],
   "source": [
    "analogy_result = model_2006.wv.most_similar(positive=['seducer', 'man'], negative=['woman'], topn=1)\n",
    "print(f\"Word analogy result for the year 1991-2006: {analogy_result}\")"
   ]
  },
  {
   "cell_type": "markdown",
   "id": "a47ce986-d075-4cdc-88e5-58daa6284395",
   "metadata": {},
   "source": [
    "# Statements where the word \"SEDUCER\" is used"
   ]
  },
  {
   "cell_type": "code",
   "execution_count": 1,
   "id": "1351bbf3",
   "metadata": {},
   "outputs": [],
   "source": [
    "import os\n",
    "import nltk\n",
    "from nltk.tokenize import sent_tokenize"
   ]
  },
  {
   "cell_type": "code",
   "execution_count": 2,
   "id": "b1c5562c",
   "metadata": {},
   "outputs": [
    {
     "name": "stderr",
     "output_type": "stream",
     "text": [
      "[nltk_data] Downloading package punkt to\n",
      "[nltk_data]     /Users/shaistasyeda/nltk_data...\n",
      "[nltk_data]   Package punkt is already up-to-date!\n"
     ]
    },
    {
     "data": {
      "text/plain": [
       "True"
      ]
     },
     "execution_count": 2,
     "metadata": {},
     "output_type": "execute_result"
    }
   ],
   "source": [
    "nltk.download('punkt')"
   ]
  },
  {
   "cell_type": "code",
   "execution_count": 3,
   "id": "fe23d2f4",
   "metadata": {},
   "outputs": [],
   "source": [
    "def get_list_of_text_files(directory_path):\n",
    "    return [os.path.join(directory_path, file) for file in os.listdir(directory_path) if file.endswith('.txt')]"
   ]
  },
  {
   "cell_type": "code",
   "execution_count": 4,
   "id": "270ca768",
   "metadata": {},
   "outputs": [],
   "source": [
    "# Function to load the corpus from a file\n",
    "def load_corpus(filepath):\n",
    "    with open(filepath, 'r', encoding='utf-8') as file:\n",
    "        text = file.read()\n",
    "    return text"
   ]
  },
  {
   "cell_type": "code",
   "execution_count": 8,
   "id": "5581b927",
   "metadata": {},
   "outputs": [],
   "source": [
    "# Function to find sentences\n",
    "def find_sentences_containing_word(sentences, word, filename):\n",
    "    return {(sentence, filename) for sentence in sentences if word in sentence.lower()}"
   ]
  },
  {
   "cell_type": "code",
   "execution_count": 6,
   "id": "78b2a2c7",
   "metadata": {},
   "outputs": [],
   "source": [
    "# Function to print full sentences with file info\n",
    "def print_full_sentences(sentences_with_files):\n",
    "    for sentence, filename in sentences_with_files:\n",
    "        print(f\"File: {filename}\\nSentence: {sentence}\\n\")"
   ]
  },
  {
   "cell_type": "code",
   "execution_count": 9,
   "id": "671982c5",
   "metadata": {},
   "outputs": [
    {
     "name": "stdout",
     "output_type": "stream",
     "text": [
      "File: 1839_merged.txt\n",
      "Sentence: He declared that the bastardy enactments had, in many cases, operated to give perfect impunity to the seducer; while it caused, but too often, the suicide of the female, or the murder of the offspring.\n",
      "\n",
      "File: 1835_merged.txt\n",
      "Sentence: not upon the priest; not upon the seducer;—no, but upon the unfortunate woman, and her children!\n",
      "\n",
      "File: 1822_merged.txt\n",
      "Sentence: \"—He knew the law under which these men were proceeded against was an old one; but whatever justice there might be in proceeding against Craven, as the seducer of artificers to leave the country, it was an extraordinary hardship that the men themselves should be pun-\n",
      "\n",
      "657\n",
      "ished for attempting to take their industry to a place where they saw the best choice of gaining a livelihood.\n",
      "\n",
      "File: 1857_merged.txt\n",
      "Sentence: and learned Gentleman meant to say was, that the adultress should be compelled to remain single during the life of her former husband.said, he thought that if they prevented the intermarriage of the guilty parties, so far from promoting morality, they would simply encourage seduction, by freeing the seducer from the obligation which society imposed upon him of compensating by marriage the woman whom he had wronged.said, as the Amendment of which he had given notice had been virtually negatived by the division just taken, he did not feel justified in pressing it upon the Committee.said, he had an Amendment to propose which would require him to make a statement of some length.\n",
      "\n",
      "File: 1986_merged.txt\n",
      "Sentence: Protectionism is the great seducer of older, traditional industries and, I believe, should be spurned.\n",
      "\n",
      "File: 1876_merged.txt\n",
      "Sentence: Let the shame of its fall rest on the head of the seducer; but to it let not the glory be denied of having produced a greater proportion of learned, eloquent, and honourable men than there were ever before congregated in a single Legislative Chamber.\n",
      "\n",
      "File: 1834_merged.txt\n",
      "Sentence: It is, Sir, a Bill of the most monstrous tyranny, and of the grossest injustice; and for this reason I shall vote against its third reading.said, that if the noble Lord would pursue his inquiries in order to bring conviction home to those who were equally guilty with the humble freeman, he should have his cordial support.was of opinion, that the vengeance of the House ought to fall on the seducers, and not on the seduced.\n",
      "\n",
      "File: 1861_merged.txt\n",
      "Sentence: It gave an opportunity to the seducer to inveigle a virtuous young woman into a snare, and enabled him, when his passions were satiated, to get rid of her.\n",
      "\n",
      "File: 1904_merged.txt\n",
      "Sentence: It is a source of great discomfort and alarm to find that policemen, who should protect the public and farmers' daughters walking along the roads, are found in the ranks of seducers.\n",
      "\n",
      "File: 1845_merged.txt\n",
      "Sentence: Mr. Mayer went to the house of the seducer and committed an assault upon him by striking him with a stick.\n",
      "\n",
      "File: 1834_merged.txt\n",
      "Sentence: By the  th,  th, and  st clauses, they had declared that in future the burthen of an illegitimate child should be entirely thrown on the mother, and that all responsibility should be removed from the putative father, or in other words that the woman was the seducer, and the man the seduced.\n",
      "\n",
      "File: 1965_merged.txt\n",
      "Sentence: This will require Commonwealth consultation with a view to reciprocal legislation in Commonwealth countries.Illegitimacy29.asked the Secretary of State for the Home Department whether he is aware that the seducer of a married woman living with her husband cannot be ordered to make any payment for a child born out of the affair; and whether he will seek to amend the Affiliation Act to ensure that such putative fathers no longer can escape from their responsibilities to their children.\n",
      "\n",
      "File: 1809_merged.txt\n",
      "Sentence: He thought, too, that it was a measure of unparalleled cruelty to some individuals, who would be thereby deprived of all hope, and abandoned to a life of despair, exclusion and penance, that the hardiest of their seducers would shrink from the bare contemplation of; besides that, there was in the nature of such an Order an unwarrantable interference with the privileges of that house.\n",
      "\n",
      "File: 1857_merged.txt\n",
      "Sentence: With regard to the pecuniary fine, it was quite clear that the wealthy seducer of his neighbour's wife, if he only paid the money, might marry or discard the woman as he chose, and then nothing more would be said about it; while the poor man would be sent to prison, not because he had committed a great offence, but because he had not the money wherewith to condone it.\n",
      "\n"
     ]
    }
   ],
   "source": [
    "directory_path = \"/Users/shaistasyeda/Desktop/DataSet/merged-files\"  \n",
    "file_list = get_list_of_text_files(directory_path)\n",
    "\n",
    "all_sentences = set()\n",
    "\n",
    "for file in file_list:\n",
    "    corpus = load_corpus(file)\n",
    "    sentences = sent_tokenize(corpus)\n",
    "    \n",
    "    context_sentences_for_seducer = find_sentences_containing_word(sentences, \"seducer\", os.path.basename(file))\n",
    "    all_sentences.update(context_sentences_for_seducer)\n",
    "\n",
    "print_full_sentences(all_sentences)"
   ]
  },
  {
   "cell_type": "code",
   "execution_count": null,
   "id": "174ec1e6",
   "metadata": {},
   "outputs": [],
   "source": []
  }
 ],
 "metadata": {
  "kernelspec": {
   "display_name": "Python 3 (ipykernel)",
   "language": "python",
   "name": "python3"
  },
  "language_info": {
   "codemirror_mode": {
    "name": "ipython",
    "version": 3
   },
   "file_extension": ".py",
   "mimetype": "text/x-python",
   "name": "python",
   "nbconvert_exporter": "python",
   "pygments_lexer": "ipython3",
   "version": "3.11.4"
  }
 },
 "nbformat": 4,
 "nbformat_minor": 5
}
